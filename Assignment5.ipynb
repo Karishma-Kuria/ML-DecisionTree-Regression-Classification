{
  "cells": [
    {
      "cell_type": "markdown",
      "metadata": {
        "id": "view-in-github",
        "colab_type": "text"
      },
      "source": [
        "<a href=\"https://colab.research.google.com/github/Karishma-Kuria/ML-DecisionTree-Regression-Classification/blob/main/Assignment5.ipynb\" target=\"_parent\"><img src=\"https://colab.research.google.com/assets/colab-badge.svg\" alt=\"Open In Colab\"/></a>"
      ]
    },
    {
      "cell_type": "markdown",
      "metadata": {
        "id": "4HKtWZPMKIea"
      },
      "source": [
        "### **MLP, Regression, Latent Manifold on FootBall event dataset.**"
      ]
    },
    {
      "cell_type": "markdown",
      "metadata": {
        "id": "5zkQOm3ntE3c"
      },
      "source": [
        "### In this colab I have used Various Regression Algorithms to do below prediction:\n",
        "\n",
        "\n",
        "### 1.   Predict if a shot is goal or no goal.\n",
        "### 2.   Predict the result of the match\n",
        "\n"
      ]
    },
    {
      "cell_type": "markdown",
      "metadata": {
        "id": "jl-yd6QJOcjr"
      },
      "source": [
        "The dataset contains details of 9,074 games, totaling 941,009 events which were played in the biggest 5 European football leagues: Spain, England, Germany, Italy, France from 2011/2012 season to 2016/2017 season as of 25.01.2017. The dataset contains 3 files:\n",
        "\n",
        "dictionary.txt\n",
        "events.csv\n",
        "ginf.csv"
      ]
    },
    {
      "cell_type": "code",
      "execution_count": 2,
      "metadata": {
        "id": "rrXvwYIkJWjN"
      },
      "outputs": [],
      "source": [
        "# importing relevant libraries\n",
        "import pandas as pd\n",
        "import numpy as np\n",
        "\n",
        "import matplotlib.pyplot as plt\n",
        "import plotly.express as px\n",
        "import plotly.graph_objects as go\n",
        "import seaborn as sns\n",
        "from sklearn.neural_network import MLPRegressor\n",
        "from sklearn.linear_model import LinearRegression\n",
        "from sklearn.ensemble import RandomForestRegressor, AdaBoostRegressor\n",
        "from sklearn.neighbors import KNeighborsRegressor\n",
        "import xgboost as xgb\n",
        "from sklearn.linear_model import LogisticRegression\n",
        "from sklearn.model_selection import KFold, StratifiedKFold, cross_val_score\n",
        "\n",
        "from sklearn import linear_model, tree, ensemble\n",
        "from sklearn.naive_bayes import GaussianNB\n",
        "import xgboost\n",
        "from xgboost import XGBClassifier\n",
        "from sklearn.neighbors import KNeighborsClassifier\n",
        "from sklearn.tree import DecisionTreeClassifier\n",
        "from sklearn.linear_model import LogisticRegression\n",
        "from sklearn.ensemble import VotingClassifier\n",
        "\n",
        "from sklearn.metrics import accuracy_score, confusion_matrix, ConfusionMatrixDisplay, classification_report\n",
        "import time\n",
        "from sklearn.pipeline import Pipeline\n",
        "from sklearn.preprocessing import StandardScaler, OneHotEncoder , MinMaxScaler , LabelEncoder\n",
        "from sklearn.compose import  ColumnTransformer\n",
        "from sklearn.linear_model import LogisticRegression\n",
        "from sklearn.model_selection import train_test_split, GridSearchCV"
      ]
    },
    {
      "cell_type": "markdown",
      "metadata": {
        "id": "Gv-JxO2EJiYq"
      },
      "source": [
        "### Loading dataset"
      ]
    },
    {
      "cell_type": "code",
      "execution_count": 3,
      "metadata": {
        "colab": {
          "base_uri": "https://localhost:8080/"
        },
        "id": "7WoKuzTXJk3f",
        "outputId": "a39f6f90-82de-4189-eb06-79e450f9979b"
      },
      "outputs": [
        {
          "output_type": "stream",
          "name": "stdout",
          "text": [
            "Mounted at /content/drive\n"
          ]
        }
      ],
      "source": [
        "from google.colab import drive\n",
        "drive.mount('/content/drive')"
      ]
    },
    {
      "cell_type": "code",
      "execution_count": 5,
      "metadata": {
        "id": "5sd6wihttAIw"
      },
      "outputs": [],
      "source": [
        "event_path = \"/content/drive/MyDrive/ML_DataSet/events.csv\"\n",
        "info_path = \"/content/drive/My Drive/ML_DataSet/ginf.csv\"\n",
        "dict_path = \"/content/drive/My Drive/ML_DataSet/dictionary.txt\"\n",
        "game_path_2018_2019 =\"https://datahub.io/sports-data/english-premier-league/r/0.csv\"\n",
        "game_path_2017_2018 = \"https://datahub.io/sports-data/english-premier-league/r/1.csv\"\n",
        "game_path_2016_2017 = \"https://datahub.io/sports-data/english-premier-league/r/2.csv\"\n",
        "game_path_2015_2016 = \"https://datahub.io/sports-data/english-premier-league/r/3.csv\"\n",
        "game_path_2014_2015 = \"https://datahub.io/sports-data/english-premier-league/r/4.csv\"\n",
        "game_path_2013_2014 = \"https://datahub.io/sports-data/english-premier-league/r/5.csv\"\n",
        "game_path_2012_2013 = \"https://datahub.io/sports-data/english-premier-league/r/6.csv\"\n",
        "game_path_2011_2012 = \"https://datahub.io/sports-data/english-premier-league/r/7.csv\"\n",
        "game_path_2010_2011 = \"https://datahub.io/sports-data/english-premier-league/r/8.csv\"\n",
        "game_path_2009_2010 = \"https://datahub.io/sports-data/english-premier-league/r/9.csv\""
      ]
    },
    {
      "cell_type": "code",
      "execution_count": 6,
      "metadata": {
        "colab": {
          "base_uri": "https://localhost:8080/",
          "height": 443
        },
        "id": "Miwv59NIJ6nn",
        "outputId": "5638869d-3df2-4b41-bb91-e0ad7ec8e6f4"
      },
      "outputs": [
        {
          "output_type": "execute_result",
          "data": {
            "text/html": [
              "\n",
              "  <div id=\"df-4a5cacbb-3cda-451f-9f01-6723729bf81f\">\n",
              "    <div class=\"colab-df-container\">\n",
              "      <div>\n",
              "<style scoped>\n",
              "    .dataframe tbody tr th:only-of-type {\n",
              "        vertical-align: middle;\n",
              "    }\n",
              "\n",
              "    .dataframe tbody tr th {\n",
              "        vertical-align: top;\n",
              "    }\n",
              "\n",
              "    .dataframe thead th {\n",
              "        text-align: right;\n",
              "    }\n",
              "</style>\n",
              "<table border=\"1\" class=\"dataframe\">\n",
              "  <thead>\n",
              "    <tr style=\"text-align: right;\">\n",
              "      <th></th>\n",
              "      <th>id_odsp</th>\n",
              "      <th>link_odsp</th>\n",
              "      <th>adv_stats</th>\n",
              "      <th>date</th>\n",
              "      <th>league</th>\n",
              "      <th>season</th>\n",
              "      <th>country</th>\n",
              "      <th>ht</th>\n",
              "      <th>at</th>\n",
              "      <th>fthg</th>\n",
              "      <th>ftag</th>\n",
              "      <th>odd_h</th>\n",
              "      <th>odd_d</th>\n",
              "      <th>odd_a</th>\n",
              "      <th>odd_over</th>\n",
              "      <th>odd_under</th>\n",
              "      <th>odd_bts</th>\n",
              "      <th>odd_bts_n</th>\n",
              "    </tr>\n",
              "  </thead>\n",
              "  <tbody>\n",
              "    <tr>\n",
              "      <th>0</th>\n",
              "      <td>UFot0hit/</td>\n",
              "      <td>/soccer/germany/bundesliga-2011-2012/dortmund-...</td>\n",
              "      <td>True</td>\n",
              "      <td>2011-08-05</td>\n",
              "      <td>D1</td>\n",
              "      <td>2012</td>\n",
              "      <td>germany</td>\n",
              "      <td>Borussia Dortmund</td>\n",
              "      <td>Hamburg SV</td>\n",
              "      <td>3</td>\n",
              "      <td>1</td>\n",
              "      <td>1.56</td>\n",
              "      <td>4.41</td>\n",
              "      <td>7.42</td>\n",
              "      <td>NaN</td>\n",
              "      <td>NaN</td>\n",
              "      <td>NaN</td>\n",
              "      <td>NaN</td>\n",
              "    </tr>\n",
              "    <tr>\n",
              "      <th>1</th>\n",
              "      <td>Aw5DflLH/</td>\n",
              "      <td>/soccer/germany/bundesliga-2011-2012/augsburg-...</td>\n",
              "      <td>True</td>\n",
              "      <td>2011-08-06</td>\n",
              "      <td>D1</td>\n",
              "      <td>2012</td>\n",
              "      <td>germany</td>\n",
              "      <td>FC Augsburg</td>\n",
              "      <td>SC Freiburg</td>\n",
              "      <td>2</td>\n",
              "      <td>2</td>\n",
              "      <td>2.36</td>\n",
              "      <td>3.60</td>\n",
              "      <td>3.40</td>\n",
              "      <td>NaN</td>\n",
              "      <td>NaN</td>\n",
              "      <td>NaN</td>\n",
              "      <td>NaN</td>\n",
              "    </tr>\n",
              "    <tr>\n",
              "      <th>2</th>\n",
              "      <td>bkjpaC6n/</td>\n",
              "      <td>/soccer/germany/bundesliga-2011-2012/werder-br...</td>\n",
              "      <td>True</td>\n",
              "      <td>2011-08-06</td>\n",
              "      <td>D1</td>\n",
              "      <td>2012</td>\n",
              "      <td>germany</td>\n",
              "      <td>Werder Bremen</td>\n",
              "      <td>Kaiserslautern</td>\n",
              "      <td>2</td>\n",
              "      <td>0</td>\n",
              "      <td>1.83</td>\n",
              "      <td>4.20</td>\n",
              "      <td>4.80</td>\n",
              "      <td>NaN</td>\n",
              "      <td>NaN</td>\n",
              "      <td>NaN</td>\n",
              "      <td>NaN</td>\n",
              "    </tr>\n",
              "    <tr>\n",
              "      <th>3</th>\n",
              "      <td>CzPV312a/</td>\n",
              "      <td>/soccer/france/ligue-1-2011-2012/paris-sg-lori...</td>\n",
              "      <td>True</td>\n",
              "      <td>2011-08-06</td>\n",
              "      <td>F1</td>\n",
              "      <td>2012</td>\n",
              "      <td>france</td>\n",
              "      <td>Paris Saint-Germain</td>\n",
              "      <td>Lorient</td>\n",
              "      <td>0</td>\n",
              "      <td>1</td>\n",
              "      <td>1.55</td>\n",
              "      <td>4.50</td>\n",
              "      <td>9.40</td>\n",
              "      <td>NaN</td>\n",
              "      <td>NaN</td>\n",
              "      <td>NaN</td>\n",
              "      <td>NaN</td>\n",
              "    </tr>\n",
              "    <tr>\n",
              "      <th>4</th>\n",
              "      <td>GUOdmtII/</td>\n",
              "      <td>/soccer/france/ligue-1-2011-2012/caen-valencie...</td>\n",
              "      <td>True</td>\n",
              "      <td>2011-08-06</td>\n",
              "      <td>F1</td>\n",
              "      <td>2012</td>\n",
              "      <td>france</td>\n",
              "      <td>Caen</td>\n",
              "      <td>Valenciennes</td>\n",
              "      <td>1</td>\n",
              "      <td>0</td>\n",
              "      <td>2.50</td>\n",
              "      <td>3.40</td>\n",
              "      <td>3.45</td>\n",
              "      <td>NaN</td>\n",
              "      <td>NaN</td>\n",
              "      <td>NaN</td>\n",
              "      <td>NaN</td>\n",
              "    </tr>\n",
              "  </tbody>\n",
              "</table>\n",
              "</div>\n",
              "      <button class=\"colab-df-convert\" onclick=\"convertToInteractive('df-4a5cacbb-3cda-451f-9f01-6723729bf81f')\"\n",
              "              title=\"Convert this dataframe to an interactive table.\"\n",
              "              style=\"display:none;\">\n",
              "        \n",
              "  <svg xmlns=\"http://www.w3.org/2000/svg\" height=\"24px\"viewBox=\"0 0 24 24\"\n",
              "       width=\"24px\">\n",
              "    <path d=\"M0 0h24v24H0V0z\" fill=\"none\"/>\n",
              "    <path d=\"M18.56 5.44l.94 2.06.94-2.06 2.06-.94-2.06-.94-.94-2.06-.94 2.06-2.06.94zm-11 1L8.5 8.5l.94-2.06 2.06-.94-2.06-.94L8.5 2.5l-.94 2.06-2.06.94zm10 10l.94 2.06.94-2.06 2.06-.94-2.06-.94-.94-2.06-.94 2.06-2.06.94z\"/><path d=\"M17.41 7.96l-1.37-1.37c-.4-.4-.92-.59-1.43-.59-.52 0-1.04.2-1.43.59L10.3 9.45l-7.72 7.72c-.78.78-.78 2.05 0 2.83L4 21.41c.39.39.9.59 1.41.59.51 0 1.02-.2 1.41-.59l7.78-7.78 2.81-2.81c.8-.78.8-2.07 0-2.86zM5.41 20L4 18.59l7.72-7.72 1.47 1.35L5.41 20z\"/>\n",
              "  </svg>\n",
              "      </button>\n",
              "      \n",
              "  <style>\n",
              "    .colab-df-container {\n",
              "      display:flex;\n",
              "      flex-wrap:wrap;\n",
              "      gap: 12px;\n",
              "    }\n",
              "\n",
              "    .colab-df-convert {\n",
              "      background-color: #E8F0FE;\n",
              "      border: none;\n",
              "      border-radius: 50%;\n",
              "      cursor: pointer;\n",
              "      display: none;\n",
              "      fill: #1967D2;\n",
              "      height: 32px;\n",
              "      padding: 0 0 0 0;\n",
              "      width: 32px;\n",
              "    }\n",
              "\n",
              "    .colab-df-convert:hover {\n",
              "      background-color: #E2EBFA;\n",
              "      box-shadow: 0px 1px 2px rgba(60, 64, 67, 0.3), 0px 1px 3px 1px rgba(60, 64, 67, 0.15);\n",
              "      fill: #174EA6;\n",
              "    }\n",
              "\n",
              "    [theme=dark] .colab-df-convert {\n",
              "      background-color: #3B4455;\n",
              "      fill: #D2E3FC;\n",
              "    }\n",
              "\n",
              "    [theme=dark] .colab-df-convert:hover {\n",
              "      background-color: #434B5C;\n",
              "      box-shadow: 0px 1px 3px 1px rgba(0, 0, 0, 0.15);\n",
              "      filter: drop-shadow(0px 1px 2px rgba(0, 0, 0, 0.3));\n",
              "      fill: #FFFFFF;\n",
              "    }\n",
              "  </style>\n",
              "\n",
              "      <script>\n",
              "        const buttonEl =\n",
              "          document.querySelector('#df-4a5cacbb-3cda-451f-9f01-6723729bf81f button.colab-df-convert');\n",
              "        buttonEl.style.display =\n",
              "          google.colab.kernel.accessAllowed ? 'block' : 'none';\n",
              "\n",
              "        async function convertToInteractive(key) {\n",
              "          const element = document.querySelector('#df-4a5cacbb-3cda-451f-9f01-6723729bf81f');\n",
              "          const dataTable =\n",
              "            await google.colab.kernel.invokeFunction('convertToInteractive',\n",
              "                                                     [key], {});\n",
              "          if (!dataTable) return;\n",
              "\n",
              "          const docLinkHtml = 'Like what you see? Visit the ' +\n",
              "            '<a target=\"_blank\" href=https://colab.research.google.com/notebooks/data_table.ipynb>data table notebook</a>'\n",
              "            + ' to learn more about interactive tables.';\n",
              "          element.innerHTML = '';\n",
              "          dataTable['output_type'] = 'display_data';\n",
              "          await google.colab.output.renderOutput(dataTable, element);\n",
              "          const docLink = document.createElement('div');\n",
              "          docLink.innerHTML = docLinkHtml;\n",
              "          element.appendChild(docLink);\n",
              "        }\n",
              "      </script>\n",
              "    </div>\n",
              "  </div>\n",
              "  "
            ],
            "text/plain": [
              "     id_odsp                                          link_odsp  adv_stats  \\\n",
              "0  UFot0hit/  /soccer/germany/bundesliga-2011-2012/dortmund-...       True   \n",
              "1  Aw5DflLH/  /soccer/germany/bundesliga-2011-2012/augsburg-...       True   \n",
              "2  bkjpaC6n/  /soccer/germany/bundesliga-2011-2012/werder-br...       True   \n",
              "3  CzPV312a/  /soccer/france/ligue-1-2011-2012/paris-sg-lori...       True   \n",
              "4  GUOdmtII/  /soccer/france/ligue-1-2011-2012/caen-valencie...       True   \n",
              "\n",
              "         date league  season  country                   ht              at  \\\n",
              "0  2011-08-05     D1    2012  germany    Borussia Dortmund      Hamburg SV   \n",
              "1  2011-08-06     D1    2012  germany          FC Augsburg     SC Freiburg   \n",
              "2  2011-08-06     D1    2012  germany        Werder Bremen  Kaiserslautern   \n",
              "3  2011-08-06     F1    2012   france  Paris Saint-Germain         Lorient   \n",
              "4  2011-08-06     F1    2012   france                 Caen    Valenciennes   \n",
              "\n",
              "   fthg  ftag  odd_h  odd_d  odd_a  odd_over  odd_under  odd_bts  odd_bts_n  \n",
              "0     3     1   1.56   4.41   7.42       NaN        NaN      NaN        NaN  \n",
              "1     2     2   2.36   3.60   3.40       NaN        NaN      NaN        NaN  \n",
              "2     2     0   1.83   4.20   4.80       NaN        NaN      NaN        NaN  \n",
              "3     0     1   1.55   4.50   9.40       NaN        NaN      NaN        NaN  \n",
              "4     1     0   2.50   3.40   3.45       NaN        NaN      NaN        NaN  "
            ]
          },
          "metadata": {},
          "execution_count": 6
        }
      ],
      "source": [
        "game_events = pd.read_csv(event_path, engine=\"python\")\n",
        "game_info = pd.read_csv(info_path, engine=\"python\")\n",
        "game_info.head(5)"
      ]
    },
    {
      "cell_type": "code",
      "execution_count": 7,
      "metadata": {
        "colab": {
          "base_uri": "https://localhost:8080/",
          "height": 317
        },
        "id": "wcs0AAN351Ti",
        "outputId": "ae2bfed8-44b7-4d12-86d5-14e0dbce6b67"
      },
      "outputs": [
        {
          "output_type": "execute_result",
          "data": {
            "text/html": [
              "\n",
              "  <div id=\"df-23543665-10c3-408f-b8b0-d742fd7e5327\">\n",
              "    <div class=\"colab-df-container\">\n",
              "      <div>\n",
              "<style scoped>\n",
              "    .dataframe tbody tr th:only-of-type {\n",
              "        vertical-align: middle;\n",
              "    }\n",
              "\n",
              "    .dataframe tbody tr th {\n",
              "        vertical-align: top;\n",
              "    }\n",
              "\n",
              "    .dataframe thead th {\n",
              "        text-align: right;\n",
              "    }\n",
              "</style>\n",
              "<table border=\"1\" class=\"dataframe\">\n",
              "  <thead>\n",
              "    <tr style=\"text-align: right;\">\n",
              "      <th></th>\n",
              "      <th>Div</th>\n",
              "      <th>Date</th>\n",
              "      <th>HomeTeam</th>\n",
              "      <th>AwayTeam</th>\n",
              "      <th>FTHG</th>\n",
              "      <th>FTAG</th>\n",
              "      <th>FTR</th>\n",
              "      <th>HTHG</th>\n",
              "      <th>HTAG</th>\n",
              "      <th>HTR</th>\n",
              "      <th>...</th>\n",
              "      <th>SJA</th>\n",
              "      <th>GBH</th>\n",
              "      <th>GBD</th>\n",
              "      <th>GBA</th>\n",
              "      <th>BSH</th>\n",
              "      <th>BSD</th>\n",
              "      <th>BSA</th>\n",
              "      <th>SBH</th>\n",
              "      <th>SBD</th>\n",
              "      <th>SBA</th>\n",
              "    </tr>\n",
              "  </thead>\n",
              "  <tbody>\n",
              "    <tr>\n",
              "      <th>0</th>\n",
              "      <td>E0</td>\n",
              "      <td>10/08/2018</td>\n",
              "      <td>Man United</td>\n",
              "      <td>Leicester</td>\n",
              "      <td>2</td>\n",
              "      <td>1</td>\n",
              "      <td>H</td>\n",
              "      <td>1</td>\n",
              "      <td>0</td>\n",
              "      <td>H</td>\n",
              "      <td>...</td>\n",
              "      <td>NaN</td>\n",
              "      <td>NaN</td>\n",
              "      <td>NaN</td>\n",
              "      <td>NaN</td>\n",
              "      <td>NaN</td>\n",
              "      <td>NaN</td>\n",
              "      <td>NaN</td>\n",
              "      <td>NaN</td>\n",
              "      <td>NaN</td>\n",
              "      <td>NaN</td>\n",
              "    </tr>\n",
              "    <tr>\n",
              "      <th>1</th>\n",
              "      <td>E0</td>\n",
              "      <td>11/08/2018</td>\n",
              "      <td>Bournemouth</td>\n",
              "      <td>Cardiff</td>\n",
              "      <td>2</td>\n",
              "      <td>0</td>\n",
              "      <td>H</td>\n",
              "      <td>1</td>\n",
              "      <td>0</td>\n",
              "      <td>H</td>\n",
              "      <td>...</td>\n",
              "      <td>NaN</td>\n",
              "      <td>NaN</td>\n",
              "      <td>NaN</td>\n",
              "      <td>NaN</td>\n",
              "      <td>NaN</td>\n",
              "      <td>NaN</td>\n",
              "      <td>NaN</td>\n",
              "      <td>NaN</td>\n",
              "      <td>NaN</td>\n",
              "      <td>NaN</td>\n",
              "    </tr>\n",
              "    <tr>\n",
              "      <th>2</th>\n",
              "      <td>E0</td>\n",
              "      <td>11/08/2018</td>\n",
              "      <td>Fulham</td>\n",
              "      <td>Crystal Palace</td>\n",
              "      <td>0</td>\n",
              "      <td>2</td>\n",
              "      <td>A</td>\n",
              "      <td>0</td>\n",
              "      <td>1</td>\n",
              "      <td>A</td>\n",
              "      <td>...</td>\n",
              "      <td>NaN</td>\n",
              "      <td>NaN</td>\n",
              "      <td>NaN</td>\n",
              "      <td>NaN</td>\n",
              "      <td>NaN</td>\n",
              "      <td>NaN</td>\n",
              "      <td>NaN</td>\n",
              "      <td>NaN</td>\n",
              "      <td>NaN</td>\n",
              "      <td>NaN</td>\n",
              "    </tr>\n",
              "    <tr>\n",
              "      <th>3</th>\n",
              "      <td>E0</td>\n",
              "      <td>11/08/2018</td>\n",
              "      <td>Huddersfield</td>\n",
              "      <td>Chelsea</td>\n",
              "      <td>0</td>\n",
              "      <td>3</td>\n",
              "      <td>A</td>\n",
              "      <td>0</td>\n",
              "      <td>2</td>\n",
              "      <td>A</td>\n",
              "      <td>...</td>\n",
              "      <td>NaN</td>\n",
              "      <td>NaN</td>\n",
              "      <td>NaN</td>\n",
              "      <td>NaN</td>\n",
              "      <td>NaN</td>\n",
              "      <td>NaN</td>\n",
              "      <td>NaN</td>\n",
              "      <td>NaN</td>\n",
              "      <td>NaN</td>\n",
              "      <td>NaN</td>\n",
              "    </tr>\n",
              "    <tr>\n",
              "      <th>4</th>\n",
              "      <td>E0</td>\n",
              "      <td>11/08/2018</td>\n",
              "      <td>Newcastle</td>\n",
              "      <td>Tottenham</td>\n",
              "      <td>1</td>\n",
              "      <td>2</td>\n",
              "      <td>A</td>\n",
              "      <td>1</td>\n",
              "      <td>2</td>\n",
              "      <td>A</td>\n",
              "      <td>...</td>\n",
              "      <td>NaN</td>\n",
              "      <td>NaN</td>\n",
              "      <td>NaN</td>\n",
              "      <td>NaN</td>\n",
              "      <td>NaN</td>\n",
              "      <td>NaN</td>\n",
              "      <td>NaN</td>\n",
              "      <td>NaN</td>\n",
              "      <td>NaN</td>\n",
              "      <td>NaN</td>\n",
              "    </tr>\n",
              "  </tbody>\n",
              "</table>\n",
              "<p>5 rows × 77 columns</p>\n",
              "</div>\n",
              "      <button class=\"colab-df-convert\" onclick=\"convertToInteractive('df-23543665-10c3-408f-b8b0-d742fd7e5327')\"\n",
              "              title=\"Convert this dataframe to an interactive table.\"\n",
              "              style=\"display:none;\">\n",
              "        \n",
              "  <svg xmlns=\"http://www.w3.org/2000/svg\" height=\"24px\"viewBox=\"0 0 24 24\"\n",
              "       width=\"24px\">\n",
              "    <path d=\"M0 0h24v24H0V0z\" fill=\"none\"/>\n",
              "    <path d=\"M18.56 5.44l.94 2.06.94-2.06 2.06-.94-2.06-.94-.94-2.06-.94 2.06-2.06.94zm-11 1L8.5 8.5l.94-2.06 2.06-.94-2.06-.94L8.5 2.5l-.94 2.06-2.06.94zm10 10l.94 2.06.94-2.06 2.06-.94-2.06-.94-.94-2.06-.94 2.06-2.06.94z\"/><path d=\"M17.41 7.96l-1.37-1.37c-.4-.4-.92-.59-1.43-.59-.52 0-1.04.2-1.43.59L10.3 9.45l-7.72 7.72c-.78.78-.78 2.05 0 2.83L4 21.41c.39.39.9.59 1.41.59.51 0 1.02-.2 1.41-.59l7.78-7.78 2.81-2.81c.8-.78.8-2.07 0-2.86zM5.41 20L4 18.59l7.72-7.72 1.47 1.35L5.41 20z\"/>\n",
              "  </svg>\n",
              "      </button>\n",
              "      \n",
              "  <style>\n",
              "    .colab-df-container {\n",
              "      display:flex;\n",
              "      flex-wrap:wrap;\n",
              "      gap: 12px;\n",
              "    }\n",
              "\n",
              "    .colab-df-convert {\n",
              "      background-color: #E8F0FE;\n",
              "      border: none;\n",
              "      border-radius: 50%;\n",
              "      cursor: pointer;\n",
              "      display: none;\n",
              "      fill: #1967D2;\n",
              "      height: 32px;\n",
              "      padding: 0 0 0 0;\n",
              "      width: 32px;\n",
              "    }\n",
              "\n",
              "    .colab-df-convert:hover {\n",
              "      background-color: #E2EBFA;\n",
              "      box-shadow: 0px 1px 2px rgba(60, 64, 67, 0.3), 0px 1px 3px 1px rgba(60, 64, 67, 0.15);\n",
              "      fill: #174EA6;\n",
              "    }\n",
              "\n",
              "    [theme=dark] .colab-df-convert {\n",
              "      background-color: #3B4455;\n",
              "      fill: #D2E3FC;\n",
              "    }\n",
              "\n",
              "    [theme=dark] .colab-df-convert:hover {\n",
              "      background-color: #434B5C;\n",
              "      box-shadow: 0px 1px 3px 1px rgba(0, 0, 0, 0.15);\n",
              "      filter: drop-shadow(0px 1px 2px rgba(0, 0, 0, 0.3));\n",
              "      fill: #FFFFFF;\n",
              "    }\n",
              "  </style>\n",
              "\n",
              "      <script>\n",
              "        const buttonEl =\n",
              "          document.querySelector('#df-23543665-10c3-408f-b8b0-d742fd7e5327 button.colab-df-convert');\n",
              "        buttonEl.style.display =\n",
              "          google.colab.kernel.accessAllowed ? 'block' : 'none';\n",
              "\n",
              "        async function convertToInteractive(key) {\n",
              "          const element = document.querySelector('#df-23543665-10c3-408f-b8b0-d742fd7e5327');\n",
              "          const dataTable =\n",
              "            await google.colab.kernel.invokeFunction('convertToInteractive',\n",
              "                                                     [key], {});\n",
              "          if (!dataTable) return;\n",
              "\n",
              "          const docLinkHtml = 'Like what you see? Visit the ' +\n",
              "            '<a target=\"_blank\" href=https://colab.research.google.com/notebooks/data_table.ipynb>data table notebook</a>'\n",
              "            + ' to learn more about interactive tables.';\n",
              "          element.innerHTML = '';\n",
              "          dataTable['output_type'] = 'display_data';\n",
              "          await google.colab.output.renderOutput(dataTable, element);\n",
              "          const docLink = document.createElement('div');\n",
              "          docLink.innerHTML = docLinkHtml;\n",
              "          element.appendChild(docLink);\n",
              "        }\n",
              "      </script>\n",
              "    </div>\n",
              "  </div>\n",
              "  "
            ],
            "text/plain": [
              "  Div        Date      HomeTeam        AwayTeam  FTHG  FTAG FTR  HTHG  HTAG  \\\n",
              "0  E0  10/08/2018    Man United       Leicester     2     1   H     1     0   \n",
              "1  E0  11/08/2018   Bournemouth         Cardiff     2     0   H     1     0   \n",
              "2  E0  11/08/2018        Fulham  Crystal Palace     0     2   A     0     1   \n",
              "3  E0  11/08/2018  Huddersfield         Chelsea     0     3   A     0     2   \n",
              "4  E0  11/08/2018     Newcastle       Tottenham     1     2   A     1     2   \n",
              "\n",
              "  HTR  ... SJA  GBH  GBD  GBA  BSH  BSD  BSA  SBH  SBD  SBA  \n",
              "0   H  ... NaN  NaN  NaN  NaN  NaN  NaN  NaN  NaN  NaN  NaN  \n",
              "1   H  ... NaN  NaN  NaN  NaN  NaN  NaN  NaN  NaN  NaN  NaN  \n",
              "2   A  ... NaN  NaN  NaN  NaN  NaN  NaN  NaN  NaN  NaN  NaN  \n",
              "3   A  ... NaN  NaN  NaN  NaN  NaN  NaN  NaN  NaN  NaN  NaN  \n",
              "4   A  ... NaN  NaN  NaN  NaN  NaN  NaN  NaN  NaN  NaN  NaN  \n",
              "\n",
              "[5 rows x 77 columns]"
            ]
          },
          "metadata": {},
          "execution_count": 7
        }
      ],
      "source": [
        "ds1 = pd.read_csv(game_path_2018_2019) \n",
        "ds2 = pd.read_csv(game_path_2017_2018)\n",
        "ds3 = pd.read_csv(game_path_2016_2017)\n",
        "ds4 = pd.read_csv(game_path_2015_2016)\n",
        "ds5 = pd.read_csv(game_path_2014_2015)\n",
        "ds6 = pd.read_csv(game_path_2013_2014)\n",
        "ds7 = pd.read_csv(game_path_2012_2013)\n",
        "ds8 = pd.read_csv(game_path_2011_2012)\n",
        "ds9 = pd.read_csv(game_path_2010_2011)\n",
        "ds10 = pd.read_csv(game_path_2009_2010)\n",
        "\n",
        "frames = [ds1,ds2,ds3,ds4,ds5,ds6,ds7,ds8,ds9,ds10]\n",
        "game_data = pd.concat(frames,ignore_index=True)\n",
        "game_data.head(5)"
      ]
    },
    {
      "cell_type": "code",
      "execution_count": 8,
      "metadata": {
        "colab": {
          "base_uri": "https://localhost:8080/"
        },
        "id": "rV7ftNXG6PFD",
        "outputId": "a8a41907-d114-440b-ce2e-33783c2a5a67"
      },
      "outputs": [
        {
          "output_type": "stream",
          "name": "stdout",
          "text": [
            "Shape of game information dataset\n",
            " (10112, 18) \n",
            "\n",
            "Shape of game dataset\n",
            " (3800, 77)\n"
          ]
        }
      ],
      "source": [
        "# shape of the game info and game data\n",
        "print('Shape of game information dataset''\\n',game_info.shape,'\\n')\n",
        "print('Shape of game dataset''\\n',game_data.shape)"
      ]
    },
    {
      "cell_type": "code",
      "execution_count": 9,
      "metadata": {
        "colab": {
          "base_uri": "https://localhost:8080/"
        },
        "id": "LINkqhwMyo4W",
        "outputId": "1d18a771-a80f-4178-afa1-399caf1e2505"
      },
      "outputs": [
        {
          "output_type": "stream",
          "name": "stdout",
          "text": [
            "Game info dataset\n",
            " True \n",
            "\n",
            "Game dataset\n",
            " True\n"
          ]
        }
      ],
      "source": [
        "# check for unique values\n",
        "print('Game info dataset''\\n',game_info.index.is_unique, '\\n')\n",
        "print('Game dataset''\\n',game_data.index.is_unique)"
      ]
    },
    {
      "cell_type": "code",
      "execution_count": 10,
      "metadata": {
        "colab": {
          "base_uri": "https://localhost:8080/"
        },
        "id": "kEaiQlNc8oPv",
        "outputId": "0e278992-bcde-48e9-afbf-06af435b6b68"
      },
      "outputs": [
        {
          "output_type": "stream",
          "name": "stdout",
          "text": [
            "Game info dataset\n",
            " id_odsp         0\n",
            "link_odsp       0\n",
            "adv_stats       0\n",
            "date            0\n",
            "league          0\n",
            "season          0\n",
            "country         0\n",
            "ht              0\n",
            "at              0\n",
            "fthg            0\n",
            "ftag            0\n",
            "odd_h           0\n",
            "odd_d           0\n",
            "odd_a           0\n",
            "odd_over     9135\n",
            "odd_under    9135\n",
            "odd_bts      9135\n",
            "odd_bts_n    9135\n",
            "dtype: int64 \n",
            "\n",
            "Game dataset\n",
            " Div            0\n",
            "Date           0\n",
            "HomeTeam       0\n",
            "AwayTeam       0\n",
            "FTHG           0\n",
            "            ... \n",
            "BSD         2280\n",
            "BSA         2280\n",
            "SBH         2660\n",
            "SBD         2660\n",
            "SBA         2660\n",
            "Length: 77, dtype: int64\n"
          ]
        }
      ],
      "source": [
        "# check for missing values\n",
        "print('Game info dataset''\\n',game_info.isna().sum(), '\\n')\n",
        "print('Game dataset''\\n',game_data.isna().sum())"
      ]
    },
    {
      "cell_type": "code",
      "execution_count": 11,
      "metadata": {
        "colab": {
          "base_uri": "https://localhost:8080/",
          "height": 344
        },
        "id": "DEHPYDGA8roS",
        "outputId": "3f555613-853c-48e6-a7ae-0524db763b85"
      },
      "outputs": [
        {
          "output_type": "execute_result",
          "data": {
            "text/html": [
              "\n",
              "  <div id=\"df-4e2490af-25dc-401c-a544-9147b19703c6\">\n",
              "    <div class=\"colab-df-container\">\n",
              "      <div>\n",
              "<style scoped>\n",
              "    .dataframe tbody tr th:only-of-type {\n",
              "        vertical-align: middle;\n",
              "    }\n",
              "\n",
              "    .dataframe tbody tr th {\n",
              "        vertical-align: top;\n",
              "    }\n",
              "\n",
              "    .dataframe thead th {\n",
              "        text-align: right;\n",
              "    }\n",
              "</style>\n",
              "<table border=\"1\" class=\"dataframe\">\n",
              "  <thead>\n",
              "    <tr style=\"text-align: right;\">\n",
              "      <th></th>\n",
              "      <th>season</th>\n",
              "      <th>fthg</th>\n",
              "      <th>ftag</th>\n",
              "      <th>odd_h</th>\n",
              "      <th>odd_d</th>\n",
              "      <th>odd_a</th>\n",
              "      <th>odd_over</th>\n",
              "      <th>odd_under</th>\n",
              "      <th>odd_bts</th>\n",
              "      <th>odd_bts_n</th>\n",
              "    </tr>\n",
              "  </thead>\n",
              "  <tbody>\n",
              "    <tr>\n",
              "      <th>count</th>\n",
              "      <td>10112.000000</td>\n",
              "      <td>10112.000000</td>\n",
              "      <td>10112.000000</td>\n",
              "      <td>10112.000000</td>\n",
              "      <td>10112.000000</td>\n",
              "      <td>10112.000000</td>\n",
              "      <td>977.000000</td>\n",
              "      <td>977.000000</td>\n",
              "      <td>977.000000</td>\n",
              "      <td>977.000000</td>\n",
              "    </tr>\n",
              "    <tr>\n",
              "      <th>mean</th>\n",
              "      <td>2014.290249</td>\n",
              "      <td>1.548062</td>\n",
              "      <td>1.154964</td>\n",
              "      <td>2.930120</td>\n",
              "      <td>4.278434</td>\n",
              "      <td>5.537545</td>\n",
              "      <td>2.046817</td>\n",
              "      <td>2.105629</td>\n",
              "      <td>1.942917</td>\n",
              "      <td>2.063941</td>\n",
              "    </tr>\n",
              "    <tr>\n",
              "      <th>std</th>\n",
              "      <td>1.610074</td>\n",
              "      <td>1.309591</td>\n",
              "      <td>1.142596</td>\n",
              "      <td>2.370135</td>\n",
              "      <td>1.863643</td>\n",
              "      <td>5.700485</td>\n",
              "      <td>0.367062</td>\n",
              "      <td>0.536646</td>\n",
              "      <td>0.211102</td>\n",
              "      <td>0.251276</td>\n",
              "    </tr>\n",
              "    <tr>\n",
              "      <th>min</th>\n",
              "      <td>2012.000000</td>\n",
              "      <td>0.000000</td>\n",
              "      <td>0.000000</td>\n",
              "      <td>1.060000</td>\n",
              "      <td>1.910000</td>\n",
              "      <td>1.110000</td>\n",
              "      <td>1.140000</td>\n",
              "      <td>1.420000</td>\n",
              "      <td>1.410000</td>\n",
              "      <td>1.440000</td>\n",
              "    </tr>\n",
              "    <tr>\n",
              "      <th>25%</th>\n",
              "      <td>2013.000000</td>\n",
              "      <td>1.000000</td>\n",
              "      <td>0.000000</td>\n",
              "      <td>1.760000</td>\n",
              "      <td>3.430000</td>\n",
              "      <td>2.740000</td>\n",
              "      <td>1.790000</td>\n",
              "      <td>1.780000</td>\n",
              "      <td>1.800000</td>\n",
              "      <td>1.870000</td>\n",
              "    </tr>\n",
              "    <tr>\n",
              "      <th>50%</th>\n",
              "      <td>2014.000000</td>\n",
              "      <td>1.000000</td>\n",
              "      <td>1.000000</td>\n",
              "      <td>2.270000</td>\n",
              "      <td>3.680000</td>\n",
              "      <td>3.860000</td>\n",
              "      <td>2.030000</td>\n",
              "      <td>1.970000</td>\n",
              "      <td>1.920000</td>\n",
              "      <td>2.050000</td>\n",
              "    </tr>\n",
              "    <tr>\n",
              "      <th>75%</th>\n",
              "      <td>2016.000000</td>\n",
              "      <td>2.000000</td>\n",
              "      <td>2.000000</td>\n",
              "      <td>3.080000</td>\n",
              "      <td>4.300000</td>\n",
              "      <td>6.000000</td>\n",
              "      <td>2.280000</td>\n",
              "      <td>2.270000</td>\n",
              "      <td>2.050000</td>\n",
              "      <td>2.200000</td>\n",
              "    </tr>\n",
              "    <tr>\n",
              "      <th>max</th>\n",
              "      <td>2017.000000</td>\n",
              "      <td>10.000000</td>\n",
              "      <td>9.000000</td>\n",
              "      <td>46.000000</td>\n",
              "      <td>35.000000</td>\n",
              "      <td>81.000000</td>\n",
              "      <td>3.400000</td>\n",
              "      <td>7.500000</td>\n",
              "      <td>3.250000</td>\n",
              "      <td>3.460000</td>\n",
              "    </tr>\n",
              "  </tbody>\n",
              "</table>\n",
              "</div>\n",
              "      <button class=\"colab-df-convert\" onclick=\"convertToInteractive('df-4e2490af-25dc-401c-a544-9147b19703c6')\"\n",
              "              title=\"Convert this dataframe to an interactive table.\"\n",
              "              style=\"display:none;\">\n",
              "        \n",
              "  <svg xmlns=\"http://www.w3.org/2000/svg\" height=\"24px\"viewBox=\"0 0 24 24\"\n",
              "       width=\"24px\">\n",
              "    <path d=\"M0 0h24v24H0V0z\" fill=\"none\"/>\n",
              "    <path d=\"M18.56 5.44l.94 2.06.94-2.06 2.06-.94-2.06-.94-.94-2.06-.94 2.06-2.06.94zm-11 1L8.5 8.5l.94-2.06 2.06-.94-2.06-.94L8.5 2.5l-.94 2.06-2.06.94zm10 10l.94 2.06.94-2.06 2.06-.94-2.06-.94-.94-2.06-.94 2.06-2.06.94z\"/><path d=\"M17.41 7.96l-1.37-1.37c-.4-.4-.92-.59-1.43-.59-.52 0-1.04.2-1.43.59L10.3 9.45l-7.72 7.72c-.78.78-.78 2.05 0 2.83L4 21.41c.39.39.9.59 1.41.59.51 0 1.02-.2 1.41-.59l7.78-7.78 2.81-2.81c.8-.78.8-2.07 0-2.86zM5.41 20L4 18.59l7.72-7.72 1.47 1.35L5.41 20z\"/>\n",
              "  </svg>\n",
              "      </button>\n",
              "      \n",
              "  <style>\n",
              "    .colab-df-container {\n",
              "      display:flex;\n",
              "      flex-wrap:wrap;\n",
              "      gap: 12px;\n",
              "    }\n",
              "\n",
              "    .colab-df-convert {\n",
              "      background-color: #E8F0FE;\n",
              "      border: none;\n",
              "      border-radius: 50%;\n",
              "      cursor: pointer;\n",
              "      display: none;\n",
              "      fill: #1967D2;\n",
              "      height: 32px;\n",
              "      padding: 0 0 0 0;\n",
              "      width: 32px;\n",
              "    }\n",
              "\n",
              "    .colab-df-convert:hover {\n",
              "      background-color: #E2EBFA;\n",
              "      box-shadow: 0px 1px 2px rgba(60, 64, 67, 0.3), 0px 1px 3px 1px rgba(60, 64, 67, 0.15);\n",
              "      fill: #174EA6;\n",
              "    }\n",
              "\n",
              "    [theme=dark] .colab-df-convert {\n",
              "      background-color: #3B4455;\n",
              "      fill: #D2E3FC;\n",
              "    }\n",
              "\n",
              "    [theme=dark] .colab-df-convert:hover {\n",
              "      background-color: #434B5C;\n",
              "      box-shadow: 0px 1px 3px 1px rgba(0, 0, 0, 0.15);\n",
              "      filter: drop-shadow(0px 1px 2px rgba(0, 0, 0, 0.3));\n",
              "      fill: #FFFFFF;\n",
              "    }\n",
              "  </style>\n",
              "\n",
              "      <script>\n",
              "        const buttonEl =\n",
              "          document.querySelector('#df-4e2490af-25dc-401c-a544-9147b19703c6 button.colab-df-convert');\n",
              "        buttonEl.style.display =\n",
              "          google.colab.kernel.accessAllowed ? 'block' : 'none';\n",
              "\n",
              "        async function convertToInteractive(key) {\n",
              "          const element = document.querySelector('#df-4e2490af-25dc-401c-a544-9147b19703c6');\n",
              "          const dataTable =\n",
              "            await google.colab.kernel.invokeFunction('convertToInteractive',\n",
              "                                                     [key], {});\n",
              "          if (!dataTable) return;\n",
              "\n",
              "          const docLinkHtml = 'Like what you see? Visit the ' +\n",
              "            '<a target=\"_blank\" href=https://colab.research.google.com/notebooks/data_table.ipynb>data table notebook</a>'\n",
              "            + ' to learn more about interactive tables.';\n",
              "          element.innerHTML = '';\n",
              "          dataTable['output_type'] = 'display_data';\n",
              "          await google.colab.output.renderOutput(dataTable, element);\n",
              "          const docLink = document.createElement('div');\n",
              "          docLink.innerHTML = docLinkHtml;\n",
              "          element.appendChild(docLink);\n",
              "        }\n",
              "      </script>\n",
              "    </div>\n",
              "  </div>\n",
              "  "
            ],
            "text/plain": [
              "             season          fthg          ftag         odd_h         odd_d  \\\n",
              "count  10112.000000  10112.000000  10112.000000  10112.000000  10112.000000   \n",
              "mean    2014.290249      1.548062      1.154964      2.930120      4.278434   \n",
              "std        1.610074      1.309591      1.142596      2.370135      1.863643   \n",
              "min     2012.000000      0.000000      0.000000      1.060000      1.910000   \n",
              "25%     2013.000000      1.000000      0.000000      1.760000      3.430000   \n",
              "50%     2014.000000      1.000000      1.000000      2.270000      3.680000   \n",
              "75%     2016.000000      2.000000      2.000000      3.080000      4.300000   \n",
              "max     2017.000000     10.000000      9.000000     46.000000     35.000000   \n",
              "\n",
              "              odd_a    odd_over   odd_under     odd_bts   odd_bts_n  \n",
              "count  10112.000000  977.000000  977.000000  977.000000  977.000000  \n",
              "mean       5.537545    2.046817    2.105629    1.942917    2.063941  \n",
              "std        5.700485    0.367062    0.536646    0.211102    0.251276  \n",
              "min        1.110000    1.140000    1.420000    1.410000    1.440000  \n",
              "25%        2.740000    1.790000    1.780000    1.800000    1.870000  \n",
              "50%        3.860000    2.030000    1.970000    1.920000    2.050000  \n",
              "75%        6.000000    2.280000    2.270000    2.050000    2.200000  \n",
              "max       81.000000    3.400000    7.500000    3.250000    3.460000  "
            ]
          },
          "metadata": {},
          "execution_count": 11
        }
      ],
      "source": [
        "# check the description of numeric variables\n",
        "game_info.describe()"
      ]
    },
    {
      "cell_type": "code",
      "execution_count": 12,
      "metadata": {
        "colab": {
          "base_uri": "https://localhost:8080/"
        },
        "id": "_GxWxIZb8ysn",
        "outputId": "8276447e-a848-4ae3-e819-e1e0fa435155"
      },
      "outputs": [
        {
          "output_type": "stream",
          "name": "stdout",
          "text": [
            "<class 'pandas.core.frame.DataFrame'>\n",
            "RangeIndex: 10112 entries, 0 to 10111\n",
            "Data columns (total 18 columns):\n",
            " #   Column     Non-Null Count  Dtype  \n",
            "---  ------     --------------  -----  \n",
            " 0   id_odsp    10112 non-null  object \n",
            " 1   link_odsp  10112 non-null  object \n",
            " 2   adv_stats  10112 non-null  bool   \n",
            " 3   date       10112 non-null  object \n",
            " 4   league     10112 non-null  object \n",
            " 5   season     10112 non-null  int64  \n",
            " 6   country    10112 non-null  object \n",
            " 7   ht         10112 non-null  object \n",
            " 8   at         10112 non-null  object \n",
            " 9   fthg       10112 non-null  int64  \n",
            " 10  ftag       10112 non-null  int64  \n",
            " 11  odd_h      10112 non-null  float64\n",
            " 12  odd_d      10112 non-null  float64\n",
            " 13  odd_a      10112 non-null  float64\n",
            " 14  odd_over   977 non-null    float64\n",
            " 15  odd_under  977 non-null    float64\n",
            " 16  odd_bts    977 non-null    float64\n",
            " 17  odd_bts_n  977 non-null    float64\n",
            "dtypes: bool(1), float64(7), int64(3), object(7)\n",
            "memory usage: 1.3+ MB\n"
          ]
        }
      ],
      "source": [
        "# check for missing data\n",
        "game_info.info()"
      ]
    },
    {
      "cell_type": "code",
      "execution_count": 13,
      "metadata": {
        "colab": {
          "base_uri": "https://localhost:8080/",
          "height": 393
        },
        "id": "LjJiSsA__xHB",
        "outputId": "a7e49f74-59cd-4b16-9958-635e7c7feb66"
      },
      "outputs": [
        {
          "output_type": "execute_result",
          "data": {
            "text/html": [
              "\n",
              "  <div id=\"df-d5ffb180-5923-4a8c-b58f-747705c73cb6\">\n",
              "    <div class=\"colab-df-container\">\n",
              "      <div>\n",
              "<style scoped>\n",
              "    .dataframe tbody tr th:only-of-type {\n",
              "        vertical-align: middle;\n",
              "    }\n",
              "\n",
              "    .dataframe tbody tr th {\n",
              "        vertical-align: top;\n",
              "    }\n",
              "\n",
              "    .dataframe thead th {\n",
              "        text-align: right;\n",
              "    }\n",
              "</style>\n",
              "<table border=\"1\" class=\"dataframe\">\n",
              "  <thead>\n",
              "    <tr style=\"text-align: right;\">\n",
              "      <th></th>\n",
              "      <th>FTHG</th>\n",
              "      <th>FTAG</th>\n",
              "      <th>HTHG</th>\n",
              "      <th>HTAG</th>\n",
              "      <th>HS</th>\n",
              "      <th>AS</th>\n",
              "      <th>HST</th>\n",
              "      <th>AST</th>\n",
              "      <th>HF</th>\n",
              "      <th>AF</th>\n",
              "      <th>...</th>\n",
              "      <th>SJA</th>\n",
              "      <th>GBH</th>\n",
              "      <th>GBD</th>\n",
              "      <th>GBA</th>\n",
              "      <th>BSH</th>\n",
              "      <th>BSD</th>\n",
              "      <th>BSA</th>\n",
              "      <th>SBH</th>\n",
              "      <th>SBD</th>\n",
              "      <th>SBA</th>\n",
              "    </tr>\n",
              "  </thead>\n",
              "  <tbody>\n",
              "    <tr>\n",
              "      <th>count</th>\n",
              "      <td>3800.000000</td>\n",
              "      <td>3800.000000</td>\n",
              "      <td>3800.000000</td>\n",
              "      <td>3800.000000</td>\n",
              "      <td>3800.000000</td>\n",
              "      <td>3800.000000</td>\n",
              "      <td>3800.000000</td>\n",
              "      <td>3800.000000</td>\n",
              "      <td>3800.000000</td>\n",
              "      <td>3800.000000</td>\n",
              "      <td>...</td>\n",
              "      <td>1940.000000</td>\n",
              "      <td>1519.000000</td>\n",
              "      <td>1519.00000</td>\n",
              "      <td>1519.000000</td>\n",
              "      <td>1520.000000</td>\n",
              "      <td>1520.000000</td>\n",
              "      <td>1520.000000</td>\n",
              "      <td>1140.000000</td>\n",
              "      <td>1140.000000</td>\n",
              "      <td>1140.000000</td>\n",
              "    </tr>\n",
              "    <tr>\n",
              "      <th>mean</th>\n",
              "      <td>1.570526</td>\n",
              "      <td>1.180000</td>\n",
              "      <td>0.691579</td>\n",
              "      <td>0.522368</td>\n",
              "      <td>14.181316</td>\n",
              "      <td>11.229211</td>\n",
              "      <td>6.014211</td>\n",
              "      <td>4.763947</td>\n",
              "      <td>10.618684</td>\n",
              "      <td>11.133421</td>\n",
              "      <td>...</td>\n",
              "      <td>4.893897</td>\n",
              "      <td>2.601745</td>\n",
              "      <td>3.79973</td>\n",
              "      <td>4.597367</td>\n",
              "      <td>2.613954</td>\n",
              "      <td>3.803553</td>\n",
              "      <td>4.816303</td>\n",
              "      <td>2.577483</td>\n",
              "      <td>3.773650</td>\n",
              "      <td>4.598114</td>\n",
              "    </tr>\n",
              "    <tr>\n",
              "      <th>std</th>\n",
              "      <td>1.322363</td>\n",
              "      <td>1.160788</td>\n",
              "      <td>0.838739</td>\n",
              "      <td>0.735319</td>\n",
              "      <td>5.514299</td>\n",
              "      <td>4.687029</td>\n",
              "      <td>3.443571</td>\n",
              "      <td>2.891895</td>\n",
              "      <td>3.397368</td>\n",
              "      <td>3.580877</td>\n",
              "      <td>...</td>\n",
              "      <td>3.890396</td>\n",
              "      <td>1.578228</td>\n",
              "      <td>0.87315</td>\n",
              "      <td>3.349595</td>\n",
              "      <td>1.630953</td>\n",
              "      <td>0.868362</td>\n",
              "      <td>3.853876</td>\n",
              "      <td>1.631384</td>\n",
              "      <td>0.878153</td>\n",
              "      <td>3.517203</td>\n",
              "    </tr>\n",
              "    <tr>\n",
              "      <th>min</th>\n",
              "      <td>0.000000</td>\n",
              "      <td>0.000000</td>\n",
              "      <td>0.000000</td>\n",
              "      <td>0.000000</td>\n",
              "      <td>0.000000</td>\n",
              "      <td>0.000000</td>\n",
              "      <td>0.000000</td>\n",
              "      <td>0.000000</td>\n",
              "      <td>0.000000</td>\n",
              "      <td>1.000000</td>\n",
              "      <td>...</td>\n",
              "      <td>1.250000</td>\n",
              "      <td>1.100000</td>\n",
              "      <td>3.00000</td>\n",
              "      <td>1.250000</td>\n",
              "      <td>1.100000</td>\n",
              "      <td>3.000000</td>\n",
              "      <td>1.220000</td>\n",
              "      <td>1.080000</td>\n",
              "      <td>3.100000</td>\n",
              "      <td>1.200000</td>\n",
              "    </tr>\n",
              "    <tr>\n",
              "      <th>25%</th>\n",
              "      <td>1.000000</td>\n",
              "      <td>0.000000</td>\n",
              "      <td>0.000000</td>\n",
              "      <td>0.000000</td>\n",
              "      <td>10.000000</td>\n",
              "      <td>8.000000</td>\n",
              "      <td>3.000000</td>\n",
              "      <td>3.000000</td>\n",
              "      <td>8.000000</td>\n",
              "      <td>9.000000</td>\n",
              "      <td>...</td>\n",
              "      <td>2.400000</td>\n",
              "      <td>1.600000</td>\n",
              "      <td>3.25000</td>\n",
              "      <td>2.400000</td>\n",
              "      <td>1.620000</td>\n",
              "      <td>3.250000</td>\n",
              "      <td>2.500000</td>\n",
              "      <td>1.570000</td>\n",
              "      <td>3.250000</td>\n",
              "      <td>2.400000</td>\n",
              "    </tr>\n",
              "    <tr>\n",
              "      <th>50%</th>\n",
              "      <td>1.000000</td>\n",
              "      <td>1.000000</td>\n",
              "      <td>0.000000</td>\n",
              "      <td>0.000000</td>\n",
              "      <td>14.000000</td>\n",
              "      <td>11.000000</td>\n",
              "      <td>5.000000</td>\n",
              "      <td>4.000000</td>\n",
              "      <td>11.000000</td>\n",
              "      <td>11.000000</td>\n",
              "      <td>...</td>\n",
              "      <td>3.500000</td>\n",
              "      <td>2.100000</td>\n",
              "      <td>3.40000</td>\n",
              "      <td>3.400000</td>\n",
              "      <td>2.100000</td>\n",
              "      <td>3.400000</td>\n",
              "      <td>3.400000</td>\n",
              "      <td>2.100000</td>\n",
              "      <td>3.400000</td>\n",
              "      <td>3.275000</td>\n",
              "    </tr>\n",
              "    <tr>\n",
              "      <th>75%</th>\n",
              "      <td>2.000000</td>\n",
              "      <td>2.000000</td>\n",
              "      <td>1.000000</td>\n",
              "      <td>1.000000</td>\n",
              "      <td>17.000000</td>\n",
              "      <td>14.000000</td>\n",
              "      <td>8.000000</td>\n",
              "      <td>6.000000</td>\n",
              "      <td>13.000000</td>\n",
              "      <td>13.000000</td>\n",
              "      <td>...</td>\n",
              "      <td>5.800000</td>\n",
              "      <td>2.850000</td>\n",
              "      <td>4.00000</td>\n",
              "      <td>5.500000</td>\n",
              "      <td>2.800000</td>\n",
              "      <td>4.000000</td>\n",
              "      <td>5.500000</td>\n",
              "      <td>2.750000</td>\n",
              "      <td>3.800000</td>\n",
              "      <td>5.500000</td>\n",
              "    </tr>\n",
              "    <tr>\n",
              "      <th>max</th>\n",
              "      <td>9.000000</td>\n",
              "      <td>7.000000</td>\n",
              "      <td>5.000000</td>\n",
              "      <td>5.000000</td>\n",
              "      <td>43.000000</td>\n",
              "      <td>30.000000</td>\n",
              "      <td>24.000000</td>\n",
              "      <td>20.000000</td>\n",
              "      <td>24.000000</td>\n",
              "      <td>26.000000</td>\n",
              "      <td>...</td>\n",
              "      <td>29.000000</td>\n",
              "      <td>12.000000</td>\n",
              "      <td>8.50000</td>\n",
              "      <td>21.000000</td>\n",
              "      <td>13.000000</td>\n",
              "      <td>8.500000</td>\n",
              "      <td>26.000000</td>\n",
              "      <td>12.000000</td>\n",
              "      <td>8.500000</td>\n",
              "      <td>21.000000</td>\n",
              "    </tr>\n",
              "  </tbody>\n",
              "</table>\n",
              "<p>8 rows × 70 columns</p>\n",
              "</div>\n",
              "      <button class=\"colab-df-convert\" onclick=\"convertToInteractive('df-d5ffb180-5923-4a8c-b58f-747705c73cb6')\"\n",
              "              title=\"Convert this dataframe to an interactive table.\"\n",
              "              style=\"display:none;\">\n",
              "        \n",
              "  <svg xmlns=\"http://www.w3.org/2000/svg\" height=\"24px\"viewBox=\"0 0 24 24\"\n",
              "       width=\"24px\">\n",
              "    <path d=\"M0 0h24v24H0V0z\" fill=\"none\"/>\n",
              "    <path d=\"M18.56 5.44l.94 2.06.94-2.06 2.06-.94-2.06-.94-.94-2.06-.94 2.06-2.06.94zm-11 1L8.5 8.5l.94-2.06 2.06-.94-2.06-.94L8.5 2.5l-.94 2.06-2.06.94zm10 10l.94 2.06.94-2.06 2.06-.94-2.06-.94-.94-2.06-.94 2.06-2.06.94z\"/><path d=\"M17.41 7.96l-1.37-1.37c-.4-.4-.92-.59-1.43-.59-.52 0-1.04.2-1.43.59L10.3 9.45l-7.72 7.72c-.78.78-.78 2.05 0 2.83L4 21.41c.39.39.9.59 1.41.59.51 0 1.02-.2 1.41-.59l7.78-7.78 2.81-2.81c.8-.78.8-2.07 0-2.86zM5.41 20L4 18.59l7.72-7.72 1.47 1.35L5.41 20z\"/>\n",
              "  </svg>\n",
              "      </button>\n",
              "      \n",
              "  <style>\n",
              "    .colab-df-container {\n",
              "      display:flex;\n",
              "      flex-wrap:wrap;\n",
              "      gap: 12px;\n",
              "    }\n",
              "\n",
              "    .colab-df-convert {\n",
              "      background-color: #E8F0FE;\n",
              "      border: none;\n",
              "      border-radius: 50%;\n",
              "      cursor: pointer;\n",
              "      display: none;\n",
              "      fill: #1967D2;\n",
              "      height: 32px;\n",
              "      padding: 0 0 0 0;\n",
              "      width: 32px;\n",
              "    }\n",
              "\n",
              "    .colab-df-convert:hover {\n",
              "      background-color: #E2EBFA;\n",
              "      box-shadow: 0px 1px 2px rgba(60, 64, 67, 0.3), 0px 1px 3px 1px rgba(60, 64, 67, 0.15);\n",
              "      fill: #174EA6;\n",
              "    }\n",
              "\n",
              "    [theme=dark] .colab-df-convert {\n",
              "      background-color: #3B4455;\n",
              "      fill: #D2E3FC;\n",
              "    }\n",
              "\n",
              "    [theme=dark] .colab-df-convert:hover {\n",
              "      background-color: #434B5C;\n",
              "      box-shadow: 0px 1px 3px 1px rgba(0, 0, 0, 0.15);\n",
              "      filter: drop-shadow(0px 1px 2px rgba(0, 0, 0, 0.3));\n",
              "      fill: #FFFFFF;\n",
              "    }\n",
              "  </style>\n",
              "\n",
              "      <script>\n",
              "        const buttonEl =\n",
              "          document.querySelector('#df-d5ffb180-5923-4a8c-b58f-747705c73cb6 button.colab-df-convert');\n",
              "        buttonEl.style.display =\n",
              "          google.colab.kernel.accessAllowed ? 'block' : 'none';\n",
              "\n",
              "        async function convertToInteractive(key) {\n",
              "          const element = document.querySelector('#df-d5ffb180-5923-4a8c-b58f-747705c73cb6');\n",
              "          const dataTable =\n",
              "            await google.colab.kernel.invokeFunction('convertToInteractive',\n",
              "                                                     [key], {});\n",
              "          if (!dataTable) return;\n",
              "\n",
              "          const docLinkHtml = 'Like what you see? Visit the ' +\n",
              "            '<a target=\"_blank\" href=https://colab.research.google.com/notebooks/data_table.ipynb>data table notebook</a>'\n",
              "            + ' to learn more about interactive tables.';\n",
              "          element.innerHTML = '';\n",
              "          dataTable['output_type'] = 'display_data';\n",
              "          await google.colab.output.renderOutput(dataTable, element);\n",
              "          const docLink = document.createElement('div');\n",
              "          docLink.innerHTML = docLinkHtml;\n",
              "          element.appendChild(docLink);\n",
              "        }\n",
              "      </script>\n",
              "    </div>\n",
              "  </div>\n",
              "  "
            ],
            "text/plain": [
              "              FTHG         FTAG         HTHG         HTAG           HS  \\\n",
              "count  3800.000000  3800.000000  3800.000000  3800.000000  3800.000000   \n",
              "mean      1.570526     1.180000     0.691579     0.522368    14.181316   \n",
              "std       1.322363     1.160788     0.838739     0.735319     5.514299   \n",
              "min       0.000000     0.000000     0.000000     0.000000     0.000000   \n",
              "25%       1.000000     0.000000     0.000000     0.000000    10.000000   \n",
              "50%       1.000000     1.000000     0.000000     0.000000    14.000000   \n",
              "75%       2.000000     2.000000     1.000000     1.000000    17.000000   \n",
              "max       9.000000     7.000000     5.000000     5.000000    43.000000   \n",
              "\n",
              "                AS          HST          AST           HF           AF  ...  \\\n",
              "count  3800.000000  3800.000000  3800.000000  3800.000000  3800.000000  ...   \n",
              "mean     11.229211     6.014211     4.763947    10.618684    11.133421  ...   \n",
              "std       4.687029     3.443571     2.891895     3.397368     3.580877  ...   \n",
              "min       0.000000     0.000000     0.000000     0.000000     1.000000  ...   \n",
              "25%       8.000000     3.000000     3.000000     8.000000     9.000000  ...   \n",
              "50%      11.000000     5.000000     4.000000    11.000000    11.000000  ...   \n",
              "75%      14.000000     8.000000     6.000000    13.000000    13.000000  ...   \n",
              "max      30.000000    24.000000    20.000000    24.000000    26.000000  ...   \n",
              "\n",
              "               SJA          GBH         GBD          GBA          BSH  \\\n",
              "count  1940.000000  1519.000000  1519.00000  1519.000000  1520.000000   \n",
              "mean      4.893897     2.601745     3.79973     4.597367     2.613954   \n",
              "std       3.890396     1.578228     0.87315     3.349595     1.630953   \n",
              "min       1.250000     1.100000     3.00000     1.250000     1.100000   \n",
              "25%       2.400000     1.600000     3.25000     2.400000     1.620000   \n",
              "50%       3.500000     2.100000     3.40000     3.400000     2.100000   \n",
              "75%       5.800000     2.850000     4.00000     5.500000     2.800000   \n",
              "max      29.000000    12.000000     8.50000    21.000000    13.000000   \n",
              "\n",
              "               BSD          BSA          SBH          SBD          SBA  \n",
              "count  1520.000000  1520.000000  1140.000000  1140.000000  1140.000000  \n",
              "mean      3.803553     4.816303     2.577483     3.773650     4.598114  \n",
              "std       0.868362     3.853876     1.631384     0.878153     3.517203  \n",
              "min       3.000000     1.220000     1.080000     3.100000     1.200000  \n",
              "25%       3.250000     2.500000     1.570000     3.250000     2.400000  \n",
              "50%       3.400000     3.400000     2.100000     3.400000     3.275000  \n",
              "75%       4.000000     5.500000     2.750000     3.800000     5.500000  \n",
              "max       8.500000    26.000000    12.000000     8.500000    21.000000  \n",
              "\n",
              "[8 rows x 70 columns]"
            ]
          },
          "metadata": {},
          "execution_count": 13
        }
      ],
      "source": [
        "game_data.describe()"
      ]
    },
    {
      "cell_type": "code",
      "execution_count": 14,
      "metadata": {
        "colab": {
          "base_uri": "https://localhost:8080/"
        },
        "id": "j7jE3h5t_2es",
        "outputId": "f2d89ad3-293b-41bc-bf95-5d390e5dd0bf"
      },
      "outputs": [
        {
          "output_type": "stream",
          "name": "stdout",
          "text": [
            "<class 'pandas.core.frame.DataFrame'>\n",
            "RangeIndex: 3800 entries, 0 to 3799\n",
            "Data columns (total 77 columns):\n",
            " #   Column    Non-Null Count  Dtype  \n",
            "---  ------    --------------  -----  \n",
            " 0   Div       3800 non-null   object \n",
            " 1   Date      3800 non-null   object \n",
            " 2   HomeTeam  3800 non-null   object \n",
            " 3   AwayTeam  3800 non-null   object \n",
            " 4   FTHG      3800 non-null   int64  \n",
            " 5   FTAG      3800 non-null   int64  \n",
            " 6   FTR       3800 non-null   object \n",
            " 7   HTHG      3800 non-null   int64  \n",
            " 8   HTAG      3800 non-null   int64  \n",
            " 9   HTR       3800 non-null   object \n",
            " 10  Referee   3800 non-null   object \n",
            " 11  HS        3800 non-null   int64  \n",
            " 12  AS        3800 non-null   int64  \n",
            " 13  HST       3800 non-null   int64  \n",
            " 14  AST       3800 non-null   int64  \n",
            " 15  HF        3800 non-null   int64  \n",
            " 16  AF        3800 non-null   int64  \n",
            " 17  HC        3800 non-null   int64  \n",
            " 18  AC        3800 non-null   int64  \n",
            " 19  HY        3800 non-null   int64  \n",
            " 20  AY        3800 non-null   int64  \n",
            " 21  HR        3800 non-null   int64  \n",
            " 22  AR        3800 non-null   int64  \n",
            " 23  B365H     3800 non-null   float64\n",
            " 24  B365D     3800 non-null   float64\n",
            " 25  B365A     3800 non-null   float64\n",
            " 26  BWH       3799 non-null   float64\n",
            " 27  BWD       3799 non-null   float64\n",
            " 28  BWA       3799 non-null   float64\n",
            " 29  IWH       3799 non-null   float64\n",
            " 30  IWD       3799 non-null   float64\n",
            " 31  IWA       3799 non-null   float64\n",
            " 32  PSH       2660 non-null   float64\n",
            " 33  PSD       2660 non-null   float64\n",
            " 34  PSA       2660 non-null   float64\n",
            " 35  WHH       3800 non-null   float64\n",
            " 36  WHD       3800 non-null   float64\n",
            " 37  WHA       3800 non-null   float64\n",
            " 38  VCH       3800 non-null   float64\n",
            " 39  VCD       3800 non-null   float64\n",
            " 40  VCA       3800 non-null   float64\n",
            " 41  Bb1X2     3800 non-null   int64  \n",
            " 42  BbMxH     3800 non-null   float64\n",
            " 43  BbAvH     3800 non-null   float64\n",
            " 44  BbMxD     3800 non-null   float64\n",
            " 45  BbAvD     3800 non-null   float64\n",
            " 46  BbMxA     3800 non-null   float64\n",
            " 47  BbAvA     3800 non-null   float64\n",
            " 48  BbOU      3800 non-null   int64  \n",
            " 49  BbMx>2.5  3800 non-null   float64\n",
            " 50  BbAv>2.5  3800 non-null   float64\n",
            " 51  BbMx<2.5  3800 non-null   float64\n",
            " 52  BbAv<2.5  3800 non-null   float64\n",
            " 53  BbAH      3790 non-null   float64\n",
            " 54  BbAHh     3790 non-null   float64\n",
            " 55  BbMxAHH   3790 non-null   float64\n",
            " 56  BbAvAHH   3790 non-null   float64\n",
            " 57  BbMxAHA   3790 non-null   float64\n",
            " 58  BbAvAHA   3790 non-null   float64\n",
            " 59  PSCH      2660 non-null   float64\n",
            " 60  PSCD      2660 non-null   float64\n",
            " 61  PSCA      2660 non-null   float64\n",
            " 62  LBH       3419 non-null   float64\n",
            " 63  LBD       3419 non-null   float64\n",
            " 64  LBA       3419 non-null   float64\n",
            " 65  SJH       1940 non-null   float64\n",
            " 66  SJD       1940 non-null   float64\n",
            " 67  SJA       1940 non-null   float64\n",
            " 68  GBH       1519 non-null   float64\n",
            " 69  GBD       1519 non-null   float64\n",
            " 70  GBA       1519 non-null   float64\n",
            " 71  BSH       1520 non-null   float64\n",
            " 72  BSD       1520 non-null   float64\n",
            " 73  BSA       1520 non-null   float64\n",
            " 74  SBH       1140 non-null   float64\n",
            " 75  SBD       1140 non-null   float64\n",
            " 76  SBA       1140 non-null   float64\n",
            "dtypes: float64(52), int64(18), object(7)\n",
            "memory usage: 2.2+ MB\n"
          ]
        }
      ],
      "source": [
        "# check for missing data\n",
        "game_data.info()"
      ]
    },
    {
      "cell_type": "markdown",
      "source": [
        "# **1. Predicting if the shot is a goal or no goal**"
      ],
      "metadata": {
        "id": "znNFYoxQP__P"
      }
    },
    {
      "cell_type": "markdown",
      "metadata": {
        "id": "dNKdjLqmVT4u"
      },
      "source": [
        "### **Data Visualization and Data Preparation**"
      ]
    },
    {
      "cell_type": "markdown",
      "metadata": {
        "id": "hiwZfM00So3X"
      },
      "source": [
        "Adding columns such as country/league, date into game_events dataset. "
      ]
    },
    {
      "cell_type": "code",
      "execution_count": 15,
      "metadata": {
        "id": "dxEdrhDKSb4t"
      },
      "outputs": [],
      "source": [
        "from datetime import datetime\n",
        "game_events = game_events.merge(game_info[['id_odsp', 'country', 'date']], on='id_odsp', how='left')\n",
        "year = lambda x: datetime.strptime(x, \"%Y-%m-%d\").year\n",
        "game_events['year'] = [year(x) for key, x in enumerate(game_events['date'])]"
      ]
    },
    {
      "cell_type": "markdown",
      "metadata": {
        "id": "RjHfbsD4UbdB"
      },
      "source": [
        "Created a new dataframe which holds all the details of the shots."
      ]
    },
    {
      "cell_type": "code",
      "execution_count": 16,
      "metadata": {
        "colab": {
          "base_uri": "https://localhost:8080/"
        },
        "id": "ZJ4V5nsYUZ__",
        "outputId": "8b8cec46-ae1c-47a7-e596-b8f1d4d6fc6f"
      },
      "outputs": [
        {
          "output_type": "stream",
          "name": "stderr",
          "text": [
            "/usr/local/lib/python3.7/dist-packages/ipykernel_launcher.py:2: SettingWithCopyWarning: \n",
            "A value is trying to be set on a copy of a slice from a DataFrame.\n",
            "Try using .loc[row_indexer,col_indexer] = value instead\n",
            "\n",
            "See the caveats in the documentation: https://pandas.pydata.org/pandas-docs/stable/user_guide/indexing.html#returning-a-view-versus-a-copy\n",
            "  \n",
            "/usr/local/lib/python3.7/dist-packages/ipykernel_launcher.py:3: SettingWithCopyWarning: \n",
            "A value is trying to be set on a copy of a slice from a DataFrame.\n",
            "Try using .loc[row_indexer,col_indexer] = value instead\n",
            "\n",
            "See the caveats in the documentation: https://pandas.pydata.org/pandas-docs/stable/user_guide/indexing.html#returning-a-view-versus-a-copy\n",
            "  This is separate from the ipykernel package so we can avoid doing imports until\n",
            "/usr/local/lib/python3.7/dist-packages/ipykernel_launcher.py:4: SettingWithCopyWarning: \n",
            "A value is trying to be set on a copy of a slice from a DataFrame.\n",
            "Try using .loc[row_indexer,col_indexer] = value instead\n",
            "\n",
            "See the caveats in the documentation: https://pandas.pydata.org/pandas-docs/stable/user_guide/indexing.html#returning-a-view-versus-a-copy\n",
            "  after removing the cwd from sys.path.\n"
          ]
        }
      ],
      "source": [
        "game_shots = game_events[game_events.event_type==1]\n",
        "game_shots['player'] = game_shots['player'].str.title()\n",
        "game_shots['player2'] = game_shots['player2'].str.title()\n",
        "game_shots['country'] = game_shots['country'].str.title()"
      ]
    },
    {
      "cell_type": "markdown",
      "metadata": {
        "id": "3fNUNW3AVXQ4"
      },
      "source": [
        " I have visualized the shots placement by the player in the match."
      ]
    },
    {
      "cell_type": "code",
      "execution_count": 17,
      "metadata": {
        "id": "ng1W9BKhVtDT"
      },
      "outputs": [],
      "source": [
        "# collecting data for all kind of short placements in match\n",
        "graph_bar = game_shots[['shot_place', 'id_event']].groupby('shot_place').count().reset_index().rename(columns={'id_event': 'count'})\n",
        "graph_bar.shot_place = graph_bar.shot_place.astype(int)\n",
        "graph_bar.shot_place = graph_bar.shot_place.replace({1: 'Bit too high', 2: 'Blocked', 3: 'Bottom left corner', 4: 'Bottom right corner', \\\n",
        "                                        5: 'Centre of the goal', 6: 'High and wide', 7: 'Hits the bar', 8: 'Misses to the left', \\\n",
        "                                        9: 'Misses to the right', 10: 'Too high', 11: 'Top centre of the goal', \\\n",
        "                                        12: 'Top left corner', 13: 'Top right corner'})"
      ]
    },
    {
      "cell_type": "code",
      "execution_count": 18,
      "metadata": {
        "colab": {
          "base_uri": "https://localhost:8080/",
          "height": 441
        },
        "id": "oEUYNb3eWM0b",
        "outputId": "33660149-6724-46ea-ca8c-2c3731038e32"
      },
      "outputs": [
        {
          "output_type": "display_data",
          "data": {
            "image/png": "[encoded data removed]",
            "text/plain": [
              "<Figure size 936x432 with 1 Axes>"
            ]
          },
          "metadata": {}
        }
      ],
      "source": [
        "# plot shot placement against their total count \n",
        "sns.set_style(\"whitegrid\")\n",
        "fig, ax = plt.subplots(figsize=[13,6])\n",
        "labels = graph_bar['shot_place']\n",
        "colors = ['#ff9999','#66b3ff','#99ff99','#ffcc99']\n",
        "ax = sns.barplot(x=graph_bar['count'], y=labels)\n",
        "ax.set_yticklabels(labels, size = 13)\n",
        "ax.set_xticks(np.arange(1000,57000,4000))\n",
        "ax.set_ylabel(ylabel='')\n",
        "plt.title(\"Shot Placement\", fontsize=25, fontfamily='serif')\n",
        "plt.tight_layout()\n",
        "ax.grid(color='black', linestyle='-', linewidth=0.1, axis='x')\n",
        "plt.show()"
      ]
    },
    {
      "cell_type": "markdown",
      "metadata": {
        "id": "j1Q4i-hfWrpo"
      },
      "source": [
        "From the above plot we can see that maximum number of shots were blocked by the opponent.\n",
        "From the part of the shots which were unblocked maximum shots were targeted in the centre and many of the shots were missed to the left and right sides. "
      ]
    },
    {
      "cell_type": "markdown",
      "metadata": {
        "id": "uQ7F71evYEhK"
      },
      "source": [
        "Lets visualise the percentage of shots which got converted into goals for different years in the league."
      ]
    },
    {
      "cell_type": "code",
      "execution_count": 19,
      "metadata": {
        "id": "ja9ZdcOxYVeh"
      },
      "outputs": [],
      "source": [
        "game_goals  = game_shots[['is_goal', 'id_event', 'year']].groupby(['is_goal', 'year']).count().reset_index().rename(columns={'id_event': 'count'})\n",
        "game_goals.is_goal = game_goals.is_goal.replace({1: 'Goal', 0: 'No Goal'})"
      ]
    },
    {
      "cell_type": "code",
      "execution_count": 20,
      "metadata": {
        "id": "3l1jUPmzZHCy"
      },
      "outputs": [],
      "source": [
        "game_goals['percentage']=0\n",
        "for i in range(len(game_goals)):\n",
        "    for year in game_goals.year.unique():\n",
        "        if game_goals.iloc[i,game_goals.columns.get_loc(\"year\")]==year:\n",
        "            game_goals.iloc[i,game_goals.columns.get_loc(\"percentage\")]=game_goals.iloc[i,game_goals.columns.get_loc(\"count\")] / \\\n",
        "                                                            game_goals[game_goals.year==year]['count'].sum()\n",
        "game_goals['percentage']=round(game_goals['percentage']*100,2)"
      ]
    },
    {
      "cell_type": "code",
      "execution_count": 21,
      "metadata": {
        "colab": {
          "base_uri": "https://localhost:8080/",
          "height": 441
        },
        "id": "0K1G8DK2ZbUl",
        "outputId": "3b00c431-f889-4cbe-f31b-bcd3a2c118c2"
      },
      "outputs": [
        {
          "output_type": "display_data",
          "data": {
            "image/png": "[encoded data removed]",
            "text/plain": [
              "<Figure size 1008x432 with 1 Axes>"
            ]
          },
          "metadata": {}
        }
      ],
      "source": [
        "# plot the percentage of goals against year\n",
        "sns.set_style(\"white\")\n",
        "fig, ax = plt.subplots(figsize=[14,6])\n",
        "colors = ['#ff9999','#66b3ff','#99ff99','#ffcc99']\n",
        "ax = sns.barplot(data=game_goals, y='percentage', hue='is_goal', x='year')\n",
        "ax.set_yticks(np.arange(0,110,10))\n",
        "ax.set_ylabel(ylabel='Percentage %', fontsize=15, fontfamily='serif')\n",
        "ax.set_xlabel(xlabel='Year', fontsize=18, fontfamily='serif')\n",
        "ax.set_xticklabels(labels=ax.get_xticklabels(), fontsize=16, fontfamily='serif')\n",
        "plt.title(\"Goal or No-Goal per Year\", fontsize=24, fontfamily='serif')\n",
        "plt.tight_layout()\n",
        "ax.grid(color='black', linestyle='-', linewidth=0.1, axis='y')\n",
        "plt.legend(fontsize=8)\n",
        "plt.show()"
      ]
    },
    {
      "cell_type": "markdown",
      "metadata": {
        "id": "mlr-D2eqaNXK"
      },
      "source": [
        "So again from the above graph the percentage of goals is almost same for the mentioned years. So it can be concluded that 1 out of every 9-10 shot is a goal no matter where it was shot."
      ]
    },
    {
      "cell_type": "markdown",
      "metadata": {
        "id": "Vo6OzIUZbhO7"
      },
      "source": [
        "Now I lets prepare the data for our Expected goal model. This model will evaluate how likely a shot is supposed to turn into a goal. I have divided data into 2 sets:\n",
        " For this \n",
        "\n",
        "1.   Y: the target variable Y set will include all the shots in the database irrespective of the fact that its a goal or not.\n",
        "2.   X: It will include all necessary information we have in dataset for shots such as bodypart, location, situation, fast_break.\n",
        "\n",
        "  "
      ]
    },
    {
      "cell_type": "code",
      "execution_count": 22,
      "metadata": {
        "id": "gkvYF-mjcwLf"
      },
      "outputs": [],
      "source": [
        "# converting all categorical variable into binary dummies\n",
        "df = pd.get_dummies(game_shots.iloc[:,-8:-3], columns=['location', 'bodypart','assist_method', 'situation'])\n",
        "df.columns = ['fast_break', 'loc_centre_box', 'loc_diff_angle_lr', 'diff_angle_left', 'diff_angle_right',\n",
        "                'left_side_box', 'left_side_6ybox', 'right_side_box', 'right_side_6ybox', 'close_range',\n",
        "                'penalty', 'outside_box', 'long_range', 'more_35y', 'more_40y', 'not_recorded', 'right_foot', \n",
        "                'left_foot', 'header', 'no_assist', 'assist_pass', 'assist_cross', 'assist_header',\n",
        "                'assist_through_ball', 'open_play', 'set_piece', 'corner', 'free_kick']\n",
        "df['is_goal'] = game_shots['is_goal']"
      ]
    },
    {
      "cell_type": "code",
      "execution_count": 23,
      "metadata": {
        "colab": {
          "base_uri": "https://localhost:8080/"
        },
        "id": "iBReWRV7dMAX",
        "outputId": "fdf1e6ca-2ace-4244-f196-655aa18532b8"
      },
      "outputs": [
        {
          "output_type": "stream",
          "name": "stdout",
          "text": [
            "Total number of shots 229135\n",
            "Total number of goals 24441\n"
          ]
        }
      ],
      "source": [
        "print(\"Total number of shots\",len(df))\n",
        "print(\"Total number of goals\",df.is_goal.sum())"
      ]
    },
    {
      "cell_type": "markdown",
      "metadata": {
        "id": "KT2xK0QA2RT0"
      },
      "source": [
        "### **Data Preparation and Test/Train Split.**"
      ]
    },
    {
      "cell_type": "code",
      "execution_count": 24,
      "metadata": {
        "colab": {
          "base_uri": "https://localhost:8080/",
          "height": 487
        },
        "outputId": "3443cce2-2fc4-48d8-f431-c99d41fe02f0",
        "id": "SWic7cRT2RT1"
      },
      "outputs": [
        {
          "output_type": "execute_result",
          "data": {
            "text/html": [
              "\n",
              "  <div id=\"df-fc8d5c3d-0b0e-4914-8998-b0eb7dfbe6f3\">\n",
              "    <div class=\"colab-df-container\">\n",
              "      <div>\n",
              "<style scoped>\n",
              "    .dataframe tbody tr th:only-of-type {\n",
              "        vertical-align: middle;\n",
              "    }\n",
              "\n",
              "    .dataframe tbody tr th {\n",
              "        vertical-align: top;\n",
              "    }\n",
              "\n",
              "    .dataframe thead th {\n",
              "        text-align: right;\n",
              "    }\n",
              "</style>\n",
              "<table border=\"1\" class=\"dataframe\">\n",
              "  <thead>\n",
              "    <tr style=\"text-align: right;\">\n",
              "      <th></th>\n",
              "      <th>fast_break</th>\n",
              "      <th>loc_centre_box</th>\n",
              "      <th>loc_diff_angle_lr</th>\n",
              "      <th>diff_angle_left</th>\n",
              "      <th>diff_angle_right</th>\n",
              "      <th>left_side_box</th>\n",
              "      <th>left_side_6ybox</th>\n",
              "      <th>right_side_box</th>\n",
              "      <th>right_side_6ybox</th>\n",
              "      <th>close_range</th>\n",
              "      <th>...</th>\n",
              "      <th>header</th>\n",
              "      <th>no_assist</th>\n",
              "      <th>assist_pass</th>\n",
              "      <th>assist_cross</th>\n",
              "      <th>assist_header</th>\n",
              "      <th>assist_through_ball</th>\n",
              "      <th>open_play</th>\n",
              "      <th>set_piece</th>\n",
              "      <th>corner</th>\n",
              "      <th>free_kick</th>\n",
              "    </tr>\n",
              "  </thead>\n",
              "  <tbody>\n",
              "    <tr>\n",
              "      <th>536019</th>\n",
              "      <td>0</td>\n",
              "      <td>1</td>\n",
              "      <td>0</td>\n",
              "      <td>0</td>\n",
              "      <td>0</td>\n",
              "      <td>0</td>\n",
              "      <td>0</td>\n",
              "      <td>0</td>\n",
              "      <td>0</td>\n",
              "      <td>0</td>\n",
              "      <td>...</td>\n",
              "      <td>0</td>\n",
              "      <td>0</td>\n",
              "      <td>1</td>\n",
              "      <td>0</td>\n",
              "      <td>0</td>\n",
              "      <td>0</td>\n",
              "      <td>1</td>\n",
              "      <td>0</td>\n",
              "      <td>0</td>\n",
              "      <td>0</td>\n",
              "    </tr>\n",
              "    <tr>\n",
              "      <th>241887</th>\n",
              "      <td>0</td>\n",
              "      <td>0</td>\n",
              "      <td>0</td>\n",
              "      <td>0</td>\n",
              "      <td>0</td>\n",
              "      <td>0</td>\n",
              "      <td>0</td>\n",
              "      <td>0</td>\n",
              "      <td>0</td>\n",
              "      <td>0</td>\n",
              "      <td>...</td>\n",
              "      <td>0</td>\n",
              "      <td>0</td>\n",
              "      <td>1</td>\n",
              "      <td>0</td>\n",
              "      <td>0</td>\n",
              "      <td>0</td>\n",
              "      <td>1</td>\n",
              "      <td>0</td>\n",
              "      <td>0</td>\n",
              "      <td>0</td>\n",
              "    </tr>\n",
              "    <tr>\n",
              "      <th>848312</th>\n",
              "      <td>0</td>\n",
              "      <td>0</td>\n",
              "      <td>0</td>\n",
              "      <td>0</td>\n",
              "      <td>0</td>\n",
              "      <td>0</td>\n",
              "      <td>0</td>\n",
              "      <td>0</td>\n",
              "      <td>0</td>\n",
              "      <td>0</td>\n",
              "      <td>...</td>\n",
              "      <td>0</td>\n",
              "      <td>1</td>\n",
              "      <td>0</td>\n",
              "      <td>0</td>\n",
              "      <td>0</td>\n",
              "      <td>0</td>\n",
              "      <td>1</td>\n",
              "      <td>0</td>\n",
              "      <td>0</td>\n",
              "      <td>0</td>\n",
              "    </tr>\n",
              "    <tr>\n",
              "      <th>463302</th>\n",
              "      <td>0</td>\n",
              "      <td>1</td>\n",
              "      <td>0</td>\n",
              "      <td>0</td>\n",
              "      <td>0</td>\n",
              "      <td>0</td>\n",
              "      <td>0</td>\n",
              "      <td>0</td>\n",
              "      <td>0</td>\n",
              "      <td>0</td>\n",
              "      <td>...</td>\n",
              "      <td>1</td>\n",
              "      <td>1</td>\n",
              "      <td>0</td>\n",
              "      <td>0</td>\n",
              "      <td>0</td>\n",
              "      <td>0</td>\n",
              "      <td>1</td>\n",
              "      <td>0</td>\n",
              "      <td>0</td>\n",
              "      <td>0</td>\n",
              "    </tr>\n",
              "    <tr>\n",
              "      <th>44032</th>\n",
              "      <td>0</td>\n",
              "      <td>0</td>\n",
              "      <td>0</td>\n",
              "      <td>0</td>\n",
              "      <td>0</td>\n",
              "      <td>0</td>\n",
              "      <td>0</td>\n",
              "      <td>0</td>\n",
              "      <td>0</td>\n",
              "      <td>0</td>\n",
              "      <td>...</td>\n",
              "      <td>0</td>\n",
              "      <td>0</td>\n",
              "      <td>1</td>\n",
              "      <td>0</td>\n",
              "      <td>0</td>\n",
              "      <td>0</td>\n",
              "      <td>1</td>\n",
              "      <td>0</td>\n",
              "      <td>0</td>\n",
              "      <td>0</td>\n",
              "    </tr>\n",
              "    <tr>\n",
              "      <th>...</th>\n",
              "      <td>...</td>\n",
              "      <td>...</td>\n",
              "      <td>...</td>\n",
              "      <td>...</td>\n",
              "      <td>...</td>\n",
              "      <td>...</td>\n",
              "      <td>...</td>\n",
              "      <td>...</td>\n",
              "      <td>...</td>\n",
              "      <td>...</td>\n",
              "      <td>...</td>\n",
              "      <td>...</td>\n",
              "      <td>...</td>\n",
              "      <td>...</td>\n",
              "      <td>...</td>\n",
              "      <td>...</td>\n",
              "      <td>...</td>\n",
              "      <td>...</td>\n",
              "      <td>...</td>\n",
              "      <td>...</td>\n",
              "      <td>...</td>\n",
              "    </tr>\n",
              "    <tr>\n",
              "      <th>213888</th>\n",
              "      <td>0</td>\n",
              "      <td>0</td>\n",
              "      <td>0</td>\n",
              "      <td>0</td>\n",
              "      <td>0</td>\n",
              "      <td>0</td>\n",
              "      <td>0</td>\n",
              "      <td>0</td>\n",
              "      <td>0</td>\n",
              "      <td>0</td>\n",
              "      <td>...</td>\n",
              "      <td>0</td>\n",
              "      <td>0</td>\n",
              "      <td>1</td>\n",
              "      <td>0</td>\n",
              "      <td>0</td>\n",
              "      <td>0</td>\n",
              "      <td>1</td>\n",
              "      <td>0</td>\n",
              "      <td>0</td>\n",
              "      <td>0</td>\n",
              "    </tr>\n",
              "    <tr>\n",
              "      <th>940932</th>\n",
              "      <td>0</td>\n",
              "      <td>0</td>\n",
              "      <td>0</td>\n",
              "      <td>0</td>\n",
              "      <td>0</td>\n",
              "      <td>0</td>\n",
              "      <td>0</td>\n",
              "      <td>0</td>\n",
              "      <td>0</td>\n",
              "      <td>0</td>\n",
              "      <td>...</td>\n",
              "      <td>0</td>\n",
              "      <td>0</td>\n",
              "      <td>1</td>\n",
              "      <td>0</td>\n",
              "      <td>0</td>\n",
              "      <td>0</td>\n",
              "      <td>1</td>\n",
              "      <td>0</td>\n",
              "      <td>0</td>\n",
              "      <td>0</td>\n",
              "    </tr>\n",
              "    <tr>\n",
              "      <th>22359</th>\n",
              "      <td>0</td>\n",
              "      <td>1</td>\n",
              "      <td>0</td>\n",
              "      <td>0</td>\n",
              "      <td>0</td>\n",
              "      <td>0</td>\n",
              "      <td>0</td>\n",
              "      <td>0</td>\n",
              "      <td>0</td>\n",
              "      <td>0</td>\n",
              "      <td>...</td>\n",
              "      <td>0</td>\n",
              "      <td>0</td>\n",
              "      <td>0</td>\n",
              "      <td>0</td>\n",
              "      <td>1</td>\n",
              "      <td>0</td>\n",
              "      <td>1</td>\n",
              "      <td>0</td>\n",
              "      <td>0</td>\n",
              "      <td>0</td>\n",
              "    </tr>\n",
              "    <tr>\n",
              "      <th>857752</th>\n",
              "      <td>0</td>\n",
              "      <td>1</td>\n",
              "      <td>0</td>\n",
              "      <td>0</td>\n",
              "      <td>0</td>\n",
              "      <td>0</td>\n",
              "      <td>0</td>\n",
              "      <td>0</td>\n",
              "      <td>0</td>\n",
              "      <td>0</td>\n",
              "      <td>...</td>\n",
              "      <td>0</td>\n",
              "      <td>0</td>\n",
              "      <td>1</td>\n",
              "      <td>0</td>\n",
              "      <td>0</td>\n",
              "      <td>0</td>\n",
              "      <td>1</td>\n",
              "      <td>0</td>\n",
              "      <td>0</td>\n",
              "      <td>0</td>\n",
              "    </tr>\n",
              "    <tr>\n",
              "      <th>528858</th>\n",
              "      <td>0</td>\n",
              "      <td>0</td>\n",
              "      <td>0</td>\n",
              "      <td>0</td>\n",
              "      <td>0</td>\n",
              "      <td>1</td>\n",
              "      <td>0</td>\n",
              "      <td>0</td>\n",
              "      <td>0</td>\n",
              "      <td>0</td>\n",
              "      <td>...</td>\n",
              "      <td>0</td>\n",
              "      <td>1</td>\n",
              "      <td>0</td>\n",
              "      <td>0</td>\n",
              "      <td>0</td>\n",
              "      <td>0</td>\n",
              "      <td>1</td>\n",
              "      <td>0</td>\n",
              "      <td>0</td>\n",
              "      <td>0</td>\n",
              "    </tr>\n",
              "  </tbody>\n",
              "</table>\n",
              "<p>148937 rows × 28 columns</p>\n",
              "</div>\n",
              "      <button class=\"colab-df-convert\" onclick=\"convertToInteractive('df-fc8d5c3d-0b0e-4914-8998-b0eb7dfbe6f3')\"\n",
              "              title=\"Convert this dataframe to an interactive table.\"\n",
              "              style=\"display:none;\">\n",
              "        \n",
              "  <svg xmlns=\"http://www.w3.org/2000/svg\" height=\"24px\"viewBox=\"0 0 24 24\"\n",
              "       width=\"24px\">\n",
              "    <path d=\"M0 0h24v24H0V0z\" fill=\"none\"/>\n",
              "    <path d=\"M18.56 5.44l.94 2.06.94-2.06 2.06-.94-2.06-.94-.94-2.06-.94 2.06-2.06.94zm-11 1L8.5 8.5l.94-2.06 2.06-.94-2.06-.94L8.5 2.5l-.94 2.06-2.06.94zm10 10l.94 2.06.94-2.06 2.06-.94-2.06-.94-.94-2.06-.94 2.06-2.06.94z\"/><path d=\"M17.41 7.96l-1.37-1.37c-.4-.4-.92-.59-1.43-.59-.52 0-1.04.2-1.43.59L10.3 9.45l-7.72 7.72c-.78.78-.78 2.05 0 2.83L4 21.41c.39.39.9.59 1.41.59.51 0 1.02-.2 1.41-.59l7.78-7.78 2.81-2.81c.8-.78.8-2.07 0-2.86zM5.41 20L4 18.59l7.72-7.72 1.47 1.35L5.41 20z\"/>\n",
              "  </svg>\n",
              "      </button>\n",
              "      \n",
              "  <style>\n",
              "    .colab-df-container {\n",
              "      display:flex;\n",
              "      flex-wrap:wrap;\n",
              "      gap: 12px;\n",
              "    }\n",
              "\n",
              "    .colab-df-convert {\n",
              "      background-color: #E8F0FE;\n",
              "      border: none;\n",
              "      border-radius: 50%;\n",
              "      cursor: pointer;\n",
              "      display: none;\n",
              "      fill: #1967D2;\n",
              "      height: 32px;\n",
              "      padding: 0 0 0 0;\n",
              "      width: 32px;\n",
              "    }\n",
              "\n",
              "    .colab-df-convert:hover {\n",
              "      background-color: #E2EBFA;\n",
              "      box-shadow: 0px 1px 2px rgba(60, 64, 67, 0.3), 0px 1px 3px 1px rgba(60, 64, 67, 0.15);\n",
              "      fill: #174EA6;\n",
              "    }\n",
              "\n",
              "    [theme=dark] .colab-df-convert {\n",
              "      background-color: #3B4455;\n",
              "      fill: #D2E3FC;\n",
              "    }\n",
              "\n",
              "    [theme=dark] .colab-df-convert:hover {\n",
              "      background-color: #434B5C;\n",
              "      box-shadow: 0px 1px 3px 1px rgba(0, 0, 0, 0.15);\n",
              "      filter: drop-shadow(0px 1px 2px rgba(0, 0, 0, 0.3));\n",
              "      fill: #FFFFFF;\n",
              "    }\n",
              "  </style>\n",
              "\n",
              "      <script>\n",
              "        const buttonEl =\n",
              "          document.querySelector('#df-fc8d5c3d-0b0e-4914-8998-b0eb7dfbe6f3 button.colab-df-convert');\n",
              "        buttonEl.style.display =\n",
              "          google.colab.kernel.accessAllowed ? 'block' : 'none';\n",
              "\n",
              "        async function convertToInteractive(key) {\n",
              "          const element = document.querySelector('#df-fc8d5c3d-0b0e-4914-8998-b0eb7dfbe6f3');\n",
              "          const dataTable =\n",
              "            await google.colab.kernel.invokeFunction('convertToInteractive',\n",
              "                                                     [key], {});\n",
              "          if (!dataTable) return;\n",
              "\n",
              "          const docLinkHtml = 'Like what you see? Visit the ' +\n",
              "            '<a target=\"_blank\" href=https://colab.research.google.com/notebooks/data_table.ipynb>data table notebook</a>'\n",
              "            + ' to learn more about interactive tables.';\n",
              "          element.innerHTML = '';\n",
              "          dataTable['output_type'] = 'display_data';\n",
              "          await google.colab.output.renderOutput(dataTable, element);\n",
              "          const docLink = document.createElement('div');\n",
              "          docLink.innerHTML = docLinkHtml;\n",
              "          element.appendChild(docLink);\n",
              "        }\n",
              "      </script>\n",
              "    </div>\n",
              "  </div>\n",
              "  "
            ],
            "text/plain": [
              "        fast_break  loc_centre_box  loc_diff_angle_lr  diff_angle_left  \\\n",
              "536019           0               1                  0                0   \n",
              "241887           0               0                  0                0   \n",
              "848312           0               0                  0                0   \n",
              "463302           0               1                  0                0   \n",
              "44032            0               0                  0                0   \n",
              "...            ...             ...                ...              ...   \n",
              "213888           0               0                  0                0   \n",
              "940932           0               0                  0                0   \n",
              "22359            0               1                  0                0   \n",
              "857752           0               1                  0                0   \n",
              "528858           0               0                  0                0   \n",
              "\n",
              "        diff_angle_right  left_side_box  left_side_6ybox  right_side_box  \\\n",
              "536019                 0              0                0               0   \n",
              "241887                 0              0                0               0   \n",
              "848312                 0              0                0               0   \n",
              "463302                 0              0                0               0   \n",
              "44032                  0              0                0               0   \n",
              "...                  ...            ...              ...             ...   \n",
              "213888                 0              0                0               0   \n",
              "940932                 0              0                0               0   \n",
              "22359                  0              0                0               0   \n",
              "857752                 0              0                0               0   \n",
              "528858                 0              1                0               0   \n",
              "\n",
              "        right_side_6ybox  close_range  ...  header  no_assist  assist_pass  \\\n",
              "536019                 0            0  ...       0          0            1   \n",
              "241887                 0            0  ...       0          0            1   \n",
              "848312                 0            0  ...       0          1            0   \n",
              "463302                 0            0  ...       1          1            0   \n",
              "44032                  0            0  ...       0          0            1   \n",
              "...                  ...          ...  ...     ...        ...          ...   \n",
              "213888                 0            0  ...       0          0            1   \n",
              "940932                 0            0  ...       0          0            1   \n",
              "22359                  0            0  ...       0          0            0   \n",
              "857752                 0            0  ...       0          0            1   \n",
              "528858                 0            0  ...       0          1            0   \n",
              "\n",
              "        assist_cross  assist_header  assist_through_ball  open_play  \\\n",
              "536019             0              0                    0          1   \n",
              "241887             0              0                    0          1   \n",
              "848312             0              0                    0          1   \n",
              "463302             0              0                    0          1   \n",
              "44032              0              0                    0          1   \n",
              "...              ...            ...                  ...        ...   \n",
              "213888             0              0                    0          1   \n",
              "940932             0              0                    0          1   \n",
              "22359              0              1                    0          1   \n",
              "857752             0              0                    0          1   \n",
              "528858             0              0                    0          1   \n",
              "\n",
              "        set_piece  corner  free_kick  \n",
              "536019          0       0          0  \n",
              "241887          0       0          0  \n",
              "848312          0       0          0  \n",
              "463302          0       0          0  \n",
              "44032           0       0          0  \n",
              "...           ...     ...        ...  \n",
              "213888          0       0          0  \n",
              "940932          0       0          0  \n",
              "22359           0       0          0  \n",
              "857752          0       0          0  \n",
              "528858          0       0          0  \n",
              "\n",
              "[148937 rows x 28 columns]"
            ]
          },
          "metadata": {},
          "execution_count": 24
        }
      ],
      "source": [
        "# split dataset into test and train\n",
        "x = df.iloc[:,:-1]\n",
        "y = df.iloc[:,-1]\n",
        "x_train, x_test, y_train, y_test = train_test_split(x, y, test_size=0.35, random_state=1)\n",
        "x_train"
      ]
    },
    {
      "cell_type": "markdown",
      "source": [
        "## **Classification**"
      ],
      "metadata": {
        "id": "YHhs9DRQ2RT1"
      }
    },
    {
      "cell_type": "markdown",
      "metadata": {
        "id": "gVbgqTS22RT1"
      },
      "source": [
        "### **Gradient Boost Classifier**"
      ]
    },
    {
      "cell_type": "code",
      "execution_count": 25,
      "metadata": {
        "id": "j77YEIvS2RT2"
      },
      "outputs": [],
      "source": [
        "from sklearn.ensemble import GradientBoostingClassifier\n",
        "from sklearn.linear_model import LogisticRegression\n",
        "from sklearn.neural_network import MLPClassifier\n",
        "from sklearn.metrics import average_precision_score, roc_auc_score, f1_score, precision_score, \\\n",
        "recall_score, cohen_kappa_score, classification_report,confusion_matrix\n",
        "from hyperopt import fmin, tpe, hp, STATUS_OK, Trials\n",
        "\n",
        "def evaluate_model_result(params): \n",
        "    model = GradientBoostingClassifier(\n",
        "                        learning_rate=params['learning_rate'],\n",
        "                        min_samples_leaf=params['min_samples_leaf'],\n",
        "                        max_depth = params['max_depth'],\n",
        "                        max_features = params['max_features']\n",
        "                        )\n",
        "\n",
        "    model.fit(x_train, y_train)\n",
        "    return {\n",
        "        'learning_rate': params['learning_rate'],\n",
        "        'min_samples_leaf': params['min_samples_leaf'],\n",
        "        'max_depth': params['max_depth'],\n",
        "        'max_features': params['max_features'],\n",
        "        'train_ROCAUC': roc_auc_score(y_train, model.predict_proba(x_train)[:, 1]),\n",
        "        'test_ROCAUC': roc_auc_score(y_test, model.predict_proba(x_test)[:, 1]),\n",
        "        'recall': recall_score(y_test, model.predict(x_test)),\n",
        "        'precision': precision_score(y_test, model.predict(x_test)),\n",
        "        'f1_score': f1_score(y_test, model.predict(x_test)),\n",
        "        'train_accuracy': model.score(x_train, y_train),\n",
        "        'test_accuracy': model.score(x_test, y_test),\n",
        "    }\n",
        "\n",
        "def objective(params):\n",
        "    res = evaluate_model_result(params)\n",
        "    \n",
        "    res['loss'] = - res['test_ROCAUC'] \n",
        "    res['status'] = STATUS_OK \n",
        "    return res \n",
        "\n",
        "space_hyperparameter = {\n",
        "        'learning_rate': hp.uniform('learning_rate', 0.05, 0.3),\n",
        "        'min_samples_leaf': hp.choice('min_samples_leaf', range(15, 200)),\n",
        "        'max_depth': hp.choice('max_depth', range(2, 20)),\n",
        "        'max_features': hp.choice('max_features', range(3, 27))\n",
        "}"
      ]
    },
    {
      "cell_type": "code",
      "execution_count": null,
      "metadata": {
        "colab": {
          "base_uri": "https://localhost:8080/"
        },
        "outputId": "eb45edad-1f7e-41c7-be9c-78fc2cf39bc5",
        "id": "ZUU2VaqU2RT2"
      },
      "outputs": [
        {
          "output_type": "stream",
          "name": "stdout",
          "text": [
            " 30%|███       | 15/50 [04:08<11:13, 19.24s/it, best loss: -0.8193426338028921]"
          ]
        }
      ],
      "source": [
        "trials_val = Trials()\n",
        "fmin(\n",
        "    objective,\n",
        "    space=space_hyperparameter,\n",
        "    algo=tpe.suggest,\n",
        "    max_evals=50,\n",
        "    trials=trials_val\n",
        ");"
      ]
    },
    {
      "cell_type": "code",
      "execution_count": null,
      "metadata": {
        "id": "8PNEUekY2RT2"
      },
      "outputs": [],
      "source": [
        "pd.DataFrame(trials_val.results).sort_values(by='f1_score', ascending=False).head(5)"
      ]
    },
    {
      "cell_type": "markdown",
      "metadata": {
        "id": "NVxIRUkU2RT2"
      },
      "source": [
        "From the above table it is clear that with hyperparameter I have got good results. It can also be concluded that there is no sign of overfitting that means the model will work for both test and training data."
      ]
    },
    {
      "cell_type": "markdown",
      "metadata": {
        "id": "zIlOYLnC2RT2"
      },
      "source": [
        "**Model Training**"
      ]
    },
    {
      "cell_type": "code",
      "execution_count": null,
      "metadata": {
        "id": "zkr1BttT2RT3"
      },
      "outputs": [],
      "source": [
        "GBC_model = GradientBoostingClassifier(\n",
        "                        learning_rate=0.285508,\n",
        "                        min_samples_leaf=99,\n",
        "                        max_depth = 19,\n",
        "                        max_features = 27\n",
        "                        )\n",
        "GBC_model.fit(x_train, y_train)"
      ]
    },
    {
      "cell_type": "markdown",
      "metadata": {
        "id": "RZJiflCR2RT3"
      },
      "source": [
        "**Check the accuracy of the model**"
      ]
    },
    {
      "cell_type": "code",
      "execution_count": null,
      "metadata": {
        "id": "Fw4U_m5Y2RT3"
      },
      "outputs": [],
      "source": [
        "print('Total example in test set {} (shots) of which {} are certainly (goals).'.format(len(y_test), y_test.sum()),'\\n')\n",
        "print('Classifying accuracy of whether a shot is goal or not is {}%.'.format(round(GBC_model.score(x_test, y_test)*100),2),'\\n')\n",
        "print('GBC classifier obtains an ROC-AUC of {}%'.format(round(roc_auc_score(y_test, GBC_model.predict_proba(x_test)[:, 1])*100),2), '\\n')"
      ]
    },
    {
      "cell_type": "markdown",
      "metadata": {
        "id": "gapYpcYI2RT3"
      },
      "source": [
        "So I have acheived 91% accuracy of the prediction of correct goals. Also I have got promissing ROC-AUC metric whic is 82%."
      ]
    },
    {
      "cell_type": "markdown",
      "metadata": {
        "id": "wB3gQADm2RT3"
      },
      "source": [
        "**Confusion matrix**"
      ]
    },
    {
      "cell_type": "code",
      "execution_count": null,
      "metadata": {
        "id": "A1_pLAd32RT3"
      },
      "outputs": [],
      "source": [
        "con_m=confusion_matrix(y_train,GBC_model.predict(x_train))\n",
        "con_m=pd.DataFrame(con_m)\n",
        "con_m.columns=[\"Predicted No Goals\",\"Predicted Goals\"]\n",
        "con_m.index=[\"Actual No Goals\",\"Actual Goals\"]\n",
        "print(con_m, '\\n')\n",
        "print(classification_report(y_test,GBC_model.predict(x_test)))"
      ]
    },
    {
      "cell_type": "markdown",
      "metadata": {
        "id": "pwM9aUdA2RT3"
      },
      "source": [
        "The confusion matrix is used to analyse the performance of the prediction. The results shows that the model performs much better for predicting if its not a goal."
      ]
    },
    {
      "cell_type": "markdown",
      "source": [
        "### **Classification using Decision tree and various other classificstion algorithm.**"
      ],
      "metadata": {
        "id": "HwWVImUZVAsF"
      }
    },
    {
      "cell_type": "code",
      "source": [
        "from sklearn import tree\n",
        "decision_Tree_class = tree.DecisionTreeClassifier()\n",
        "decision_Tree_class = decision_Tree_class.fit(x,y)"
      ],
      "metadata": {
        "id": "0HBO_jahVem_"
      },
      "execution_count": null,
      "outputs": []
    },
    {
      "cell_type": "markdown",
      "source": [
        "Implementing Muller Loop to run it on the training dataset against following algorithms:\n",
        "\n",
        "1.   NaiveBayes Classifier\n",
        "2.   KNN Classifier\n",
        "3.   RandomForest Classifier\n",
        "4.   XGB Classifier\n",
        "5. DecisionTreeClassifier"
      ],
      "metadata": {
        "id": "GnoJdoM6VenA"
      }
    },
    {
      "cell_type": "code",
      "source": [
        "class_algo = [\"DecisionTreeClassifier\", \"RandomForest Classifier\",\"KNN Classifier\", \n",
        "         \"NaiveBayes Classifier\", \n",
        "         \"XGB Classifier\", ]\n",
        "\n",
        "classifiers = [\n",
        "    DecisionTreeClassifier(),\n",
        "    ensemble.RandomForestClassifier(),\n",
        "    KNeighborsClassifier(),\n",
        "    GaussianNB(),\n",
        "    XGBClassifier(),\n",
        "    ]\n",
        "\n",
        "max_score = 0.0\n",
        "max_class = ''\n",
        "score_list = []\n",
        "clf_list = []\n",
        "\n",
        "# iterate over classifiers\n",
        "for algo, clf in zip(class_algo, classifiers):\n",
        "    start_time = time.time()\n",
        "    clf.fit(x_train, y_train)\n",
        "    score = 100.0 * clf.score(x_test, y_test)\n",
        "    score_list.append(score)\n",
        "    clf_list.append(algo)\n",
        "    print('Classification  Algorithm = %s, Score (test, accuracy) = %.2f,' %(algo, score), 'Training time = %.2f seconds' % (time.time() - start_time))\n",
        "    \n",
        "    if score > max_score:\n",
        "        clf_best = clf\n",
        "        max_score = score\n",
        "        max_class = algo\n"
      ],
      "metadata": {
        "id": "WE5tuc7CVenA"
      },
      "execution_count": null,
      "outputs": []
    },
    {
      "cell_type": "markdown",
      "source": [
        "So as per the result of classification XGBoost classifier has performed best among others."
      ],
      "metadata": {
        "id": "kwiFK2hFYggY"
      }
    },
    {
      "cell_type": "code",
      "source": [
        "plt.figure(figsize=(12,6))\n",
        "plt.plot(clf_list,score_list)\n",
        "plt.xlabel(\"classifier\",size=15,color=\"Black\")\n",
        "plt.ylabel(\"score\",size=15,color=\"Black\");"
      ],
      "metadata": {
        "id": "VbWCiQTnVenA"
      },
      "execution_count": null,
      "outputs": []
    },
    {
      "cell_type": "markdown",
      "source": [
        "## **Regression**"
      ],
      "metadata": {
        "id": "2xYYZoXUaPKN"
      }
    },
    {
      "cell_type": "markdown",
      "metadata": {
        "id": "y9mmr4zs2RT4"
      },
      "source": [
        "### **Logistic Regression**"
      ]
    },
    {
      "cell_type": "markdown",
      "source": [
        "Implementing Muller Loop to run it on the training dataset against following Regression algorithms and display their accuracy:\n",
        "\n",
        "\n",
        "\n",
        "1.   LinearRegression\n",
        "2.   MLPRegressor\n",
        "3. LogisticRegression\n",
        "4. RandomForestRegressor\n",
        "5. AdaBoost\n",
        "6. KNNRegressor"
      ],
      "metadata": {
        "id": "gvt_cYBXggSi"
      }
    },
    {
      "cell_type": "code",
      "execution_count": null,
      "metadata": {
        "id": "pDUHwfAb2RT4"
      },
      "outputs": [],
      "source": [
        "LR_model = LogisticRegression(max_iter=400)\n",
        "LR_model.fit(x_train, y_train)"
      ]
    },
    {
      "cell_type": "code",
      "source": [
        "regression_algos = [\"LogisticRegression\",\"AdaBoost\", \"MLPRegressor\", \n",
        "                    \"LinearRegression\", \"KNNRegressor\",\"RandomForestRegressor\"\n",
        "                   ]\n",
        "\n",
        "classifiers = [\n",
        "    LogisticRegression(),\n",
        "    AdaBoostRegressor(random_state=0, n_estimators=100),\n",
        "    MLPRegressor(random_state=1, max_iter=800),\n",
        "    LinearRegression(),\n",
        "    KNeighborsRegressor(n_neighbors=2),\n",
        "    RandomForestRegressor(max_depth=2, random_state=0),\n",
        "    ]\n",
        "\n",
        "\n",
        "max_score = 0.0\n",
        "max_class = ''\n",
        "score_list = []\n",
        "clf_list = []\n",
        "\n",
        "# iterate over classifiers\n",
        "for algo, clf in zip(regression_algos, classifiers):\n",
        "    start_time = time.time()\n",
        "    clf.fit(x_train, y_train)\n",
        "    score = 100.0 * clf.score(x_test, y_test)\n",
        "    score_list.append(score)\n",
        "    clf_list.append(algo)\n",
        "    print('Regression  Algorithm = %s, Score (test, accuracy) = %.2f,' %(algo, score), 'Training time = %.2f seconds' % (time.time() - start_time))\n",
        "    if score > max_score:\n",
        "        clf_best = clf\n",
        "        max_score = score\n",
        "        max_class = algo"
      ],
      "metadata": {
        "id": "uYw9NpQthSbZ"
      },
      "execution_count": null,
      "outputs": []
    },
    {
      "cell_type": "code",
      "source": [
        "# plot the output score for all the algos\n",
        "from IPython.core.pylabtools import figsize\n",
        "from matplotlib import figure\n",
        "\n",
        "plt.figure(figsize=(12,6))\n",
        "plt.plot(clf_list,score_list)\n",
        "plt.xlabel(\"classifier\",size=15,color=\"Black\")\n",
        "plt.ylabel(\"score\",size=15,color=\"Black\");"
      ],
      "metadata": {
        "id": "NyqMa9hFhjxX"
      },
      "execution_count": null,
      "outputs": []
    },
    {
      "cell_type": "markdown",
      "metadata": {
        "id": "bEEljUBx2RT4"
      },
      "source": [
        "As per the result above Logistic Regression has performed best in this case."
      ]
    },
    {
      "cell_type": "markdown",
      "source": [
        "# **2. Predict which team (Home Team / Away Team) can win the match.**"
      ],
      "metadata": {
        "id": "d74czO0z2xov"
      }
    },
    {
      "cell_type": "markdown",
      "metadata": {
        "id": "Yxibg45XD_Vt"
      },
      "source": [
        "### **Data Preparation**"
      ]
    },
    {
      "cell_type": "markdown",
      "metadata": {
        "id": "iQTyJV8tECvZ"
      },
      "source": [
        "Let's check if we have a balanced dataset for game data."
      ]
    },
    {
      "cell_type": "code",
      "execution_count": 79,
      "metadata": {
        "colab": {
          "base_uri": "https://localhost:8080/"
        },
        "id": "Y1mhZkMPELx0",
        "outputId": "f839e112-fe37-476d-ccb5-e536ba84545c"
      },
      "outputs": [
        {
          "output_type": "execute_result",
          "data": {
            "text/plain": [
              "H    1758\n",
              "A    1102\n",
              "D     940\n",
              "Name: FTR, dtype: int64"
            ]
          },
          "metadata": {},
          "execution_count": 79
        }
      ],
      "source": [
        "game_data[\"FTR\"].value_counts()"
      ]
    },
    {
      "cell_type": "markdown",
      "metadata": {
        "id": "oSfa1WCQEWeG"
      },
      "source": [
        "So as per the above information our data is not well balanced since the number of home results are more."
      ]
    },
    {
      "cell_type": "markdown",
      "metadata": {
        "id": "L9MM6lNJGWGm"
      },
      "source": [
        "Determining Latent Variables."
      ]
    },
    {
      "cell_type": "markdown",
      "metadata": {
        "id": "O0pmc4jiGagl"
      },
      "source": [
        "**Latent Variable# 1**\n",
        "\n",
        "**Away Hit Rate**: It is a rate at which away teams scored a goal against total shots played. It is calculated by taking the ratio of Full time away goals and total away shots.\n",
        "\n",
        "The AWR is determined by the following formula:\n",
        "\n",
        "Away Hit Rate = $\\frac{Full Time Away Goals}{Away Shots}$"
      ]
    },
    {
      "cell_type": "code",
      "execution_count": 80,
      "metadata": {
        "id": "rbrQB90yHGdB"
      },
      "outputs": [],
      "source": [
        "game_data[\"AHR\"] = game_data[\"FTAG\"]/game_data[\"AS\"]"
      ]
    },
    {
      "cell_type": "markdown",
      "metadata": {
        "id": "yWNvlap2HApY"
      },
      "source": [
        "**Latent Variable# 2**\n",
        "\n",
        "**The Total Shots Ratio (TSR)**: It is a rate to visualize how well teams play a match when it comes to conceding and taking shots.\n",
        "\n",
        "TSR = $\\frac{Total shots for}{Total shots for + total shots against}$"
      ]
    },
    {
      "cell_type": "code",
      "execution_count": 81,
      "metadata": {
        "id": "bP5D7xcsHsMx"
      },
      "outputs": [],
      "source": [
        "game_data[\"TSR\"] = game_data[\"HS\"] / (game_data[\"HS\"] + game_data[\"AS\"])"
      ]
    },
    {
      "cell_type": "markdown",
      "metadata": {
        "id": "W0Ikey1QH769"
      },
      "source": [
        ""
      ]
    },
    {
      "cell_type": "markdown",
      "metadata": {
        "id": "9GuZ3Ro5DsaZ"
      },
      "source": [
        "**Latent Variable# 3**\n",
        "\n",
        "**Home Hit Rate(HHR)**: It is a rate at which home teams scored a goal against total shots played. It is calculated by taking the ratio of Full time home goals and total home shots.\n",
        "\n",
        "Home Hit Rate = $\\frac{Full Time Home Goal}{Home Shots}$"
      ]
    },
    {
      "cell_type": "code",
      "execution_count": 82,
      "metadata": {
        "id": "6uKZKpSBIuEP"
      },
      "outputs": [],
      "source": [
        "game_data[\"HHR\"] = game_data[\"FTHG\"]/game_data[\"HS\"]"
      ]
    },
    {
      "cell_type": "code",
      "execution_count": 83,
      "metadata": {
        "id": "AxO6Y4stI36h"
      },
      "outputs": [],
      "source": [
        "game_data.drop(columns=[\"HS\",\"AS\"], inplace=True)\n",
        "game_data;"
      ]
    },
    {
      "cell_type": "markdown",
      "metadata": {
        "id": "FPNsBpGFfg40"
      },
      "source": [
        "### **Univariant analysis: single attribute analysis**"
      ]
    },
    {
      "cell_type": "markdown",
      "metadata": {
        "id": "DFGbIAsIf6Ik"
      },
      "source": [
        "Full time result(FTR) for each result outcome."
      ]
    },
    {
      "cell_type": "code",
      "execution_count": 84,
      "metadata": {
        "colab": {
          "base_uri": "https://localhost:8080/"
        },
        "id": "be5UDy8Vf0tI",
        "outputId": "25176aed-5125-4b62-90a7-daca0b19b9c0"
      },
      "outputs": [
        {
          "output_type": "execute_result",
          "data": {
            "text/plain": [
              "H    1758\n",
              "A    1102\n",
              "D     940\n",
              "Name: FTR, dtype: int64"
            ]
          },
          "metadata": {},
          "execution_count": 84
        }
      ],
      "source": [
        "game_data[\"FTR\"].value_counts()"
      ]
    },
    {
      "cell_type": "code",
      "execution_count": 85,
      "metadata": {
        "colab": {
          "base_uri": "https://localhost:8080/",
          "height": 315
        },
        "id": "pdBpmnYFfpW9",
        "outputId": "7021a635-d4ff-4939-98e4-a3c2e0b1a49f"
      },
      "outputs": [
        {
          "output_type": "execute_result",
          "data": {
            "text/plain": [
              "Text(0, 0.5, 'Count')"
            ]
          },
          "metadata": {},
          "execution_count": 85
        },
        {
          "output_type": "display_data",
          "data": {
            "image/png": "[encoded data removed]",
            "text/plain": [
              "<Figure size 432x288 with 1 Axes>"
            ]
          },
          "metadata": {}
        }
      ],
      "source": [
        "sns.set_context('talk', font_scale = 1)\n",
        "sns.countplot(data=game_data,x=\"FTR\",palette=\"Spectral\",)\n",
        "plt.xlabel(\"FTR\",size=15,color=\"Black\")\n",
        "plt.ylabel(\"Count\",size=15,color=\"Black\")"
      ]
    },
    {
      "cell_type": "markdown",
      "metadata": {
        "id": "M7RGiMLZh-YF"
      },
      "source": [
        "**Inference**:\n",
        "\n",
        "1.   As per the counts shown above, it is clear that home team has more wins.\n",
        "2.   It can also be infered that the Away team is more likely to loose or get a draw.\n",
        "\n"
      ]
    },
    {
      "cell_type": "code",
      "execution_count": 87,
      "metadata": {
        "colab": {
          "base_uri": "https://localhost:8080/",
          "height": 619
        },
        "id": "8NVjfV3si0zZ",
        "outputId": "31b7ef7f-f0ef-41e1-ea92-f19fbd8b50ee"
      },
      "outputs": [
        {
          "output_type": "display_data",
          "data": {
            "image/png": "[encoded data removed]",
            "text/plain": [
              "<Figure size 432x288 with 1 Axes>"
            ]
          },
          "metadata": {}
        },
        {
          "output_type": "display_data",
          "data": {
            "image/png": "[encoded data removed]",
            "text/plain": [
              "<Figure size 432x288 with 1 Axes>"
            ]
          },
          "metadata": {}
        }
      ],
      "source": [
        "sns.boxplot(data=game_data,x=\"FTR\",y=\"FTHG\",palette=\"Spectral\", \\\n",
        "            meanline=True,showmeans=True,\\\n",
        "            meanprops={\"marker\":\"^\",\"markerfacecolor\":\"white\", \"markeredgecolor\":\"blue\",\"color\":\"White\"})\n",
        "sns.despine()\n",
        "plt.title(\"Result and Goals Scored by Home Team\")\n",
        "plt.xlabel(\"FTR\",size=15,color=\"Black\")\n",
        "plt.ylabel(\"FTHG\",size=15,color=\"Black\")\n",
        "plt.show()\n",
        "\n",
        "sns.boxplot(data=game_data,x=\"FTR\",y=\"FTAG\",palette=\"Spectral\", \\\n",
        "            meanline=True,showmeans=True,\\\n",
        "            meanprops={\"marker\":\"^\",\"markerfacecolor\":\"white\", \"markeredgecolor\":\"blue\",\"color\":\"White\"})\n",
        "sns.despine()\n",
        "plt.title(\"Result and Goals Scored by Away Team\")\n",
        "plt.xlabel(\"FTR\",size=15,color=\"Black\")\n",
        "plt.ylabel(\"FTAG\",size=15,color=\"Black\")\n",
        "plt.show()"
      ]
    },
    {
      "cell_type": "markdown",
      "metadata": {
        "id": "5Z7Bu0eJkU_s"
      },
      "source": [
        "**Inference**:\n",
        "\n",
        "**Away Team** :\n",
        "\n",
        "1.   The winning score goalmean is 2.1.\n",
        "2.   If its a draw then the mean is 0.9 goals.\n",
        "3.   In the case of lossing the match the mean is 0.6 goals.\n",
        "\n",
        "**Home Team** :\n",
        "\n",
        "\n",
        "1.   The winning score goalmean is 2.5.\n",
        "2.   If its a draw then the mean is 0.9 goals.\n",
        "3.   In the case of lossing the match the mean is 0.5 goals.\n",
        "\n",
        "In conclusion Home team has scored more goals.\n",
        "\n",
        "\n",
        "\n"
      ]
    },
    {
      "cell_type": "markdown",
      "metadata": {
        "id": "sQuzmX1wluIo"
      },
      "source": [
        "## **Bi-Variate analysis**"
      ]
    },
    {
      "cell_type": "markdown",
      "metadata": {
        "id": "Kc2sT5uklzNA"
      },
      "source": [
        "Lets visualize the relationship between features by plotting a pairplot graphs."
      ]
    },
    {
      "cell_type": "code",
      "execution_count": 1,
      "metadata": {
        "colab": {
          "base_uri": "https://localhost:8080/",
          "height": 168
        },
        "id": "8vq7DzBQl8rU",
        "outputId": "504e9c46-5a2c-4d17-8904-06de7c3d5834"
      },
      "outputs": [
        {
          "output_type": "error",
          "ename": "NameError",
          "evalue": "ignored",
          "traceback": [
            "\u001b[0;31m---------------------------------------------------------------------------\u001b[0m",
            "\u001b[0;31mNameError\u001b[0m                                 Traceback (most recent call last)",
            "\u001b[0;32m<ipython-input-1-0099e1cb8d4f>\u001b[0m in \u001b[0;36m<module>\u001b[0;34m()\u001b[0m\n\u001b[0;32m----> 1\u001b[0;31m \u001b[0msns\u001b[0m\u001b[0;34m.\u001b[0m\u001b[0mpairplot\u001b[0m\u001b[0;34m(\u001b[0m\u001b[0mgame_data\u001b[0m\u001b[0;34m,\u001b[0m\u001b[0mhue\u001b[0m\u001b[0;34m=\u001b[0m\u001b[0;34m\"FTR\"\u001b[0m\u001b[0;34m,\u001b[0m\u001b[0mpalette\u001b[0m\u001b[0;34m=\u001b[0m\u001b[0;34m\"Spectral\"\u001b[0m\u001b[0;34m)\u001b[0m\u001b[0;34m\u001b[0m\u001b[0;34m\u001b[0m\u001b[0m\n\u001b[0m",
            "\u001b[0;31mNameError\u001b[0m: name 'sns' is not defined"
          ]
        }
      ],
      "source": [
        "sns.pairplot(game_data,hue=\"FTR\",palette=\"Spectral\")"
      ]
    },
    {
      "cell_type": "markdown",
      "metadata": {
        "id": "IdJU1JKlrldQ"
      },
      "source": [
        "\n",
        "\n",
        "**Inference:**\n",
        "\n",
        "FTAG (Full time Away Goal) and FTHG (Full time Home Goal)   are the main features which clearly explains who will win.  So to predict full time result (FTR) these two features can be used.\n",
        "\n",
        "So the team which has maximum goals in the match wins the match.\n"
      ]
    },
    {
      "cell_type": "markdown",
      "metadata": {
        "id": "XHeyewnDsbsI"
      },
      "source": [
        "Let's check if the team just wins at Half time or does they win full match."
      ]
    },
    {
      "cell_type": "code",
      "execution_count": null,
      "metadata": {
        "id": "viQIgUYtsqkr",
        "colab": {
          "base_uri": "https://localhost:8080/",
          "height": 313
        },
        "outputId": "b6810ea9-d25c-4cd4-d1f5-3de504e63f7c"
      },
      "outputs": [
        {
          "output_type": "execute_result",
          "data": {
            "text/plain": [
              "Text(0, 0.5, 'Count')"
            ]
          },
          "metadata": {},
          "execution_count": 31
        },
        {
          "output_type": "display_data",
          "data": {
            "image/png": "[encoded data removed]",
            "text/plain": [
              "<Figure size 432x288 with 1 Axes>"
            ]
          },
          "metadata": {}
        }
      ],
      "source": [
        "sns.countplot(data=game_data,x=\"HTR\",hue=\"FTR\",palette=\"Spectral\")\n",
        "plt.legend(edgecolor=\"White\",facecolor=\"White\")\n",
        "sns.despine()\n",
        "plt.xlabel(\"HTR\",size=12,color=\"Black\")\n",
        "plt.ylabel(\"Count\",size=12,color=\"Black\")"
      ]
    },
    {
      "cell_type": "markdown",
      "metadata": {
        "id": "0XH8TWWotTgp"
      },
      "source": [
        "Graph Description:\n",
        "\n",
        "H : Shows that Home team leading at Half Time.\n",
        "\n",
        "A : Shows that Away team leading at Half Time.\n",
        "\n",
        "D : Shows that game was level at Half Time.\n",
        "\n",
        "Blue Bar shows the count when team Won.\n",
        "\n",
        "Orange Bar shows the count when team had a Draw.\n",
        "\n",
        "Green Bar shows the count when team Lost the game at Full time.\n",
        "\n",
        "Inference:\n",
        "\n",
        "The team which Leads the Half Time almost always goes on to winning the game at Full time.\n",
        "\n",
        "If at Half Time the game is leveled than it is more likely that Home team will win the match as compared to Away team. Although most likely the outcome is a Draw.\n",
        "\n",
        "There HTR is crutial feature to determine who will win the match."
      ]
    },
    {
      "cell_type": "markdown",
      "metadata": {
        "id": "guEm2OvfvraL"
      },
      "source": [
        "##**Data Prepartion - Train/Test split Dataset**"
      ]
    },
    {
      "cell_type": "markdown",
      "source": [
        "**Determine continous and categorical features.**"
      ],
      "metadata": {
        "id": "mCgaVKFn5cG8"
      }
    },
    {
      "cell_type": "code",
      "source": [
        "categorical_cols = game_data.dtypes[game_data.dtypes == object]\n",
        "categorical_cols"
      ],
      "metadata": {
        "id": "eIHNpFZy5kss"
      },
      "execution_count": null,
      "outputs": []
    },
    {
      "cell_type": "code",
      "source": [
        "# filter by categorical strings \n",
        "categorical_cols = game_data.dtypes[game_data.dtypes == object]  \n",
        "categorical_cols = categorical_cols.index.tolist()  # list of categorical fields\n",
        "\n",
        "game_data[categorical_cols].head().T"
      ],
      "metadata": {
        "id": "vUq_LVte7wtl"
      },
      "execution_count": null,
      "outputs": []
    },
    {
      "cell_type": "code",
      "source": [
        "game_data"
      ],
      "metadata": {
        "id": "02vXHKF87-ib"
      },
      "execution_count": null,
      "outputs": []
    },
    {
      "cell_type": "markdown",
      "source": [
        "Encode FTR (Full Time Result) which is target column"
      ],
      "metadata": {
        "id": "tcB8J7_t8fiN"
      }
    },
    {
      "cell_type": "code",
      "source": [
        "from sklearn.preprocessing import LabelEncoder\n",
        "\n",
        "target_labelencoder = LabelEncoder()\n",
        "game_data['target_feat'] = target_labelencoder.fit_transform(game_data['FTR'])\n",
        "game_data.info"
      ],
      "metadata": {
        "id": "tFjq0g3i8mOT"
      },
      "execution_count": null,
      "outputs": []
    },
    {
      "cell_type": "code",
      "source": [
        "target_cat = ['H','A','D']"
      ],
      "metadata": {
        "id": "PGUu5thx8-HJ"
      },
      "execution_count": null,
      "outputs": []
    },
    {
      "cell_type": "markdown",
      "source": [
        "Using OneHot Encoding to Encode the categorical feature. Also using MinMax Scaler to standarize the numerical features."
      ],
      "metadata": {
        "id": "wON3u_7-9Gfn"
      }
    },
    {
      "cell_type": "code",
      "source": [
        "categorical_feature = [\"HTR\"]\n",
        "numerical_features = [\"FTAG\",\"FTHG\",\"HTAG\",\"HTHG\"]\n",
        "y = game_data['target_feat'].values\n",
        "X = game_data[categorical_feature + numerical_features]\n",
        "colum_transformer = ColumnTransformer([('numerical', MinMaxScaler(), numerical_features),('categorical', OneHotEncoder(), categorical_feature),], remainder='passthrough')\n",
        "X = colum_transformer.fit_transform(X)\n",
        "print(X)"
      ],
      "metadata": {
        "id": "bRwX46aE9Yjb"
      },
      "execution_count": null,
      "outputs": []
    },
    {
      "cell_type": "code",
      "source": [
        "column_names = colum_transformer.get_feature_names_out()\n",
        "column_names "
      ],
      "metadata": {
        "id": "Nq_9m-HE-NPX"
      },
      "execution_count": null,
      "outputs": []
    },
    {
      "cell_type": "code",
      "source": [
        "print('Shape of X',X.shape, '\\n')\n",
        "print('Shape of y',y.shape, '\\n')"
      ],
      "metadata": {
        "id": "tW-olADj-eK3"
      },
      "execution_count": null,
      "outputs": []
    },
    {
      "cell_type": "code",
      "source": [
        "# split dataset into test and train\n",
        "X_train, X_test, y_train, y_test = train_test_split(X, y, test_size = 0.4, random_state = 42)"
      ],
      "metadata": {
        "id": "Xq5ORfQ5-pzD"
      },
      "execution_count": null,
      "outputs": []
    },
    {
      "cell_type": "markdown",
      "source": [
        "## **Regression**"
      ],
      "metadata": {
        "id": "x7rgX13N-yDX"
      }
    },
    {
      "cell_type": "markdown",
      "source": [
        "Implementing Muller Loop to run it on the training dataset against - \"*LinearRegression*\", \"*LogisticRegression*\",\"*MLPRegressor*\", \"*RandomForestRegressor*\", \"*AdaBoost*\",\"*KNNRegressor*\" and display their accuracy."
      ],
      "metadata": {
        "id": "TcCDUyK4-0tp"
      }
    },
    {
      "cell_type": "code",
      "source": [
        "regression_algos = [\"LogisticRegression\",\"AdaBoost\", \"MLPRegressor\", \n",
        "                    \"LinearRegression\", \"KNNRegressor\",\"RandomForestRegressor\"\n",
        "                   ]\n",
        "\n",
        "classifiers = [\n",
        "    LogisticRegression(),\n",
        "    AdaBoostRegressor(random_state=0, n_estimators=100),\n",
        "    MLPRegressor(random_state=1, max_iter=800),\n",
        "    LinearRegression(),\n",
        "    KNeighborsRegressor(n_neighbors=2),\n",
        "    RandomForestRegressor(max_depth=2, random_state=0),\n",
        "    ]\n",
        "\n",
        "\n",
        "max_score = 0.0\n",
        "max_class = ''\n",
        "score_list = []\n",
        "clf_list = []\n",
        "\n",
        "# iterate over classifiers\n",
        "for algo, clf in zip(regression_algos, classifiers):\n",
        "    start_time = time.time()\n",
        "    clf.fit(X_train, y_train)\n",
        "    score = 100.0 * clf.score(X_test, y_test)\n",
        "    score_list.append(score)\n",
        "    clf_list.append(algo)\n",
        "    print('Regression  Classifier = %s, Score (test, accuracy) = %.2f,' %(algo, score), 'Training time = %.2f seconds' % (time.time() - start_time))\n",
        "    \n",
        "    if score > max_score:\n",
        "        clf_best = clf\n",
        "        max_score = score\n",
        "        max_class = algo"
      ],
      "metadata": {
        "id": "4cwoZ3y-_axy"
      },
      "execution_count": null,
      "outputs": []
    },
    {
      "cell_type": "code",
      "source": [
        "# plot the output score for all the algos\n",
        "from IPython.core.pylabtools import figsize\n",
        "from matplotlib import figure\n",
        "\n",
        "plt.figure(figsize=(12,6))\n",
        "plt.plot(clf_list,score_list)\n",
        "plt.xlabel(\"classifier\",size=15,color=\"Black\")\n",
        "plt.ylabel(\"score\",size=15,color=\"Black\");"
      ],
      "metadata": {
        "id": "szZE1zL4ALdR"
      },
      "execution_count": null,
      "outputs": []
    },
    {
      "cell_type": "markdown",
      "source": [
        "## **Classification using Decision Tree**"
      ],
      "metadata": {
        "id": "OZg05GUzAVQq"
      }
    },
    {
      "cell_type": "code",
      "source": [
        "from sklearn import tree\n",
        "\n",
        "decision_Tree_class = tree.DecisionTreeClassifier()\n",
        "decision_Tree_class = decision_Tree_class.fit(X,y)"
      ],
      "metadata": {
        "id": "aKE5JsibAmFc"
      },
      "execution_count": null,
      "outputs": []
    },
    {
      "cell_type": "code",
      "source": [
        "plt.figure(figsize=(12,12))\n",
        "tree.plot_tree(decision_Tree_class)"
      ],
      "metadata": {
        "id": "wrQ2IwMJAvYP"
      },
      "execution_count": null,
      "outputs": []
    },
    {
      "cell_type": "code",
      "source": [
        "import graphviz \n",
        "data = tree.export_graphviz(decision_Tree_class, out_file=None) \n",
        "graph_val = graphviz.Source(data) \n",
        "graph_val.render(\"Football\")"
      ],
      "metadata": {
        "id": "Y83ub2U8A4VE"
      },
      "execution_count": null,
      "outputs": []
    },
    {
      "cell_type": "code",
      "source": [
        "dot_data = tree.export_graphviz(decision_Tree_class, out_file=None, \n",
        "                         feature_names=column_names,  \n",
        "                         class_names=target_cat,  \n",
        "                         filled=True, rounded=True,  \n",
        "                         special_characters=True)  \n",
        "graph = graphviz.Source(dot_data)  \n",
        "graph "
      ],
      "metadata": {
        "id": "zgDVY46LBCCi"
      },
      "execution_count": null,
      "outputs": []
    },
    {
      "cell_type": "markdown",
      "source": [
        "Implementing Muller Loop to run it on the training dataset against following algorithms:\n",
        "\n",
        "1.   NaiveBayes Classifier\n",
        "2.   KNN Classifier\n",
        "3.   RandomForest Classifier\n",
        "4.   XGB Classifier\n",
        "5. DecisionTreeClassifier"
      ],
      "metadata": {
        "id": "4qaHRCC7BhyB"
      }
    },
    {
      "cell_type": "code",
      "source": [
        "class_algo = [\"DecisionTreeClassifier\", \"RandomForest Classifier\",\"KNN Classifier\", \n",
        "         \"NaiveBayes Classifier\", \n",
        "         \"XGB Classifier\", ]\n",
        "\n",
        "classifiers = [\n",
        "    DecisionTreeClassifier(),\n",
        "    ensemble.RandomForestClassifier(),\n",
        "    KNeighborsClassifier(),\n",
        "    GaussianNB(),\n",
        "    XGBClassifier(),\n",
        "    ]\n",
        "\n",
        "max_score = 0.0\n",
        "max_class = ''\n",
        "score_list = []\n",
        "clf_list = []\n",
        "\n",
        "# iterate over classifiers\n",
        "for algo, clf in zip(class_algo, classifiers):\n",
        "    start_time = time.time()\n",
        "    clf.fit(X_train, y_train)\n",
        "    score = 100.0 * clf.score(X_test, y_test)\n",
        "    score_list.append(score)\n",
        "    clf_list.append(algo)\n",
        "    print('Classification  Classifier = %s, Score (test, accuracy) = %.2f,' %(algo, score), 'Training time = %.2f seconds' % (time.time() - start_time))\n",
        "    \n",
        "    if score > max_score:\n",
        "        clf_best = clf\n",
        "        max_score = score\n",
        "        max_class = algo\n"
      ],
      "metadata": {
        "id": "79Rgn3joCBmW"
      },
      "execution_count": null,
      "outputs": []
    },
    {
      "cell_type": "code",
      "source": [
        "plt.figure(figsize=(12,6))\n",
        "plt.plot(clf_list,score_list)\n",
        "plt.xlabel(\"classifier\",size=15,color=\"Black\")\n",
        "plt.ylabel(\"score\",size=15,color=\"Black\");"
      ],
      "metadata": {
        "id": "LvnHHmbmC3lW"
      },
      "execution_count": null,
      "outputs": []
    },
    {
      "cell_type": "markdown",
      "source": [
        "**K-Fold Technique**"
      ],
      "metadata": {
        "id": "U3xjFbMeDB4_"
      }
    },
    {
      "cell_type": "code",
      "source": [
        "'''\n",
        "split the training dataset into 3 folds using KFold Technique \n",
        "and run the each fold against the give list of classfiers and check their accuracy.\n",
        "'''\n",
        "kf = StratifiedKFold(n_splits=3, shuffle=True, random_state=42)\n",
        "\n",
        "for train_index, test_index in kf.split(X, y):\n",
        "    x_train_fold, x_test_fold = X[train_index], X[test_index]\n",
        "    y_train_fold, y_test_fold = y[train_index], y[test_index]\n",
        "\n",
        "    print(100*'*' )\n",
        "    score = cross_val_score(ensemble.RandomForestClassifier(random_state= 42), x_train_fold, y_train_fold, cv= kf, scoring=\"accuracy\")\n",
        "    print(f'RandomForestClassifier Scores for each fold are: {score}')\n",
        "    print(f'RandomForestClassifier Average score: {\"{:.2f}\".format(score.mean())}')\n",
        "    print(100*'-' )\n",
        "\n",
        "    score = cross_val_score(GaussianNB(), x_train_fold, y_train_fold, cv= kf, scoring=\"accuracy\")\n",
        "    print(f'GaussianNB Scores for each fold are: {score}')\n",
        "    print(f'GaussianNB Average score: {\"{:.2f}\".format(score.mean())}')\n",
        "    print(100*'-' )\n",
        "    score = cross_val_score(XGBClassifier(), x_train_fold, y_train_fold, cv= kf, scoring=\"accuracy\")\n",
        "    print(f'XGBClassifier Scores for each fold are: {score}')\n",
        "    print(f'XGBClassifier Average score: {\"{:.2f}\".format(score.mean())}')\n",
        "\n",
        "    print(100*'-' )\n",
        "    score = cross_val_score(KNeighborsClassifier(n_neighbors = 5),x_train_fold, y_train_fold, cv=kf, scoring='accuracy')\n",
        "    print(f'KNeighborsClassifier Scores for each fold are: {score}')\n",
        "    print(f'KNeighborsClassifier Average score: {\"{:.2f}\".format(score.mean())}')\n",
        "\n",
        "    print(100*'-' )\n",
        "    score = cross_val_score(DecisionTreeClassifier(),x_train_fold, y_train_fold, cv=kf, scoring='accuracy')\n",
        "    print(f'DecisionTreeClassifier Scores for each fold are: {score}')\n",
        "    print(f'DecisionTreeClassifier Average score: {\"{:.2f}\".format(score.mean())}')\n"
      ],
      "metadata": {
        "id": "e-JNIouOB_YA"
      },
      "execution_count": null,
      "outputs": []
    },
    {
      "cell_type": "markdown",
      "source": [
        "Finalize the outcome depending on voting and using the output of all the models."
      ],
      "metadata": {
        "id": "4KckqxIKD00x"
      }
    },
    {
      "cell_type": "code",
      "source": [
        "classifier_list = [('knn', KNeighborsClassifier()),\n",
        "            ('naive bayes classifier', GaussianNB()),\n",
        "            ('random forst classifier', ensemble.RandomForestClassifier()),\n",
        "            ('XGB Classifier', XGBClassifier())]"
      ],
      "metadata": {
        "id": "mkuRiRkwDyEk"
      },
      "execution_count": null,
      "outputs": []
    },
    {
      "cell_type": "code",
      "source": [
        "voting_classifier = VotingClassifier(classifier_list, voting='soft')\n",
        "voting_classifier.fit(X_train, y_train)\n",
        "\n",
        "y_pred = voting_classifier.predict(X_test)\n",
        "print(f\"Voting Classifier's accuracy: {accuracy_score(y_pred, y_test):.2f}\")"
      ],
      "metadata": {
        "id": "Wx374vpmEE76"
      },
      "execution_count": null,
      "outputs": []
    },
    {
      "cell_type": "markdown",
      "source": [
        "Result"
      ],
      "metadata": {
        "id": "yyAQAvTnEPeD"
      }
    },
    {
      "cell_type": "code",
      "source": [
        "pred_result = classification_report(y_test, y_pred)\n",
        "print(pred_result)"
      ],
      "metadata": {
        "id": "OLHUeeKJEQja"
      },
      "execution_count": null,
      "outputs": []
    },
    {
      "cell_type": "markdown",
      "source": [
        "Confusion matrix"
      ],
      "metadata": {
        "id": "hbQOJuCWETL7"
      }
    },
    {
      "cell_type": "code",
      "source": [
        "con_matrix = confusion_matrix(y_test, y_pred, labels=voting_classifier.classes_)\n",
        "figure, axes = plt.subplots(1, figsize=(15,15))\n",
        "disp = ConfusionMatrixDisplay(confusion_matrix=con_matrix, display_labels=voting_classifier.classes_)\n",
        "disp.plot(ax = axes, xticks_rotation='vertical',cmap = \"coolwarm\")"
      ],
      "metadata": {
        "id": "qOqZykRqEVUs"
      },
      "execution_count": null,
      "outputs": []
    },
    {
      "cell_type": "markdown",
      "metadata": {
        "id": "yEN-FJZ4AQTz"
      },
      "source": [
        "### Column: Odd"
      ]
    },
    {
      "cell_type": "markdown",
      "metadata": {
        "id": "qz7uOatwARYX"
      },
      "source": [
        "Odds refers to the amount which one recieves when we bet 1 unit on the result. For instance, suppose the odds for a away win is 4, than the one who has bet on away win will get 4 unit per 1 unit."
      ]
    },
    {
      "cell_type": "code",
      "execution_count": null,
      "metadata": {
        "id": "wEQBWJXiARFN"
      },
      "outputs": [],
      "source": [
        "# function to predict odds\n",
        "def pred_odds_result(odd_home,odd_draw,odd_away):\n",
        "    if odd_home<odd_draw and odd_home<odd_draw:\n",
        "        return(\"Home Win\")\n",
        "    elif odd_draw<odd_home and odd_draw<odd_away:\n",
        "        return(\"Draw\")\n",
        "    elif odd_away<odd_draw and odd_away<odd_home:\n",
        "        return(\"Away Win\")"
      ]
    },
    {
      "cell_type": "code",
      "execution_count": null,
      "metadata": {
        "id": "Og9y2J0MAcT_"
      },
      "outputs": [],
      "source": [
        "# function returns actual result of match\n",
        "def actual_result(fthg,ftag):\n",
        "    if fthg>ftag:\n",
        "        return(\"Home Win\")\n",
        "    elif fthg==ftag:\n",
        "        return(\"Draw\")\n",
        "    elif fthg<ftag:\n",
        "        return(\"Away Win\")\n",
        "    \n",
        "def actual_result_encoder(fthg,ftag):\n",
        "    if fthg>ftag:\n",
        "        return (1)\n",
        "    elif fthg==ftag:\n",
        "        return (2)\n",
        "    elif fthg<ftag:\n",
        "        return (3)"
      ]
    },
    {
      "cell_type": "code",
      "execution_count": null,
      "metadata": {
        "id": "GMu6GbKFA2pJ"
      },
      "outputs": [],
      "source": [
        "# compare chances of correct prediction by looking into the odds\n",
        "def compare_pred(data):\n",
        "    correct=0\n",
        "    wrong=0\n",
        "    for i in range(1,data.shape[0]+1):\n",
        "        odd_home=data[i-1:i][\"odd_h\"].item()\n",
        "        odd_draw=data[i-1:i][\"odd_d\"].item()\n",
        "        odd_away=data[i-1:i][\"odd_a\"].item()\n",
        "        fthg=data[i-1:i][\"fthg\"].item()\n",
        "        ftag=data[i-1:i][\"ftag\"].item()\n",
        "        odds_result=pred_odds_result(odd_home,odd_draw,odd_away)\n",
        "        actresult=actual_result(fthg,ftag)\n",
        "        if odds_result==actresult:\n",
        "            correct+=1\n",
        "        else:\n",
        "            wrong+=1\n",
        "    return(str(\"%.2f\"%(correct/(correct+wrong)))+str(\"% correct\"))"
      ]
    },
    {
      "cell_type": "code",
      "execution_count": null,
      "metadata": {
        "colab": {
          "base_uri": "https://localhost:8080/",
          "height": 35
        },
        "id": "x47lGC6_A7AV",
        "outputId": "65b3be4c-18b5-4c1e-d3eb-86b96c4917a8"
      },
      "outputs": [
        {
          "data": {
            "application/vnd.google.colaboratory.intrinsic+json": {
              "type": "string"
            },
            "text/plain": [
              "'0.53% correct'"
            ]
          },
          "execution_count": 47,
          "metadata": {},
          "output_type": "execute_result"
        }
      ],
      "source": [
        "compare_pred(game_info)"
      ]
    },
    {
      "cell_type": "markdown",
      "metadata": {
        "id": "tq5h30bfBEEn"
      },
      "source": [
        "The above percentage shows that guessing the result based on the odds, would be right half of the time. So we want better indicator to improve this."
      ]
    },
    {
      "cell_type": "markdown",
      "metadata": {
        "id": "hE7E9__EBFSk"
      },
      "source": [
        "### Predicting results"
      ]
    },
    {
      "cell_type": "markdown",
      "metadata": {
        "id": "7kvo6XNeBPUi"
      },
      "source": [
        "Lets try using the difference among the odds and odds for predicting the result of a match."
      ]
    },
    {
      "cell_type": "code",
      "execution_count": null,
      "metadata": {
        "colab": {
          "base_uri": "https://localhost:8080/",
          "height": 206
        },
        "id": "bNHyeatnBK8W",
        "outputId": "e49ecf08-e0e6-4c67-991c-3a97f860a92e"
      },
      "outputs": [
        {
          "data": {
            "text/html": [
              "\n",
              "  <div id=\"df-c996913b-2b15-44ef-bbfb-86784f916375\">\n",
              "    <div class=\"colab-df-container\">\n",
              "      <div>\n",
              "<style scoped>\n",
              "    .dataframe tbody tr th:only-of-type {\n",
              "        vertical-align: middle;\n",
              "    }\n",
              "\n",
              "    .dataframe tbody tr th {\n",
              "        vertical-align: top;\n",
              "    }\n",
              "\n",
              "    .dataframe thead th {\n",
              "        text-align: right;\n",
              "    }\n",
              "</style>\n",
              "<table border=\"1\" class=\"dataframe\">\n",
              "  <thead>\n",
              "    <tr style=\"text-align: right;\">\n",
              "      <th></th>\n",
              "      <th>fthg</th>\n",
              "      <th>ftag</th>\n",
              "      <th>odd_h</th>\n",
              "      <th>odd_d</th>\n",
              "      <th>odd_a</th>\n",
              "    </tr>\n",
              "  </thead>\n",
              "  <tbody>\n",
              "    <tr>\n",
              "      <th>0</th>\n",
              "      <td>3</td>\n",
              "      <td>1</td>\n",
              "      <td>1.56</td>\n",
              "      <td>4.41</td>\n",
              "      <td>7.42</td>\n",
              "    </tr>\n",
              "    <tr>\n",
              "      <th>1</th>\n",
              "      <td>2</td>\n",
              "      <td>2</td>\n",
              "      <td>2.36</td>\n",
              "      <td>3.60</td>\n",
              "      <td>3.40</td>\n",
              "    </tr>\n",
              "    <tr>\n",
              "      <th>2</th>\n",
              "      <td>2</td>\n",
              "      <td>0</td>\n",
              "      <td>1.83</td>\n",
              "      <td>4.20</td>\n",
              "      <td>4.80</td>\n",
              "    </tr>\n",
              "    <tr>\n",
              "      <th>3</th>\n",
              "      <td>0</td>\n",
              "      <td>1</td>\n",
              "      <td>1.55</td>\n",
              "      <td>4.50</td>\n",
              "      <td>9.40</td>\n",
              "    </tr>\n",
              "    <tr>\n",
              "      <th>4</th>\n",
              "      <td>1</td>\n",
              "      <td>0</td>\n",
              "      <td>2.50</td>\n",
              "      <td>3.40</td>\n",
              "      <td>3.45</td>\n",
              "    </tr>\n",
              "  </tbody>\n",
              "</table>\n",
              "</div>\n",
              "      <button class=\"colab-df-convert\" onclick=\"convertToInteractive('df-c996913b-2b15-44ef-bbfb-86784f916375')\"\n",
              "              title=\"Convert this dataframe to an interactive table.\"\n",
              "              style=\"display:none;\">\n",
              "        \n",
              "  <svg xmlns=\"http://www.w3.org/2000/svg\" height=\"24px\"viewBox=\"0 0 24 24\"\n",
              "       width=\"24px\">\n",
              "    <path d=\"M0 0h24v24H0V0z\" fill=\"none\"/>\n",
              "    <path d=\"M18.56 5.44l.94 2.06.94-2.06 2.06-.94-2.06-.94-.94-2.06-.94 2.06-2.06.94zm-11 1L8.5 8.5l.94-2.06 2.06-.94-2.06-.94L8.5 2.5l-.94 2.06-2.06.94zm10 10l.94 2.06.94-2.06 2.06-.94-2.06-.94-.94-2.06-.94 2.06-2.06.94z\"/><path d=\"M17.41 7.96l-1.37-1.37c-.4-.4-.92-.59-1.43-.59-.52 0-1.04.2-1.43.59L10.3 9.45l-7.72 7.72c-.78.78-.78 2.05 0 2.83L4 21.41c.39.39.9.59 1.41.59.51 0 1.02-.2 1.41-.59l7.78-7.78 2.81-2.81c.8-.78.8-2.07 0-2.86zM5.41 20L4 18.59l7.72-7.72 1.47 1.35L5.41 20z\"/>\n",
              "  </svg>\n",
              "      </button>\n",
              "      \n",
              "  <style>\n",
              "    .colab-df-container {\n",
              "      display:flex;\n",
              "      flex-wrap:wrap;\n",
              "      gap: 12px;\n",
              "    }\n",
              "\n",
              "    .colab-df-convert {\n",
              "      background-color: #E8F0FE;\n",
              "      border: none;\n",
              "      border-radius: 50%;\n",
              "      cursor: pointer;\n",
              "      display: none;\n",
              "      fill: #1967D2;\n",
              "      height: 32px;\n",
              "      padding: 0 0 0 0;\n",
              "      width: 32px;\n",
              "    }\n",
              "\n",
              "    .colab-df-convert:hover {\n",
              "      background-color: #E2EBFA;\n",
              "      box-shadow: 0px 1px 2px rgba(60, 64, 67, 0.3), 0px 1px 3px 1px rgba(60, 64, 67, 0.15);\n",
              "      fill: #174EA6;\n",
              "    }\n",
              "\n",
              "    [theme=dark] .colab-df-convert {\n",
              "      background-color: #3B4455;\n",
              "      fill: #D2E3FC;\n",
              "    }\n",
              "\n",
              "    [theme=dark] .colab-df-convert:hover {\n",
              "      background-color: #434B5C;\n",
              "      box-shadow: 0px 1px 3px 1px rgba(0, 0, 0, 0.15);\n",
              "      filter: drop-shadow(0px 1px 2px rgba(0, 0, 0, 0.3));\n",
              "      fill: #FFFFFF;\n",
              "    }\n",
              "  </style>\n",
              "\n",
              "      <script>\n",
              "        const buttonEl =\n",
              "          document.querySelector('#df-c996913b-2b15-44ef-bbfb-86784f916375 button.colab-df-convert');\n",
              "        buttonEl.style.display =\n",
              "          google.colab.kernel.accessAllowed ? 'block' : 'none';\n",
              "\n",
              "        async function convertToInteractive(key) {\n",
              "          const element = document.querySelector('#df-c996913b-2b15-44ef-bbfb-86784f916375');\n",
              "          const dataTable =\n",
              "            await google.colab.kernel.invokeFunction('convertToInteractive',\n",
              "                                                     [key], {});\n",
              "          if (!dataTable) return;\n",
              "\n",
              "          const docLinkHtml = 'Like what you see? Visit the ' +\n",
              "            '<a target=\"_blank\" href=https://colab.research.google.com/notebooks/data_table.ipynb>data table notebook</a>'\n",
              "            + ' to learn more about interactive tables.';\n",
              "          element.innerHTML = '';\n",
              "          dataTable['output_type'] = 'display_data';\n",
              "          await google.colab.output.renderOutput(dataTable, element);\n",
              "          const docLink = document.createElement('div');\n",
              "          docLink.innerHTML = docLinkHtml;\n",
              "          element.appendChild(docLink);\n",
              "        }\n",
              "      </script>\n",
              "    </div>\n",
              "  </div>\n",
              "  "
            ],
            "text/plain": [
              "   fthg  ftag  odd_h  odd_d  odd_a\n",
              "0     3     1   1.56   4.41   7.42\n",
              "1     2     2   2.36   3.60   3.40\n",
              "2     2     0   1.83   4.20   4.80\n",
              "3     0     1   1.55   4.50   9.40\n",
              "4     1     0   2.50   3.40   3.45"
            ]
          },
          "execution_count": 48,
          "metadata": {},
          "output_type": "execute_result"
        }
      ],
      "source": [
        "x = game_info.iloc[:,9:14]\n",
        "x.head()"
      ]
    },
    {
      "cell_type": "code",
      "execution_count": null,
      "metadata": {
        "colab": {
          "base_uri": "https://localhost:8080/",
          "height": 206
        },
        "id": "Sk568xWoBcQi",
        "outputId": "ea08c415-b050-470f-91f7-95043b683a5b"
      },
      "outputs": [
        {
          "data": {
            "text/html": [
              "\n",
              "  <div id=\"df-66efca4d-065f-46e0-9c94-5c55299fa6f6\">\n",
              "    <div class=\"colab-df-container\">\n",
              "      <div>\n",
              "<style scoped>\n",
              "    .dataframe tbody tr th:only-of-type {\n",
              "        vertical-align: middle;\n",
              "    }\n",
              "\n",
              "    .dataframe tbody tr th {\n",
              "        vertical-align: top;\n",
              "    }\n",
              "\n",
              "    .dataframe thead th {\n",
              "        text-align: right;\n",
              "    }\n",
              "</style>\n",
              "<table border=\"1\" class=\"dataframe\">\n",
              "  <thead>\n",
              "    <tr style=\"text-align: right;\">\n",
              "      <th></th>\n",
              "      <th>odd_h</th>\n",
              "      <th>odd_d</th>\n",
              "      <th>odd_a</th>\n",
              "      <th>diff_h_d</th>\n",
              "      <th>diff_d_a</th>\n",
              "      <th>diff_h_a</th>\n",
              "    </tr>\n",
              "  </thead>\n",
              "  <tbody>\n",
              "    <tr>\n",
              "      <th>10107</th>\n",
              "      <td>1.97</td>\n",
              "      <td>4.35</td>\n",
              "      <td>8.0</td>\n",
              "      <td>2.38</td>\n",
              "      <td>3.65</td>\n",
              "      <td>6.03</td>\n",
              "    </tr>\n",
              "    <tr>\n",
              "      <th>10108</th>\n",
              "      <td>1.19</td>\n",
              "      <td>8.50</td>\n",
              "      <td>20.0</td>\n",
              "      <td>7.31</td>\n",
              "      <td>11.50</td>\n",
              "      <td>18.81</td>\n",
              "    </tr>\n",
              "    <tr>\n",
              "      <th>10109</th>\n",
              "      <td>1.32</td>\n",
              "      <td>6.24</td>\n",
              "      <td>11.5</td>\n",
              "      <td>4.92</td>\n",
              "      <td>5.26</td>\n",
              "      <td>10.18</td>\n",
              "    </tr>\n",
              "    <tr>\n",
              "      <th>10110</th>\n",
              "      <td>1.74</td>\n",
              "      <td>4.07</td>\n",
              "      <td>5.9</td>\n",
              "      <td>2.33</td>\n",
              "      <td>1.83</td>\n",
              "      <td>4.16</td>\n",
              "    </tr>\n",
              "    <tr>\n",
              "      <th>10111</th>\n",
              "      <td>1.79</td>\n",
              "      <td>3.96</td>\n",
              "      <td>5.4</td>\n",
              "      <td>2.17</td>\n",
              "      <td>1.44</td>\n",
              "      <td>3.61</td>\n",
              "    </tr>\n",
              "  </tbody>\n",
              "</table>\n",
              "</div>\n",
              "      <button class=\"colab-df-convert\" onclick=\"convertToInteractive('df-66efca4d-065f-46e0-9c94-5c55299fa6f6')\"\n",
              "              title=\"Convert this dataframe to an interactive table.\"\n",
              "              style=\"display:none;\">\n",
              "        \n",
              "  <svg xmlns=\"http://www.w3.org/2000/svg\" height=\"24px\"viewBox=\"0 0 24 24\"\n",
              "       width=\"24px\">\n",
              "    <path d=\"M0 0h24v24H0V0z\" fill=\"none\"/>\n",
              "    <path d=\"M18.56 5.44l.94 2.06.94-2.06 2.06-.94-2.06-.94-.94-2.06-.94 2.06-2.06.94zm-11 1L8.5 8.5l.94-2.06 2.06-.94-2.06-.94L8.5 2.5l-.94 2.06-2.06.94zm10 10l.94 2.06.94-2.06 2.06-.94-2.06-.94-.94-2.06-.94 2.06-2.06.94z\"/><path d=\"M17.41 7.96l-1.37-1.37c-.4-.4-.92-.59-1.43-.59-.52 0-1.04.2-1.43.59L10.3 9.45l-7.72 7.72c-.78.78-.78 2.05 0 2.83L4 21.41c.39.39.9.59 1.41.59.51 0 1.02-.2 1.41-.59l7.78-7.78 2.81-2.81c.8-.78.8-2.07 0-2.86zM5.41 20L4 18.59l7.72-7.72 1.47 1.35L5.41 20z\"/>\n",
              "  </svg>\n",
              "      </button>\n",
              "      \n",
              "  <style>\n",
              "    .colab-df-container {\n",
              "      display:flex;\n",
              "      flex-wrap:wrap;\n",
              "      gap: 12px;\n",
              "    }\n",
              "\n",
              "    .colab-df-convert {\n",
              "      background-color: #E8F0FE;\n",
              "      border: none;\n",
              "      border-radius: 50%;\n",
              "      cursor: pointer;\n",
              "      display: none;\n",
              "      fill: #1967D2;\n",
              "      height: 32px;\n",
              "      padding: 0 0 0 0;\n",
              "      width: 32px;\n",
              "    }\n",
              "\n",
              "    .colab-df-convert:hover {\n",
              "      background-color: #E2EBFA;\n",
              "      box-shadow: 0px 1px 2px rgba(60, 64, 67, 0.3), 0px 1px 3px 1px rgba(60, 64, 67, 0.15);\n",
              "      fill: #174EA6;\n",
              "    }\n",
              "\n",
              "    [theme=dark] .colab-df-convert {\n",
              "      background-color: #3B4455;\n",
              "      fill: #D2E3FC;\n",
              "    }\n",
              "\n",
              "    [theme=dark] .colab-df-convert:hover {\n",
              "      background-color: #434B5C;\n",
              "      box-shadow: 0px 1px 3px 1px rgba(0, 0, 0, 0.15);\n",
              "      filter: drop-shadow(0px 1px 2px rgba(0, 0, 0, 0.3));\n",
              "      fill: #FFFFFF;\n",
              "    }\n",
              "  </style>\n",
              "\n",
              "      <script>\n",
              "        const buttonEl =\n",
              "          document.querySelector('#df-66efca4d-065f-46e0-9c94-5c55299fa6f6 button.colab-df-convert');\n",
              "        buttonEl.style.display =\n",
              "          google.colab.kernel.accessAllowed ? 'block' : 'none';\n",
              "\n",
              "        async function convertToInteractive(key) {\n",
              "          const element = document.querySelector('#df-66efca4d-065f-46e0-9c94-5c55299fa6f6');\n",
              "          const dataTable =\n",
              "            await google.colab.kernel.invokeFunction('convertToInteractive',\n",
              "                                                     [key], {});\n",
              "          if (!dataTable) return;\n",
              "\n",
              "          const docLinkHtml = 'Like what you see? Visit the ' +\n",
              "            '<a target=\"_blank\" href=https://colab.research.google.com/notebooks/data_table.ipynb>data table notebook</a>'\n",
              "            + ' to learn more about interactive tables.';\n",
              "          element.innerHTML = '';\n",
              "          dataTable['output_type'] = 'display_data';\n",
              "          await google.colab.output.renderOutput(dataTable, element);\n",
              "          const docLink = document.createElement('div');\n",
              "          docLink.innerHTML = docLinkHtml;\n",
              "          element.appendChild(docLink);\n",
              "        }\n",
              "      </script>\n",
              "    </div>\n",
              "  </div>\n",
              "  "
            ],
            "text/plain": [
              "       odd_h  odd_d  odd_a  diff_h_d  diff_d_a  diff_h_a\n",
              "10107   1.97   4.35    8.0      2.38      3.65      6.03\n",
              "10108   1.19   8.50   20.0      7.31     11.50     18.81\n",
              "10109   1.32   6.24   11.5      4.92      5.26     10.18\n",
              "10110   1.74   4.07    5.9      2.33      1.83      4.16\n",
              "10111   1.79   3.96    5.4      2.17      1.44      3.61"
            ]
          },
          "execution_count": 49,
          "metadata": {},
          "output_type": "execute_result"
        }
      ],
      "source": [
        "x=game_info.iloc[:,9:14]\n",
        "result=[]\n",
        "for i in range(1,game_info.shape[0]+1):\n",
        "    result.append(actual_result_encoder(game_info[i-1:i][\"fthg\"].item(),game_info[i-1:i][\"ftag\"].item()))\n",
        "y=pd.DataFrame(result)\n",
        "x[\"diff_h_d\"]=abs(x[\"odd_h\"]-x[\"odd_d\"])\n",
        "x[\"diff_d_a\"]=abs(x[\"odd_d\"]-x[\"odd_a\"])\n",
        "x[\"diff_h_a\"]=abs(x[\"odd_h\"]-x[\"odd_a\"])\n",
        "x=x.drop([\"fthg\",\"ftag\"],axis=1)\n",
        "x.tail()"
      ]
    },
    {
      "cell_type": "markdown",
      "metadata": {
        "id": "nWnnEgeSBmHU"
      },
      "source": [
        "\n",
        "\n",
        "1.   Split data into training set and test set\n",
        "2.   Apply cross validation\n",
        "\n"
      ]
    },
    {
      "cell_type": "code",
      "execution_count": null,
      "metadata": {
        "id": "TCK_m09cBnGa"
      },
      "outputs": [],
      "source": [
        "x_train,x_test,y_train,y_test=train_test_split(x,y,test_size=0.2,random_state=0)"
      ]
    },
    {
      "cell_type": "code",
      "execution_count": null,
      "metadata": {
        "id": "m3hd1moEBxNh"
      },
      "outputs": [],
      "source": [
        "k_fold = KFold(n_splits=10, shuffle=True, random_state=0)"
      ]
    },
    {
      "cell_type": "markdown",
      "metadata": {
        "id": "snpEG95rB2_x"
      },
      "source": [
        "Function to check the accuracy of the models."
      ]
    },
    {
      "cell_type": "code",
      "execution_count": null,
      "metadata": {
        "id": "QnXhPjSmB3tN"
      },
      "outputs": [],
      "source": [
        "def check_score(model):\n",
        "    return np.mean(cross_val_score(model,x_train,y_train,cv=k_fold,scoring=\"accuracy\"))\n",
        "\n",
        "from sklearn.metrics import accuracy_score\n",
        "def normalized_score(model):\n",
        "    return (accuracy_score(y_train,model.predict(x_train)))"
      ]
    },
    {
      "cell_type": "markdown",
      "metadata": {
        "id": "oyIM5x4GCGYe"
      },
      "source": [
        "Function to print the confusion matrix for each model."
      ]
    },
    {
      "cell_type": "code",
      "execution_count": null,
      "metadata": {
        "id": "e-2dYcEWCHAn"
      },
      "outputs": [],
      "source": [
        "from sklearn.metrics import confusion_matrix\n",
        "def confusion_matrix_model_val(model_used):\n",
        "    cm=confusion_matrix(y_train,model_used.predict(x_train))\n",
        "    cm=pd.DataFrame(cm)\n",
        "    cm.columns=[\"Predicted Home Win\",\"Predicted Draw\",\"Predicted Away Win\"]\n",
        "    cm.index=[\"Actual Home Win\",\"Actual Draw\",\"Actual Away Win\"]\n",
        "    return cm"
      ]
    },
    {
      "cell_type": "markdown",
      "metadata": {
        "id": "c-2VEWobCRHH"
      },
      "source": [
        "### Logistic Regression"
      ]
    },
    {
      "cell_type": "code",
      "execution_count": null,
      "metadata": {
        "colab": {
          "base_uri": "https://localhost:8080/",
          "height": 1000
        },
        "id": "g1qkVqgUCTmS",
        "outputId": "c164df17-d075-47b5-b5d9-5eefe7264210"
      },
      "outputs": [
        {
          "name": "stderr",
          "output_type": "stream",
          "text": [
            "/usr/local/lib/python3.7/dist-packages/sklearn/utils/validation.py:993: DataConversionWarning: A column-vector y was passed when a 1d array was expected. Please change the shape of y to (n_samples, ), for example using ravel().\n",
            "  y = column_or_1d(y, warn=True)\n",
            "/usr/local/lib/python3.7/dist-packages/sklearn/linear_model/_logistic.py:818: ConvergenceWarning: lbfgs failed to converge (status=1):\n",
            "STOP: TOTAL NO. of ITERATIONS REACHED LIMIT.\n",
            "\n",
            "Increase the number of iterations (max_iter) or scale the data as shown in:\n",
            "    https://scikit-learn.org/stable/modules/preprocessing.html\n",
            "Please also refer to the documentation for alternative solver options:\n",
            "    https://scikit-learn.org/stable/modules/linear_model.html#logistic-regression\n",
            "  extra_warning_msg=_LOGISTIC_SOLVER_CONVERGENCE_MSG,\n",
            "/usr/local/lib/python3.7/dist-packages/sklearn/utils/validation.py:993: DataConversionWarning: A column-vector y was passed when a 1d array was expected. Please change the shape of y to (n_samples, ), for example using ravel().\n",
            "  y = column_or_1d(y, warn=True)\n"
          ]
        },
        {
          "name": "stdout",
          "output_type": "stream",
          "text": [
            "Logistic Regression Accuracy (without cross validation): 0.5277537396464335\n"
          ]
        },
        {
          "name": "stderr",
          "output_type": "stream",
          "text": [
            "/usr/local/lib/python3.7/dist-packages/sklearn/linear_model/_logistic.py:818: ConvergenceWarning: lbfgs failed to converge (status=1):\n",
            "STOP: TOTAL NO. of ITERATIONS REACHED LIMIT.\n",
            "\n",
            "Increase the number of iterations (max_iter) or scale the data as shown in:\n",
            "    https://scikit-learn.org/stable/modules/preprocessing.html\n",
            "Please also refer to the documentation for alternative solver options:\n",
            "    https://scikit-learn.org/stable/modules/linear_model.html#logistic-regression\n",
            "  extra_warning_msg=_LOGISTIC_SOLVER_CONVERGENCE_MSG,\n",
            "/usr/local/lib/python3.7/dist-packages/sklearn/utils/validation.py:993: DataConversionWarning: A column-vector y was passed when a 1d array was expected. Please change the shape of y to (n_samples, ), for example using ravel().\n",
            "  y = column_or_1d(y, warn=True)\n",
            "/usr/local/lib/python3.7/dist-packages/sklearn/linear_model/_logistic.py:818: ConvergenceWarning: lbfgs failed to converge (status=1):\n",
            "STOP: TOTAL NO. of ITERATIONS REACHED LIMIT.\n",
            "\n",
            "Increase the number of iterations (max_iter) or scale the data as shown in:\n",
            "    https://scikit-learn.org/stable/modules/preprocessing.html\n",
            "Please also refer to the documentation for alternative solver options:\n",
            "    https://scikit-learn.org/stable/modules/linear_model.html#logistic-regression\n",
            "  extra_warning_msg=_LOGISTIC_SOLVER_CONVERGENCE_MSG,\n",
            "/usr/local/lib/python3.7/dist-packages/sklearn/utils/validation.py:993: DataConversionWarning: A column-vector y was passed when a 1d array was expected. Please change the shape of y to (n_samples, ), for example using ravel().\n",
            "  y = column_or_1d(y, warn=True)\n",
            "/usr/local/lib/python3.7/dist-packages/sklearn/linear_model/_logistic.py:818: ConvergenceWarning: lbfgs failed to converge (status=1):\n",
            "STOP: TOTAL NO. of ITERATIONS REACHED LIMIT.\n",
            "\n",
            "Increase the number of iterations (max_iter) or scale the data as shown in:\n",
            "    https://scikit-learn.org/stable/modules/preprocessing.html\n",
            "Please also refer to the documentation for alternative solver options:\n",
            "    https://scikit-learn.org/stable/modules/linear_model.html#logistic-regression\n",
            "  extra_warning_msg=_LOGISTIC_SOLVER_CONVERGENCE_MSG,\n",
            "/usr/local/lib/python3.7/dist-packages/sklearn/utils/validation.py:993: DataConversionWarning: A column-vector y was passed when a 1d array was expected. Please change the shape of y to (n_samples, ), for example using ravel().\n",
            "  y = column_or_1d(y, warn=True)\n",
            "/usr/local/lib/python3.7/dist-packages/sklearn/linear_model/_logistic.py:818: ConvergenceWarning: lbfgs failed to converge (status=1):\n",
            "STOP: TOTAL NO. of ITERATIONS REACHED LIMIT.\n",
            "\n",
            "Increase the number of iterations (max_iter) or scale the data as shown in:\n",
            "    https://scikit-learn.org/stable/modules/preprocessing.html\n",
            "Please also refer to the documentation for alternative solver options:\n",
            "    https://scikit-learn.org/stable/modules/linear_model.html#logistic-regression\n",
            "  extra_warning_msg=_LOGISTIC_SOLVER_CONVERGENCE_MSG,\n",
            "/usr/local/lib/python3.7/dist-packages/sklearn/utils/validation.py:993: DataConversionWarning: A column-vector y was passed when a 1d array was expected. Please change the shape of y to (n_samples, ), for example using ravel().\n",
            "  y = column_or_1d(y, warn=True)\n",
            "/usr/local/lib/python3.7/dist-packages/sklearn/linear_model/_logistic.py:818: ConvergenceWarning: lbfgs failed to converge (status=1):\n",
            "STOP: TOTAL NO. of ITERATIONS REACHED LIMIT.\n",
            "\n",
            "Increase the number of iterations (max_iter) or scale the data as shown in:\n",
            "    https://scikit-learn.org/stable/modules/preprocessing.html\n",
            "Please also refer to the documentation for alternative solver options:\n",
            "    https://scikit-learn.org/stable/modules/linear_model.html#logistic-regression\n",
            "  extra_warning_msg=_LOGISTIC_SOLVER_CONVERGENCE_MSG,\n",
            "/usr/local/lib/python3.7/dist-packages/sklearn/utils/validation.py:993: DataConversionWarning: A column-vector y was passed when a 1d array was expected. Please change the shape of y to (n_samples, ), for example using ravel().\n",
            "  y = column_or_1d(y, warn=True)\n",
            "/usr/local/lib/python3.7/dist-packages/sklearn/linear_model/_logistic.py:818: ConvergenceWarning: lbfgs failed to converge (status=1):\n",
            "STOP: TOTAL NO. of ITERATIONS REACHED LIMIT.\n",
            "\n",
            "Increase the number of iterations (max_iter) or scale the data as shown in:\n",
            "    https://scikit-learn.org/stable/modules/preprocessing.html\n",
            "Please also refer to the documentation for alternative solver options:\n",
            "    https://scikit-learn.org/stable/modules/linear_model.html#logistic-regression\n",
            "  extra_warning_msg=_LOGISTIC_SOLVER_CONVERGENCE_MSG,\n",
            "/usr/local/lib/python3.7/dist-packages/sklearn/utils/validation.py:993: DataConversionWarning: A column-vector y was passed when a 1d array was expected. Please change the shape of y to (n_samples, ), for example using ravel().\n",
            "  y = column_or_1d(y, warn=True)\n",
            "/usr/local/lib/python3.7/dist-packages/sklearn/linear_model/_logistic.py:818: ConvergenceWarning: lbfgs failed to converge (status=1):\n",
            "STOP: TOTAL NO. of ITERATIONS REACHED LIMIT.\n",
            "\n",
            "Increase the number of iterations (max_iter) or scale the data as shown in:\n",
            "    https://scikit-learn.org/stable/modules/preprocessing.html\n",
            "Please also refer to the documentation for alternative solver options:\n",
            "    https://scikit-learn.org/stable/modules/linear_model.html#logistic-regression\n",
            "  extra_warning_msg=_LOGISTIC_SOLVER_CONVERGENCE_MSG,\n",
            "/usr/local/lib/python3.7/dist-packages/sklearn/utils/validation.py:993: DataConversionWarning: A column-vector y was passed when a 1d array was expected. Please change the shape of y to (n_samples, ), for example using ravel().\n",
            "  y = column_or_1d(y, warn=True)\n",
            "/usr/local/lib/python3.7/dist-packages/sklearn/linear_model/_logistic.py:818: ConvergenceWarning: lbfgs failed to converge (status=1):\n",
            "STOP: TOTAL NO. of ITERATIONS REACHED LIMIT.\n",
            "\n",
            "Increase the number of iterations (max_iter) or scale the data as shown in:\n",
            "    https://scikit-learn.org/stable/modules/preprocessing.html\n",
            "Please also refer to the documentation for alternative solver options:\n",
            "    https://scikit-learn.org/stable/modules/linear_model.html#logistic-regression\n",
            "  extra_warning_msg=_LOGISTIC_SOLVER_CONVERGENCE_MSG,\n",
            "/usr/local/lib/python3.7/dist-packages/sklearn/utils/validation.py:993: DataConversionWarning: A column-vector y was passed when a 1d array was expected. Please change the shape of y to (n_samples, ), for example using ravel().\n",
            "  y = column_or_1d(y, warn=True)\n",
            "/usr/local/lib/python3.7/dist-packages/sklearn/linear_model/_logistic.py:818: ConvergenceWarning: lbfgs failed to converge (status=1):\n",
            "STOP: TOTAL NO. of ITERATIONS REACHED LIMIT.\n",
            "\n",
            "Increase the number of iterations (max_iter) or scale the data as shown in:\n",
            "    https://scikit-learn.org/stable/modules/preprocessing.html\n",
            "Please also refer to the documentation for alternative solver options:\n",
            "    https://scikit-learn.org/stable/modules/linear_model.html#logistic-regression\n",
            "  extra_warning_msg=_LOGISTIC_SOLVER_CONVERGENCE_MSG,\n",
            "/usr/local/lib/python3.7/dist-packages/sklearn/utils/validation.py:993: DataConversionWarning: A column-vector y was passed when a 1d array was expected. Please change the shape of y to (n_samples, ), for example using ravel().\n",
            "  y = column_or_1d(y, warn=True)\n"
          ]
        },
        {
          "name": "stdout",
          "output_type": "stream",
          "text": [
            "Logistic Regression Cross Validation Accuracy: 0.5270123242237698\n"
          ]
        },
        {
          "name": "stderr",
          "output_type": "stream",
          "text": [
            "/usr/local/lib/python3.7/dist-packages/sklearn/linear_model/_logistic.py:818: ConvergenceWarning: lbfgs failed to converge (status=1):\n",
            "STOP: TOTAL NO. of ITERATIONS REACHED LIMIT.\n",
            "\n",
            "Increase the number of iterations (max_iter) or scale the data as shown in:\n",
            "    https://scikit-learn.org/stable/modules/preprocessing.html\n",
            "Please also refer to the documentation for alternative solver options:\n",
            "    https://scikit-learn.org/stable/modules/linear_model.html#logistic-regression\n",
            "  extra_warning_msg=_LOGISTIC_SOLVER_CONVERGENCE_MSG,\n"
          ]
        },
        {
          "data": {
            "text/html": [
              "\n",
              "  <div id=\"df-ec9ba663-d601-4f99-9894-5cfaffc6f836\">\n",
              "    <div class=\"colab-df-container\">\n",
              "      <div>\n",
              "<style scoped>\n",
              "    .dataframe tbody tr th:only-of-type {\n",
              "        vertical-align: middle;\n",
              "    }\n",
              "\n",
              "    .dataframe tbody tr th {\n",
              "        vertical-align: top;\n",
              "    }\n",
              "\n",
              "    .dataframe thead th {\n",
              "        text-align: right;\n",
              "    }\n",
              "</style>\n",
              "<table border=\"1\" class=\"dataframe\">\n",
              "  <thead>\n",
              "    <tr style=\"text-align: right;\">\n",
              "      <th></th>\n",
              "      <th>Predicted Home Win</th>\n",
              "      <th>Predicted Draw</th>\n",
              "      <th>Predicted Away Win</th>\n",
              "    </tr>\n",
              "  </thead>\n",
              "  <tbody>\n",
              "    <tr>\n",
              "      <th>Actual Home Win</th>\n",
              "      <td>3234</td>\n",
              "      <td>4</td>\n",
              "      <td>486</td>\n",
              "    </tr>\n",
              "    <tr>\n",
              "      <th>Actual Draw</th>\n",
              "      <td>1544</td>\n",
              "      <td>0</td>\n",
              "      <td>510</td>\n",
              "    </tr>\n",
              "    <tr>\n",
              "      <th>Actual Away Win</th>\n",
              "      <td>1275</td>\n",
              "      <td>1</td>\n",
              "      <td>1035</td>\n",
              "    </tr>\n",
              "  </tbody>\n",
              "</table>\n",
              "</div>\n",
              "      <button class=\"colab-df-convert\" onclick=\"convertToInteractive('df-ec9ba663-d601-4f99-9894-5cfaffc6f836')\"\n",
              "              title=\"Convert this dataframe to an interactive table.\"\n",
              "              style=\"display:none;\">\n",
              "        \n",
              "  <svg xmlns=\"http://www.w3.org/2000/svg\" height=\"24px\"viewBox=\"0 0 24 24\"\n",
              "       width=\"24px\">\n",
              "    <path d=\"M0 0h24v24H0V0z\" fill=\"none\"/>\n",
              "    <path d=\"M18.56 5.44l.94 2.06.94-2.06 2.06-.94-2.06-.94-.94-2.06-.94 2.06-2.06.94zm-11 1L8.5 8.5l.94-2.06 2.06-.94-2.06-.94L8.5 2.5l-.94 2.06-2.06.94zm10 10l.94 2.06.94-2.06 2.06-.94-2.06-.94-.94-2.06-.94 2.06-2.06.94z\"/><path d=\"M17.41 7.96l-1.37-1.37c-.4-.4-.92-.59-1.43-.59-.52 0-1.04.2-1.43.59L10.3 9.45l-7.72 7.72c-.78.78-.78 2.05 0 2.83L4 21.41c.39.39.9.59 1.41.59.51 0 1.02-.2 1.41-.59l7.78-7.78 2.81-2.81c.8-.78.8-2.07 0-2.86zM5.41 20L4 18.59l7.72-7.72 1.47 1.35L5.41 20z\"/>\n",
              "  </svg>\n",
              "      </button>\n",
              "      \n",
              "  <style>\n",
              "    .colab-df-container {\n",
              "      display:flex;\n",
              "      flex-wrap:wrap;\n",
              "      gap: 12px;\n",
              "    }\n",
              "\n",
              "    .colab-df-convert {\n",
              "      background-color: #E8F0FE;\n",
              "      border: none;\n",
              "      border-radius: 50%;\n",
              "      cursor: pointer;\n",
              "      display: none;\n",
              "      fill: #1967D2;\n",
              "      height: 32px;\n",
              "      padding: 0 0 0 0;\n",
              "      width: 32px;\n",
              "    }\n",
              "\n",
              "    .colab-df-convert:hover {\n",
              "      background-color: #E2EBFA;\n",
              "      box-shadow: 0px 1px 2px rgba(60, 64, 67, 0.3), 0px 1px 3px 1px rgba(60, 64, 67, 0.15);\n",
              "      fill: #174EA6;\n",
              "    }\n",
              "\n",
              "    [theme=dark] .colab-df-convert {\n",
              "      background-color: #3B4455;\n",
              "      fill: #D2E3FC;\n",
              "    }\n",
              "\n",
              "    [theme=dark] .colab-df-convert:hover {\n",
              "      background-color: #434B5C;\n",
              "      box-shadow: 0px 1px 3px 1px rgba(0, 0, 0, 0.15);\n",
              "      filter: drop-shadow(0px 1px 2px rgba(0, 0, 0, 0.3));\n",
              "      fill: #FFFFFF;\n",
              "    }\n",
              "  </style>\n",
              "\n",
              "      <script>\n",
              "        const buttonEl =\n",
              "          document.querySelector('#df-ec9ba663-d601-4f99-9894-5cfaffc6f836 button.colab-df-convert');\n",
              "        buttonEl.style.display =\n",
              "          google.colab.kernel.accessAllowed ? 'block' : 'none';\n",
              "\n",
              "        async function convertToInteractive(key) {\n",
              "          const element = document.querySelector('#df-ec9ba663-d601-4f99-9894-5cfaffc6f836');\n",
              "          const dataTable =\n",
              "            await google.colab.kernel.invokeFunction('convertToInteractive',\n",
              "                                                     [key], {});\n",
              "          if (!dataTable) return;\n",
              "\n",
              "          const docLinkHtml = 'Like what you see? Visit the ' +\n",
              "            '<a target=\"_blank\" href=https://colab.research.google.com/notebooks/data_table.ipynb>data table notebook</a>'\n",
              "            + ' to learn more about interactive tables.';\n",
              "          element.innerHTML = '';\n",
              "          dataTable['output_type'] = 'display_data';\n",
              "          await google.colab.output.renderOutput(dataTable, element);\n",
              "          const docLink = document.createElement('div');\n",
              "          docLink.innerHTML = docLinkHtml;\n",
              "          element.appendChild(docLink);\n",
              "        }\n",
              "      </script>\n",
              "    </div>\n",
              "  </div>\n",
              "  "
            ],
            "text/plain": [
              "                 Predicted Home Win  Predicted Draw  Predicted Away Win\n",
              "Actual Home Win                3234               4                 486\n",
              "Actual Draw                    1544               0                 510\n",
              "Actual Away Win                1275               1                1035"
            ]
          },
          "execution_count": 64,
          "metadata": {},
          "output_type": "execute_result"
        }
      ],
      "source": [
        "logistic_reg=LogisticRegression()\n",
        "logistic_reg.fit(x_train,y_train)\n",
        "print(\"Logistic Regression Accuracy (without cross validation): \"+str(normalized_score(logistic_reg)))\n",
        "print(\"Logistic Regression Cross Validation Accuracy: \"+str(check_score(logistic_reg)))\n",
        "confusion_matrix_model_val(logistic_reg)"
      ]
    },
    {
      "cell_type": "markdown",
      "metadata": {
        "id": "A7IfRN2oCpxx"
      },
      "source": [
        "### Decision Tree Regression"
      ]
    },
    {
      "cell_type": "code",
      "execution_count": null,
      "metadata": {
        "colab": {
          "base_uri": "https://localhost:8080/",
          "height": 179
        },
        "id": "GGXx-qgsCsNG",
        "outputId": "df490887-9c44-460f-e304-933742d9d4f8"
      },
      "outputs": [
        {
          "name": "stdout",
          "output_type": "stream",
          "text": [
            "Decision Tree Regression Accuracy (without cross validation): 0.9749041908764989\n",
            "Decision Tree Regression Cross Validation Accuracy: 0.4278659633577697\n"
          ]
        },
        {
          "data": {
            "text/html": [
              "\n",
              "  <div id=\"df-e410f495-99fe-44b9-9f5e-1cad04499d12\">\n",
              "    <div class=\"colab-df-container\">\n",
              "      <div>\n",
              "<style scoped>\n",
              "    .dataframe tbody tr th:only-of-type {\n",
              "        vertical-align: middle;\n",
              "    }\n",
              "\n",
              "    .dataframe tbody tr th {\n",
              "        vertical-align: top;\n",
              "    }\n",
              "\n",
              "    .dataframe thead th {\n",
              "        text-align: right;\n",
              "    }\n",
              "</style>\n",
              "<table border=\"1\" class=\"dataframe\">\n",
              "  <thead>\n",
              "    <tr style=\"text-align: right;\">\n",
              "      <th></th>\n",
              "      <th>Predicted Home Win</th>\n",
              "      <th>Predicted Draw</th>\n",
              "      <th>Predicted Away Win</th>\n",
              "    </tr>\n",
              "  </thead>\n",
              "  <tbody>\n",
              "    <tr>\n",
              "      <th>Actual Home Win</th>\n",
              "      <td>3722</td>\n",
              "      <td>2</td>\n",
              "      <td>0</td>\n",
              "    </tr>\n",
              "    <tr>\n",
              "      <th>Actual Draw</th>\n",
              "      <td>89</td>\n",
              "      <td>1965</td>\n",
              "      <td>0</td>\n",
              "    </tr>\n",
              "    <tr>\n",
              "      <th>Actual Away Win</th>\n",
              "      <td>63</td>\n",
              "      <td>49</td>\n",
              "      <td>2199</td>\n",
              "    </tr>\n",
              "  </tbody>\n",
              "</table>\n",
              "</div>\n",
              "      <button class=\"colab-df-convert\" onclick=\"convertToInteractive('df-e410f495-99fe-44b9-9f5e-1cad04499d12')\"\n",
              "              title=\"Convert this dataframe to an interactive table.\"\n",
              "              style=\"display:none;\">\n",
              "        \n",
              "  <svg xmlns=\"http://www.w3.org/2000/svg\" height=\"24px\"viewBox=\"0 0 24 24\"\n",
              "       width=\"24px\">\n",
              "    <path d=\"M0 0h24v24H0V0z\" fill=\"none\"/>\n",
              "    <path d=\"M18.56 5.44l.94 2.06.94-2.06 2.06-.94-2.06-.94-.94-2.06-.94 2.06-2.06.94zm-11 1L8.5 8.5l.94-2.06 2.06-.94-2.06-.94L8.5 2.5l-.94 2.06-2.06.94zm10 10l.94 2.06.94-2.06 2.06-.94-2.06-.94-.94-2.06-.94 2.06-2.06.94z\"/><path d=\"M17.41 7.96l-1.37-1.37c-.4-.4-.92-.59-1.43-.59-.52 0-1.04.2-1.43.59L10.3 9.45l-7.72 7.72c-.78.78-.78 2.05 0 2.83L4 21.41c.39.39.9.59 1.41.59.51 0 1.02-.2 1.41-.59l7.78-7.78 2.81-2.81c.8-.78.8-2.07 0-2.86zM5.41 20L4 18.59l7.72-7.72 1.47 1.35L5.41 20z\"/>\n",
              "  </svg>\n",
              "      </button>\n",
              "      \n",
              "  <style>\n",
              "    .colab-df-container {\n",
              "      display:flex;\n",
              "      flex-wrap:wrap;\n",
              "      gap: 12px;\n",
              "    }\n",
              "\n",
              "    .colab-df-convert {\n",
              "      background-color: #E8F0FE;\n",
              "      border: none;\n",
              "      border-radius: 50%;\n",
              "      cursor: pointer;\n",
              "      display: none;\n",
              "      fill: #1967D2;\n",
              "      height: 32px;\n",
              "      padding: 0 0 0 0;\n",
              "      width: 32px;\n",
              "    }\n",
              "\n",
              "    .colab-df-convert:hover {\n",
              "      background-color: #E2EBFA;\n",
              "      box-shadow: 0px 1px 2px rgba(60, 64, 67, 0.3), 0px 1px 3px 1px rgba(60, 64, 67, 0.15);\n",
              "      fill: #174EA6;\n",
              "    }\n",
              "\n",
              "    [theme=dark] .colab-df-convert {\n",
              "      background-color: #3B4455;\n",
              "      fill: #D2E3FC;\n",
              "    }\n",
              "\n",
              "    [theme=dark] .colab-df-convert:hover {\n",
              "      background-color: #434B5C;\n",
              "      box-shadow: 0px 1px 3px 1px rgba(0, 0, 0, 0.15);\n",
              "      filter: drop-shadow(0px 1px 2px rgba(0, 0, 0, 0.3));\n",
              "      fill: #FFFFFF;\n",
              "    }\n",
              "  </style>\n",
              "\n",
              "      <script>\n",
              "        const buttonEl =\n",
              "          document.querySelector('#df-e410f495-99fe-44b9-9f5e-1cad04499d12 button.colab-df-convert');\n",
              "        buttonEl.style.display =\n",
              "          google.colab.kernel.accessAllowed ? 'block' : 'none';\n",
              "\n",
              "        async function convertToInteractive(key) {\n",
              "          const element = document.querySelector('#df-e410f495-99fe-44b9-9f5e-1cad04499d12');\n",
              "          const dataTable =\n",
              "            await google.colab.kernel.invokeFunction('convertToInteractive',\n",
              "                                                     [key], {});\n",
              "          if (!dataTable) return;\n",
              "\n",
              "          const docLinkHtml = 'Like what you see? Visit the ' +\n",
              "            '<a target=\"_blank\" href=https://colab.research.google.com/notebooks/data_table.ipynb>data table notebook</a>'\n",
              "            + ' to learn more about interactive tables.';\n",
              "          element.innerHTML = '';\n",
              "          dataTable['output_type'] = 'display_data';\n",
              "          await google.colab.output.renderOutput(dataTable, element);\n",
              "          const docLink = document.createElement('div');\n",
              "          docLink.innerHTML = docLinkHtml;\n",
              "          element.appendChild(docLink);\n",
              "        }\n",
              "      </script>\n",
              "    </div>\n",
              "  </div>\n",
              "  "
            ],
            "text/plain": [
              "                 Predicted Home Win  Predicted Draw  Predicted Away Win\n",
              "Actual Home Win                3722               2                   0\n",
              "Actual Draw                      89            1965                   0\n",
              "Actual Away Win                  63              49                2199"
            ]
          },
          "execution_count": 65,
          "metadata": {},
          "output_type": "execute_result"
        }
      ],
      "source": [
        "Decision_tree=DecisionTreeClassifier()\n",
        "Decision_tree.fit(x_train,y_train)\n",
        "print(\"Decision Tree Regression Accuracy (without cross validation): \"+str(normalized_score(Decision_tree)))\n",
        "print(\"Decision Tree Regression Cross Validation Accuracy: \"+str(check_score(Decision_tree)))\n",
        "confusion_matrix_model_val(Decision_tree)"
      ]
    },
    {
      "cell_type": "markdown",
      "metadata": {
        "id": "gy_O-eNLC8Dw"
      },
      "source": [
        "### K-Nearest Neighbour Regression"
      ]
    },
    {
      "cell_type": "code",
      "execution_count": null,
      "metadata": {
        "colab": {
          "base_uri": "https://localhost:8080/",
          "height": 589
        },
        "id": "2jppMhUbC-EC",
        "outputId": "cd40361f-73fe-4f27-87f3-e6a373e17ee5"
      },
      "outputs": [
        {
          "name": "stderr",
          "output_type": "stream",
          "text": [
            "/usr/local/lib/python3.7/dist-packages/sklearn/neighbors/_classification.py:198: DataConversionWarning: A column-vector y was passed when a 1d array was expected. Please change the shape of y to (n_samples,), for example using ravel().\n",
            "  return self._fit(X, y)\n"
          ]
        },
        {
          "name": "stdout",
          "output_type": "stream",
          "text": [
            "KNN Regression Accuracy (without cross validation): 0.5617505254048708\n"
          ]
        },
        {
          "name": "stderr",
          "output_type": "stream",
          "text": [
            "/usr/local/lib/python3.7/dist-packages/sklearn/neighbors/_classification.py:198: DataConversionWarning: A column-vector y was passed when a 1d array was expected. Please change the shape of y to (n_samples,), for example using ravel().\n",
            "  return self._fit(X, y)\n",
            "/usr/local/lib/python3.7/dist-packages/sklearn/neighbors/_classification.py:198: DataConversionWarning: A column-vector y was passed when a 1d array was expected. Please change the shape of y to (n_samples,), for example using ravel().\n",
            "  return self._fit(X, y)\n",
            "/usr/local/lib/python3.7/dist-packages/sklearn/neighbors/_classification.py:198: DataConversionWarning: A column-vector y was passed when a 1d array was expected. Please change the shape of y to (n_samples,), for example using ravel().\n",
            "  return self._fit(X, y)\n",
            "/usr/local/lib/python3.7/dist-packages/sklearn/neighbors/_classification.py:198: DataConversionWarning: A column-vector y was passed when a 1d array was expected. Please change the shape of y to (n_samples,), for example using ravel().\n",
            "  return self._fit(X, y)\n",
            "/usr/local/lib/python3.7/dist-packages/sklearn/neighbors/_classification.py:198: DataConversionWarning: A column-vector y was passed when a 1d array was expected. Please change the shape of y to (n_samples,), for example using ravel().\n",
            "  return self._fit(X, y)\n",
            "/usr/local/lib/python3.7/dist-packages/sklearn/neighbors/_classification.py:198: DataConversionWarning: A column-vector y was passed when a 1d array was expected. Please change the shape of y to (n_samples,), for example using ravel().\n",
            "  return self._fit(X, y)\n",
            "/usr/local/lib/python3.7/dist-packages/sklearn/neighbors/_classification.py:198: DataConversionWarning: A column-vector y was passed when a 1d array was expected. Please change the shape of y to (n_samples,), for example using ravel().\n",
            "  return self._fit(X, y)\n",
            "/usr/local/lib/python3.7/dist-packages/sklearn/neighbors/_classification.py:198: DataConversionWarning: A column-vector y was passed when a 1d array was expected. Please change the shape of y to (n_samples,), for example using ravel().\n",
            "  return self._fit(X, y)\n",
            "/usr/local/lib/python3.7/dist-packages/sklearn/neighbors/_classification.py:198: DataConversionWarning: A column-vector y was passed when a 1d array was expected. Please change the shape of y to (n_samples,), for example using ravel().\n",
            "  return self._fit(X, y)\n",
            "/usr/local/lib/python3.7/dist-packages/sklearn/neighbors/_classification.py:198: DataConversionWarning: A column-vector y was passed when a 1d array was expected. Please change the shape of y to (n_samples,), for example using ravel().\n",
            "  return self._fit(X, y)\n"
          ]
        },
        {
          "name": "stdout",
          "output_type": "stream",
          "text": [
            "KNN Regression Cross Validation Accuracy: 0.5064905640749489\n"
          ]
        },
        {
          "data": {
            "text/html": [
              "\n",
              "  <div id=\"df-fde900ba-facd-4eab-9132-81d6e545fe19\">\n",
              "    <div class=\"colab-df-container\">\n",
              "      <div>\n",
              "<style scoped>\n",
              "    .dataframe tbody tr th:only-of-type {\n",
              "        vertical-align: middle;\n",
              "    }\n",
              "\n",
              "    .dataframe tbody tr th {\n",
              "        vertical-align: top;\n",
              "    }\n",
              "\n",
              "    .dataframe thead th {\n",
              "        text-align: right;\n",
              "    }\n",
              "</style>\n",
              "<table border=\"1\" class=\"dataframe\">\n",
              "  <thead>\n",
              "    <tr style=\"text-align: right;\">\n",
              "      <th></th>\n",
              "      <th>Predicted Home Win</th>\n",
              "      <th>Predicted Draw</th>\n",
              "      <th>Predicted Away Win</th>\n",
              "    </tr>\n",
              "  </thead>\n",
              "  <tbody>\n",
              "    <tr>\n",
              "      <th>Actual Home Win</th>\n",
              "      <td>3030</td>\n",
              "      <td>259</td>\n",
              "      <td>435</td>\n",
              "    </tr>\n",
              "    <tr>\n",
              "      <th>Actual Draw</th>\n",
              "      <td>1185</td>\n",
              "      <td>432</td>\n",
              "      <td>437</td>\n",
              "    </tr>\n",
              "    <tr>\n",
              "      <th>Actual Away Win</th>\n",
              "      <td>981</td>\n",
              "      <td>248</td>\n",
              "      <td>1082</td>\n",
              "    </tr>\n",
              "  </tbody>\n",
              "</table>\n",
              "</div>\n",
              "      <button class=\"colab-df-convert\" onclick=\"convertToInteractive('df-fde900ba-facd-4eab-9132-81d6e545fe19')\"\n",
              "              title=\"Convert this dataframe to an interactive table.\"\n",
              "              style=\"display:none;\">\n",
              "        \n",
              "  <svg xmlns=\"http://www.w3.org/2000/svg\" height=\"24px\"viewBox=\"0 0 24 24\"\n",
              "       width=\"24px\">\n",
              "    <path d=\"M0 0h24v24H0V0z\" fill=\"none\"/>\n",
              "    <path d=\"M18.56 5.44l.94 2.06.94-2.06 2.06-.94-2.06-.94-.94-2.06-.94 2.06-2.06.94zm-11 1L8.5 8.5l.94-2.06 2.06-.94-2.06-.94L8.5 2.5l-.94 2.06-2.06.94zm10 10l.94 2.06.94-2.06 2.06-.94-2.06-.94-.94-2.06-.94 2.06-2.06.94z\"/><path d=\"M17.41 7.96l-1.37-1.37c-.4-.4-.92-.59-1.43-.59-.52 0-1.04.2-1.43.59L10.3 9.45l-7.72 7.72c-.78.78-.78 2.05 0 2.83L4 21.41c.39.39.9.59 1.41.59.51 0 1.02-.2 1.41-.59l7.78-7.78 2.81-2.81c.8-.78.8-2.07 0-2.86zM5.41 20L4 18.59l7.72-7.72 1.47 1.35L5.41 20z\"/>\n",
              "  </svg>\n",
              "      </button>\n",
              "      \n",
              "  <style>\n",
              "    .colab-df-container {\n",
              "      display:flex;\n",
              "      flex-wrap:wrap;\n",
              "      gap: 12px;\n",
              "    }\n",
              "\n",
              "    .colab-df-convert {\n",
              "      background-color: #E8F0FE;\n",
              "      border: none;\n",
              "      border-radius: 50%;\n",
              "      cursor: pointer;\n",
              "      display: none;\n",
              "      fill: #1967D2;\n",
              "      height: 32px;\n",
              "      padding: 0 0 0 0;\n",
              "      width: 32px;\n",
              "    }\n",
              "\n",
              "    .colab-df-convert:hover {\n",
              "      background-color: #E2EBFA;\n",
              "      box-shadow: 0px 1px 2px rgba(60, 64, 67, 0.3), 0px 1px 3px 1px rgba(60, 64, 67, 0.15);\n",
              "      fill: #174EA6;\n",
              "    }\n",
              "\n",
              "    [theme=dark] .colab-df-convert {\n",
              "      background-color: #3B4455;\n",
              "      fill: #D2E3FC;\n",
              "    }\n",
              "\n",
              "    [theme=dark] .colab-df-convert:hover {\n",
              "      background-color: #434B5C;\n",
              "      box-shadow: 0px 1px 3px 1px rgba(0, 0, 0, 0.15);\n",
              "      filter: drop-shadow(0px 1px 2px rgba(0, 0, 0, 0.3));\n",
              "      fill: #FFFFFF;\n",
              "    }\n",
              "  </style>\n",
              "\n",
              "      <script>\n",
              "        const buttonEl =\n",
              "          document.querySelector('#df-fde900ba-facd-4eab-9132-81d6e545fe19 button.colab-df-convert');\n",
              "        buttonEl.style.display =\n",
              "          google.colab.kernel.accessAllowed ? 'block' : 'none';\n",
              "\n",
              "        async function convertToInteractive(key) {\n",
              "          const element = document.querySelector('#df-fde900ba-facd-4eab-9132-81d6e545fe19');\n",
              "          const dataTable =\n",
              "            await google.colab.kernel.invokeFunction('convertToInteractive',\n",
              "                                                     [key], {});\n",
              "          if (!dataTable) return;\n",
              "\n",
              "          const docLinkHtml = 'Like what you see? Visit the ' +\n",
              "            '<a target=\"_blank\" href=https://colab.research.google.com/notebooks/data_table.ipynb>data table notebook</a>'\n",
              "            + ' to learn more about interactive tables.';\n",
              "          element.innerHTML = '';\n",
              "          dataTable['output_type'] = 'display_data';\n",
              "          await google.colab.output.renderOutput(dataTable, element);\n",
              "          const docLink = document.createElement('div');\n",
              "          docLink.innerHTML = docLinkHtml;\n",
              "          element.appendChild(docLink);\n",
              "        }\n",
              "      </script>\n",
              "    </div>\n",
              "  </div>\n",
              "  "
            ],
            "text/plain": [
              "                 Predicted Home Win  Predicted Draw  Predicted Away Win\n",
              "Actual Home Win                3030             259                 435\n",
              "Actual Draw                    1185             432                 437\n",
              "Actual Away Win                 981             248                1082"
            ]
          },
          "execution_count": 67,
          "metadata": {},
          "output_type": "execute_result"
        }
      ],
      "source": [
        "KNN_model=KNeighborsClassifier(n_neighbors=20)\n",
        "KNN_model.fit(x_train,y_train)\n",
        "print(\"KNN Regression Accuracy (without cross validation): \"+str(normalized_score(KNN_model)))\n",
        "print(\"KNN Regression Cross Validation Accuracy: \"+str(check_score(KNN_model)))\n",
        "confusion_matrix_model_val(KNN_model)"
      ]
    },
    {
      "cell_type": "markdown",
      "metadata": {
        "id": "Kr9m2RMmDGrS"
      },
      "source": [
        "### Support Vector Machine"
      ]
    },
    {
      "cell_type": "code",
      "execution_count": null,
      "metadata": {
        "id": "dHFpFvo4DK8-"
      },
      "outputs": [],
      "source": [
        "from sklearn.svm import SVC, LinearSVC\n",
        "from sklearn import svm"
      ]
    },
    {
      "cell_type": "code",
      "execution_count": null,
      "metadata": {
        "colab": {
          "base_uri": "https://localhost:8080/",
          "height": 589
        },
        "id": "61wqLkUGDayP",
        "outputId": "64af1e69-2098-4024-a3c6-0b7477622440"
      },
      "outputs": [
        {
          "name": "stderr",
          "output_type": "stream",
          "text": [
            "/usr/local/lib/python3.7/dist-packages/sklearn/utils/validation.py:993: DataConversionWarning: A column-vector y was passed when a 1d array was expected. Please change the shape of y to (n_samples, ), for example using ravel().\n",
            "  y = column_or_1d(y, warn=True)\n"
          ]
        },
        {
          "name": "stdout",
          "output_type": "stream",
          "text": [
            "SVM Regression Accuracy (without cross validation): 0.5262702435406107\n"
          ]
        },
        {
          "name": "stderr",
          "output_type": "stream",
          "text": [
            "/usr/local/lib/python3.7/dist-packages/sklearn/utils/validation.py:993: DataConversionWarning: A column-vector y was passed when a 1d array was expected. Please change the shape of y to (n_samples, ), for example using ravel().\n",
            "  y = column_or_1d(y, warn=True)\n",
            "/usr/local/lib/python3.7/dist-packages/sklearn/utils/validation.py:993: DataConversionWarning: A column-vector y was passed when a 1d array was expected. Please change the shape of y to (n_samples, ), for example using ravel().\n",
            "  y = column_or_1d(y, warn=True)\n",
            "/usr/local/lib/python3.7/dist-packages/sklearn/utils/validation.py:993: DataConversionWarning: A column-vector y was passed when a 1d array was expected. Please change the shape of y to (n_samples, ), for example using ravel().\n",
            "  y = column_or_1d(y, warn=True)\n",
            "/usr/local/lib/python3.7/dist-packages/sklearn/utils/validation.py:993: DataConversionWarning: A column-vector y was passed when a 1d array was expected. Please change the shape of y to (n_samples, ), for example using ravel().\n",
            "  y = column_or_1d(y, warn=True)\n",
            "/usr/local/lib/python3.7/dist-packages/sklearn/utils/validation.py:993: DataConversionWarning: A column-vector y was passed when a 1d array was expected. Please change the shape of y to (n_samples, ), for example using ravel().\n",
            "  y = column_or_1d(y, warn=True)\n",
            "/usr/local/lib/python3.7/dist-packages/sklearn/utils/validation.py:993: DataConversionWarning: A column-vector y was passed when a 1d array was expected. Please change the shape of y to (n_samples, ), for example using ravel().\n",
            "  y = column_or_1d(y, warn=True)\n",
            "/usr/local/lib/python3.7/dist-packages/sklearn/utils/validation.py:993: DataConversionWarning: A column-vector y was passed when a 1d array was expected. Please change the shape of y to (n_samples, ), for example using ravel().\n",
            "  y = column_or_1d(y, warn=True)\n",
            "/usr/local/lib/python3.7/dist-packages/sklearn/utils/validation.py:993: DataConversionWarning: A column-vector y was passed when a 1d array was expected. Please change the shape of y to (n_samples, ), for example using ravel().\n",
            "  y = column_or_1d(y, warn=True)\n",
            "/usr/local/lib/python3.7/dist-packages/sklearn/utils/validation.py:993: DataConversionWarning: A column-vector y was passed when a 1d array was expected. Please change the shape of y to (n_samples, ), for example using ravel().\n",
            "  y = column_or_1d(y, warn=True)\n",
            "/usr/local/lib/python3.7/dist-packages/sklearn/utils/validation.py:993: DataConversionWarning: A column-vector y was passed when a 1d array was expected. Please change the shape of y to (n_samples, ), for example using ravel().\n",
            "  y = column_or_1d(y, warn=True)\n"
          ]
        },
        {
          "name": "stdout",
          "output_type": "stream",
          "text": [
            "SVM Regression Cross Validation Accuracy: 0.5260249788884945\n"
          ]
        },
        {
          "data": {
            "text/html": [
              "\n",
              "  <div id=\"df-0d9aae46-49fe-4e5a-8920-1d45e72ff930\">\n",
              "    <div class=\"colab-df-container\">\n",
              "      <div>\n",
              "<style scoped>\n",
              "    .dataframe tbody tr th:only-of-type {\n",
              "        vertical-align: middle;\n",
              "    }\n",
              "\n",
              "    .dataframe tbody tr th {\n",
              "        vertical-align: top;\n",
              "    }\n",
              "\n",
              "    .dataframe thead th {\n",
              "        text-align: right;\n",
              "    }\n",
              "</style>\n",
              "<table border=\"1\" class=\"dataframe\">\n",
              "  <thead>\n",
              "    <tr style=\"text-align: right;\">\n",
              "      <th></th>\n",
              "      <th>Predicted Home Win</th>\n",
              "      <th>Predicted Draw</th>\n",
              "      <th>Predicted Away Win</th>\n",
              "    </tr>\n",
              "  </thead>\n",
              "  <tbody>\n",
              "    <tr>\n",
              "      <th>Actual Home Win</th>\n",
              "      <td>3352</td>\n",
              "      <td>0</td>\n",
              "      <td>372</td>\n",
              "    </tr>\n",
              "    <tr>\n",
              "      <th>Actual Draw</th>\n",
              "      <td>1660</td>\n",
              "      <td>0</td>\n",
              "      <td>394</td>\n",
              "    </tr>\n",
              "    <tr>\n",
              "      <th>Actual Away Win</th>\n",
              "      <td>1406</td>\n",
              "      <td>0</td>\n",
              "      <td>905</td>\n",
              "    </tr>\n",
              "  </tbody>\n",
              "</table>\n",
              "</div>\n",
              "      <button class=\"colab-df-convert\" onclick=\"convertToInteractive('df-0d9aae46-49fe-4e5a-8920-1d45e72ff930')\"\n",
              "              title=\"Convert this dataframe to an interactive table.\"\n",
              "              style=\"display:none;\">\n",
              "        \n",
              "  <svg xmlns=\"http://www.w3.org/2000/svg\" height=\"24px\"viewBox=\"0 0 24 24\"\n",
              "       width=\"24px\">\n",
              "    <path d=\"M0 0h24v24H0V0z\" fill=\"none\"/>\n",
              "    <path d=\"M18.56 5.44l.94 2.06.94-2.06 2.06-.94-2.06-.94-.94-2.06-.94 2.06-2.06.94zm-11 1L8.5 8.5l.94-2.06 2.06-.94-2.06-.94L8.5 2.5l-.94 2.06-2.06.94zm10 10l.94 2.06.94-2.06 2.06-.94-2.06-.94-.94-2.06-.94 2.06-2.06.94z\"/><path d=\"M17.41 7.96l-1.37-1.37c-.4-.4-.92-.59-1.43-.59-.52 0-1.04.2-1.43.59L10.3 9.45l-7.72 7.72c-.78.78-.78 2.05 0 2.83L4 21.41c.39.39.9.59 1.41.59.51 0 1.02-.2 1.41-.59l7.78-7.78 2.81-2.81c.8-.78.8-2.07 0-2.86zM5.41 20L4 18.59l7.72-7.72 1.47 1.35L5.41 20z\"/>\n",
              "  </svg>\n",
              "      </button>\n",
              "      \n",
              "  <style>\n",
              "    .colab-df-container {\n",
              "      display:flex;\n",
              "      flex-wrap:wrap;\n",
              "      gap: 12px;\n",
              "    }\n",
              "\n",
              "    .colab-df-convert {\n",
              "      background-color: #E8F0FE;\n",
              "      border: none;\n",
              "      border-radius: 50%;\n",
              "      cursor: pointer;\n",
              "      display: none;\n",
              "      fill: #1967D2;\n",
              "      height: 32px;\n",
              "      padding: 0 0 0 0;\n",
              "      width: 32px;\n",
              "    }\n",
              "\n",
              "    .colab-df-convert:hover {\n",
              "      background-color: #E2EBFA;\n",
              "      box-shadow: 0px 1px 2px rgba(60, 64, 67, 0.3), 0px 1px 3px 1px rgba(60, 64, 67, 0.15);\n",
              "      fill: #174EA6;\n",
              "    }\n",
              "\n",
              "    [theme=dark] .colab-df-convert {\n",
              "      background-color: #3B4455;\n",
              "      fill: #D2E3FC;\n",
              "    }\n",
              "\n",
              "    [theme=dark] .colab-df-convert:hover {\n",
              "      background-color: #434B5C;\n",
              "      box-shadow: 0px 1px 3px 1px rgba(0, 0, 0, 0.15);\n",
              "      filter: drop-shadow(0px 1px 2px rgba(0, 0, 0, 0.3));\n",
              "      fill: #FFFFFF;\n",
              "    }\n",
              "  </style>\n",
              "\n",
              "      <script>\n",
              "        const buttonEl =\n",
              "          document.querySelector('#df-0d9aae46-49fe-4e5a-8920-1d45e72ff930 button.colab-df-convert');\n",
              "        buttonEl.style.display =\n",
              "          google.colab.kernel.accessAllowed ? 'block' : 'none';\n",
              "\n",
              "        async function convertToInteractive(key) {\n",
              "          const element = document.querySelector('#df-0d9aae46-49fe-4e5a-8920-1d45e72ff930');\n",
              "          const dataTable =\n",
              "            await google.colab.kernel.invokeFunction('convertToInteractive',\n",
              "                                                     [key], {});\n",
              "          if (!dataTable) return;\n",
              "\n",
              "          const docLinkHtml = 'Like what you see? Visit the ' +\n",
              "            '<a target=\"_blank\" href=https://colab.research.google.com/notebooks/data_table.ipynb>data table notebook</a>'\n",
              "            + ' to learn more about interactive tables.';\n",
              "          element.innerHTML = '';\n",
              "          dataTable['output_type'] = 'display_data';\n",
              "          await google.colab.output.renderOutput(dataTable, element);\n",
              "          const docLink = document.createElement('div');\n",
              "          docLink.innerHTML = docLinkHtml;\n",
              "          element.appendChild(docLink);\n",
              "        }\n",
              "      </script>\n",
              "    </div>\n",
              "  </div>\n",
              "  "
            ],
            "text/plain": [
              "                 Predicted Home Win  Predicted Draw  Predicted Away Win\n",
              "Actual Home Win                3352               0                 372\n",
              "Actual Draw                    1660               0                 394\n",
              "Actual Away Win                1406               0                 905"
            ]
          },
          "execution_count": 72,
          "metadata": {},
          "output_type": "execute_result"
        }
      ],
      "source": [
        "svm_reg_model=svm.SVC()\n",
        "svm_reg_model.fit(x_train,y_train)\n",
        "print(\"SVM Regression Accuracy (without cross validation): \"+str(normalized_score(svm_reg_model)))\n",
        "print(\"SVM Regression Cross Validation Accuracy: \"+str(check_score(svm_reg_model)))\n",
        "confusion_matrix_model_val(svm_reg_model)"
      ]
    },
    {
      "cell_type": "markdown",
      "metadata": {
        "id": "3SWIbLMzDy4W"
      },
      "source": [
        "### Multinomial Naive Bayes"
      ]
    },
    {
      "cell_type": "code",
      "execution_count": null,
      "metadata": {
        "colab": {
          "base_uri": "https://localhost:8080/",
          "height": 589
        },
        "id": "G0UOQ2ViD1CT",
        "outputId": "92826fcf-4dcd-485e-ba83-efd1d48df28b"
      },
      "outputs": [
        {
          "name": "stdout",
          "output_type": "stream",
          "text": [
            "Multinomial Naive Bayes Regression Accuracy (without cross validation): 0.49091358635183585\n",
            "Multinomial Naive Bayes Regression Cross Validation Accuracy: 0.49066336021735674\n"
          ]
        },
        {
          "name": "stderr",
          "output_type": "stream",
          "text": [
            "/usr/local/lib/python3.7/dist-packages/sklearn/utils/validation.py:993: DataConversionWarning: A column-vector y was passed when a 1d array was expected. Please change the shape of y to (n_samples, ), for example using ravel().\n",
            "  y = column_or_1d(y, warn=True)\n",
            "/usr/local/lib/python3.7/dist-packages/sklearn/utils/validation.py:993: DataConversionWarning: A column-vector y was passed when a 1d array was expected. Please change the shape of y to (n_samples, ), for example using ravel().\n",
            "  y = column_or_1d(y, warn=True)\n",
            "/usr/local/lib/python3.7/dist-packages/sklearn/utils/validation.py:993: DataConversionWarning: A column-vector y was passed when a 1d array was expected. Please change the shape of y to (n_samples, ), for example using ravel().\n",
            "  y = column_or_1d(y, warn=True)\n",
            "/usr/local/lib/python3.7/dist-packages/sklearn/utils/validation.py:993: DataConversionWarning: A column-vector y was passed when a 1d array was expected. Please change the shape of y to (n_samples, ), for example using ravel().\n",
            "  y = column_or_1d(y, warn=True)\n",
            "/usr/local/lib/python3.7/dist-packages/sklearn/utils/validation.py:993: DataConversionWarning: A column-vector y was passed when a 1d array was expected. Please change the shape of y to (n_samples, ), for example using ravel().\n",
            "  y = column_or_1d(y, warn=True)\n",
            "/usr/local/lib/python3.7/dist-packages/sklearn/utils/validation.py:993: DataConversionWarning: A column-vector y was passed when a 1d array was expected. Please change the shape of y to (n_samples, ), for example using ravel().\n",
            "  y = column_or_1d(y, warn=True)\n",
            "/usr/local/lib/python3.7/dist-packages/sklearn/utils/validation.py:993: DataConversionWarning: A column-vector y was passed when a 1d array was expected. Please change the shape of y to (n_samples, ), for example using ravel().\n",
            "  y = column_or_1d(y, warn=True)\n",
            "/usr/local/lib/python3.7/dist-packages/sklearn/utils/validation.py:993: DataConversionWarning: A column-vector y was passed when a 1d array was expected. Please change the shape of y to (n_samples, ), for example using ravel().\n",
            "  y = column_or_1d(y, warn=True)\n",
            "/usr/local/lib/python3.7/dist-packages/sklearn/utils/validation.py:993: DataConversionWarning: A column-vector y was passed when a 1d array was expected. Please change the shape of y to (n_samples, ), for example using ravel().\n",
            "  y = column_or_1d(y, warn=True)\n",
            "/usr/local/lib/python3.7/dist-packages/sklearn/utils/validation.py:993: DataConversionWarning: A column-vector y was passed when a 1d array was expected. Please change the shape of y to (n_samples, ), for example using ravel().\n",
            "  y = column_or_1d(y, warn=True)\n",
            "/usr/local/lib/python3.7/dist-packages/sklearn/utils/validation.py:993: DataConversionWarning: A column-vector y was passed when a 1d array was expected. Please change the shape of y to (n_samples, ), for example using ravel().\n",
            "  y = column_or_1d(y, warn=True)\n"
          ]
        },
        {
          "data": {
            "text/html": [
              "\n",
              "  <div id=\"df-4d8644ec-ebc9-4e64-8a16-946d29c45961\">\n",
              "    <div class=\"colab-df-container\">\n",
              "      <div>\n",
              "<style scoped>\n",
              "    .dataframe tbody tr th:only-of-type {\n",
              "        vertical-align: middle;\n",
              "    }\n",
              "\n",
              "    .dataframe tbody tr th {\n",
              "        vertical-align: top;\n",
              "    }\n",
              "\n",
              "    .dataframe thead th {\n",
              "        text-align: right;\n",
              "    }\n",
              "</style>\n",
              "<table border=\"1\" class=\"dataframe\">\n",
              "  <thead>\n",
              "    <tr style=\"text-align: right;\">\n",
              "      <th></th>\n",
              "      <th>Predicted Home Win</th>\n",
              "      <th>Predicted Draw</th>\n",
              "      <th>Predicted Away Win</th>\n",
              "    </tr>\n",
              "  </thead>\n",
              "  <tbody>\n",
              "    <tr>\n",
              "      <th>Actual Home Win</th>\n",
              "      <td>2060</td>\n",
              "      <td>895</td>\n",
              "      <td>769</td>\n",
              "    </tr>\n",
              "    <tr>\n",
              "      <th>Actual Draw</th>\n",
              "      <td>686</td>\n",
              "      <td>601</td>\n",
              "      <td>767</td>\n",
              "    </tr>\n",
              "    <tr>\n",
              "      <th>Actual Away Win</th>\n",
              "      <td>472</td>\n",
              "      <td>529</td>\n",
              "      <td>1310</td>\n",
              "    </tr>\n",
              "  </tbody>\n",
              "</table>\n",
              "</div>\n",
              "      <button class=\"colab-df-convert\" onclick=\"convertToInteractive('df-4d8644ec-ebc9-4e64-8a16-946d29c45961')\"\n",
              "              title=\"Convert this dataframe to an interactive table.\"\n",
              "              style=\"display:none;\">\n",
              "        \n",
              "  <svg xmlns=\"http://www.w3.org/2000/svg\" height=\"24px\"viewBox=\"0 0 24 24\"\n",
              "       width=\"24px\">\n",
              "    <path d=\"M0 0h24v24H0V0z\" fill=\"none\"/>\n",
              "    <path d=\"M18.56 5.44l.94 2.06.94-2.06 2.06-.94-2.06-.94-.94-2.06-.94 2.06-2.06.94zm-11 1L8.5 8.5l.94-2.06 2.06-.94-2.06-.94L8.5 2.5l-.94 2.06-2.06.94zm10 10l.94 2.06.94-2.06 2.06-.94-2.06-.94-.94-2.06-.94 2.06-2.06.94z\"/><path d=\"M17.41 7.96l-1.37-1.37c-.4-.4-.92-.59-1.43-.59-.52 0-1.04.2-1.43.59L10.3 9.45l-7.72 7.72c-.78.78-.78 2.05 0 2.83L4 21.41c.39.39.9.59 1.41.59.51 0 1.02-.2 1.41-.59l7.78-7.78 2.81-2.81c.8-.78.8-2.07 0-2.86zM5.41 20L4 18.59l7.72-7.72 1.47 1.35L5.41 20z\"/>\n",
              "  </svg>\n",
              "      </button>\n",
              "      \n",
              "  <style>\n",
              "    .colab-df-container {\n",
              "      display:flex;\n",
              "      flex-wrap:wrap;\n",
              "      gap: 12px;\n",
              "    }\n",
              "\n",
              "    .colab-df-convert {\n",
              "      background-color: #E8F0FE;\n",
              "      border: none;\n",
              "      border-radius: 50%;\n",
              "      cursor: pointer;\n",
              "      display: none;\n",
              "      fill: #1967D2;\n",
              "      height: 32px;\n",
              "      padding: 0 0 0 0;\n",
              "      width: 32px;\n",
              "    }\n",
              "\n",
              "    .colab-df-convert:hover {\n",
              "      background-color: #E2EBFA;\n",
              "      box-shadow: 0px 1px 2px rgba(60, 64, 67, 0.3), 0px 1px 3px 1px rgba(60, 64, 67, 0.15);\n",
              "      fill: #174EA6;\n",
              "    }\n",
              "\n",
              "    [theme=dark] .colab-df-convert {\n",
              "      background-color: #3B4455;\n",
              "      fill: #D2E3FC;\n",
              "    }\n",
              "\n",
              "    [theme=dark] .colab-df-convert:hover {\n",
              "      background-color: #434B5C;\n",
              "      box-shadow: 0px 1px 3px 1px rgba(0, 0, 0, 0.15);\n",
              "      filter: drop-shadow(0px 1px 2px rgba(0, 0, 0, 0.3));\n",
              "      fill: #FFFFFF;\n",
              "    }\n",
              "  </style>\n",
              "\n",
              "      <script>\n",
              "        const buttonEl =\n",
              "          document.querySelector('#df-4d8644ec-ebc9-4e64-8a16-946d29c45961 button.colab-df-convert');\n",
              "        buttonEl.style.display =\n",
              "          google.colab.kernel.accessAllowed ? 'block' : 'none';\n",
              "\n",
              "        async function convertToInteractive(key) {\n",
              "          const element = document.querySelector('#df-4d8644ec-ebc9-4e64-8a16-946d29c45961');\n",
              "          const dataTable =\n",
              "            await google.colab.kernel.invokeFunction('convertToInteractive',\n",
              "                                                     [key], {});\n",
              "          if (!dataTable) return;\n",
              "\n",
              "          const docLinkHtml = 'Like what you see? Visit the ' +\n",
              "            '<a target=\"_blank\" href=https://colab.research.google.com/notebooks/data_table.ipynb>data table notebook</a>'\n",
              "            + ' to learn more about interactive tables.';\n",
              "          element.innerHTML = '';\n",
              "          dataTable['output_type'] = 'display_data';\n",
              "          await google.colab.output.renderOutput(dataTable, element);\n",
              "          const docLink = document.createElement('div');\n",
              "          docLink.innerHTML = docLinkHtml;\n",
              "          element.appendChild(docLink);\n",
              "        }\n",
              "      </script>\n",
              "    </div>\n",
              "  </div>\n",
              "  "
            ],
            "text/plain": [
              "                 Predicted Home Win  Predicted Draw  Predicted Away Win\n",
              "Actual Home Win                2060             895                 769\n",
              "Actual Draw                     686             601                 767\n",
              "Actual Away Win                 472             529                1310"
            ]
          },
          "execution_count": 71,
          "metadata": {},
          "output_type": "execute_result"
        }
      ],
      "source": [
        "from sklearn.naive_bayes import MultinomialNB\n",
        "naive_bayes_model=MultinomialNB()\n",
        "naive_bayes_model.fit(x_train,y_train)\n",
        "print(\"Multinomial Naive Bayes Regression Accuracy (without cross validation): \"+str(normalized_score(naive_bayes_model)))\n",
        "print(\"Multinomial Naive Bayes Regression Cross Validation Accuracy: \"+str(check_score(naive_bayes_model)))\n",
        "confusion_matrix_model_val(naive_bayes_model)"
      ]
    }
  ],
  "metadata": {
    "colab": {
      "collapsed_sections": [],
      "name": "Assignment5.ipynb",
      "provenance": [],
      "include_colab_link": true
    },
    "kernelspec": {
      "display_name": "Python 3",
      "name": "python3"
    },
    "language_info": {
      "name": "python"
    }
  },
  "nbformat": 4,
  "nbformat_minor": 0
}